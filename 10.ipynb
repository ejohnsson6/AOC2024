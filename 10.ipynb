{
 "cells": [
  {
   "cell_type": "code",
   "execution_count": 1,
   "metadata": {},
   "outputs": [],
   "source": [
    "from pathlib import Path\n",
    "import numpy as np\n",
    "from utils.get_input import get_input\n",
    "\n",
    "\n",
    "inp = Path(\"./test_input\").read_text()\n",
    "inp = get_input(10)\n",
    "inp;"
   ]
  },
  {
   "cell_type": "code",
   "execution_count": 46,
   "metadata": {},
   "outputs": [
    {
     "name": "stdout",
     "output_type": "stream",
     "text": [
      "389 μs ± 5.41 μs per loop (mean ± std. dev. of 7 runs, 1,000 loops each)\n"
     ]
    }
   ],
   "source": [
    "%%timeit\n",
    "inp_np = np.array([[int(x) for x in list(row)] for row in inp.split(\"\\n\") if row])"
   ]
  },
  {
   "cell_type": "code",
   "execution_count": null,
   "metadata": {},
   "outputs": [
    {
     "data": {
      "text/plain": [
       "760"
      ]
     },
     "execution_count": 41,
     "metadata": {},
     "output_type": "execute_result"
    }
   ],
   "source": [
    "def add_next_coords_rec(y, x, in_path_set):\n",
    "    curr_val = inp_np[y, x]\n",
    "    # Get adjacent coords\n",
    "    surrounding_coords = []\n",
    "    if x > 0:\n",
    "        surrounding_coords.append((y, x - 1))\n",
    "    if x < inp_np.shape[1] - 1:\n",
    "        surrounding_coords.append((y, x + 1))\n",
    "    if y > 0:\n",
    "        surrounding_coords.append((y - 1, x))\n",
    "    if y < inp_np.shape[0] - 1:\n",
    "        surrounding_coords.append((y + 1, x))\n",
    "    for y2, x2 in surrounding_coords:\n",
    "        if inp_np[y2, x2] - 1 == curr_val:\n",
    "            in_path_set.add((y2, x2))\n",
    "            add_next_coords_rec(y2, x2, in_path_set)\n",
    "\n",
    "\n",
    "def part1():\n",
    "    trailheads = np.argwhere(inp_np == 0)\n",
    "    sum = 0\n",
    "    for y, x in trailheads:\n",
    "        in_path_set = set()\n",
    "        add_next_coords_rec(y, x, in_path_set)\n",
    "        trail_sum = 0\n",
    "        for y2, x2 in in_path_set:\n",
    "            if inp_np[y2, x2] == 9:\n",
    "                trail_sum += 1\n",
    "        sum += trail_sum\n",
    "\n",
    "    return sum\n",
    "\n",
    "\n",
    "part1()"
   ]
  },
  {
   "cell_type": "code",
   "execution_count": 42,
   "metadata": {},
   "outputs": [
    {
     "name": "stdout",
     "output_type": "stream",
     "text": [
      "17.3 ms ± 101 μs per loop (mean ± std. dev. of 7 runs, 100 loops each)\n"
     ]
    }
   ],
   "source": [
    "%%timeit\n",
    "part1()"
   ]
  },
  {
   "cell_type": "code",
   "execution_count": null,
   "metadata": {},
   "outputs": [
    {
     "data": {
      "text/plain": [
       "np.int64(1764)"
      ]
     },
     "execution_count": 44,
     "metadata": {},
     "output_type": "execute_result"
    }
   ],
   "source": [
    "def build_n_paths_to_x(y, x, n_paths_to_x):\n",
    "    curr_val = inp_np[y, x]\n",
    "    # Get adjacent coords\n",
    "    surrounding_coords = []\n",
    "    if x > 0:\n",
    "        surrounding_coords.append((y, x - 1))\n",
    "    if x < inp_np.shape[1] - 1:\n",
    "        surrounding_coords.append((y, x + 1))\n",
    "    if y > 0:\n",
    "        surrounding_coords.append((y - 1, x))\n",
    "    if y < inp_np.shape[0] - 1:\n",
    "        surrounding_coords.append((y + 1, x))\n",
    "    for y2, x2 in surrounding_coords:\n",
    "        if inp_np[y2, x2] - 1 == curr_val:\n",
    "            n_paths_to_x[y2, x2] += 1\n",
    "            build_n_paths_to_x(y2, x2, n_paths_to_x)\n",
    "\n",
    "\n",
    "def part2():\n",
    "    trailheads = np.argwhere(inp_np == 0)\n",
    "    trailends = np.argwhere(inp_np == 9)\n",
    "    sum = 0\n",
    "\n",
    "    for y, x in trailheads:\n",
    "        n_paths_to_x = np.zeros_like(inp_np)\n",
    "        build_n_paths_to_x(y, x, n_paths_to_x)\n",
    "        trail_sum = 0\n",
    "        for y2, x2 in trailends:\n",
    "            trail_sum += n_paths_to_x[y2, x2]\n",
    "        sum += trail_sum\n",
    "\n",
    "    return sum\n",
    "\n",
    "\n",
    "part2()"
   ]
  },
  {
   "cell_type": "code",
   "execution_count": 45,
   "metadata": {},
   "outputs": [
    {
     "name": "stdout",
     "output_type": "stream",
     "text": [
      "103 ms ± 2.6 ms per loop (mean ± std. dev. of 7 runs, 10 loops each)\n"
     ]
    }
   ],
   "source": [
    "%%timeit\n",
    "part2()"
   ]
  }
 ],
 "metadata": {
  "kernelspec": {
   "display_name": ".venv",
   "language": "python",
   "name": "python3"
  },
  "language_info": {
   "codemirror_mode": {
    "name": "ipython",
    "version": 3
   },
   "file_extension": ".py",
   "mimetype": "text/x-python",
   "name": "python",
   "nbconvert_exporter": "python",
   "pygments_lexer": "ipython3",
   "version": "3.13.0"
  }
 },
 "nbformat": 4,
 "nbformat_minor": 2
}
