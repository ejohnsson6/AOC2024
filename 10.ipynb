{
 "cells": [
  {
   "cell_type": "code",
   "execution_count": 38,
   "metadata": {},
   "outputs": [
    {
     "data": {
      "text/plain": [
       "'5678970120787667809876787651450321789810165432234561012345\\n4301787431296556912765698540341410786728765501103676545434\\n3212896594365443213454501231232545695439154610898387656946\\n4307885785872337801653215432545694321089043781763296047877\\n5456934576901236998740126721694787899676112891054102137898\\n4327825676210365485035432830780146788765208982567873223703\\n1012010789301345304126701910567235623654367643432984012612\\n9887652105401253213239878323458945514545106543221265698543\\n6798943766798760560145569850179876408763215456100896787432\\n5212237854899621056776457763287654309854580367018701656501\\n4302108983014552345889308954390101218345691278929632540987\\n8921321212123467496973217654321010101210782987834541231236\\n7010450908765658787210106563898110567623458906543210340145\\n6524567849434349872323293478967223408988967217890107459054\\n5433008956721238721494782566554310510177654394345498768765\\n8942112349810101430585691057431214321287656783216321659056\\n9853523658901233549674541008120109450392345654307010123141\\n6765434567890312678234432219078218765431874309458927034230\\n1034323450765403510165498348569341016210967218567898985541\\n4125614321877654523276327653414452547893458967898769876632\\n3210701234988347678987014512103963458982105450745601896781\\n4678890215679298689898101105432878967821123301234312765890\\n5469810309100198776543239416001263456710054210126543454323\\n6954323458210789743987678327122452349821269329237632670110\\n7856542167345679812310565498214301265430178778748911789224\\n3067630018901256701423457012303210178923476565652100654343\\n2188921078872345690501298989452121089012383418983434334534\\n3298934569863418987632367898763011298234592307894521025676\\n0387650101678507876753456501014980347105681016765601210787\\n1456343212589216909865401432325671256501789823454782309898\\n2341067823410365419872316543234560787432328987123495434321\\n8932058934321474321891027652101765698543212656016596521030\\n7634149965430589890765438984989854321692303443067787676543\\n4543232876787672763210567823870143430781054512198971980612\\n4687601045298101454569498014561034231278766503456890121701\\n3894523432101212343278307601432120140389107652107765439890\\n2183410589043239852101212587347899655473298940998987610141\\n1012398679650126760120103496256978796554567831876898543234\\n0310487778743245679833210145107878987143278722365687650125\\n1223456899012632988744103230123217610012189013451232105676\\n8346543456598701279655654389874306526323076567600345694789\\n9857812347405654210346969210165435435414105458912256783238\\n6768901098312343981237878301456521056905912345863109890104\\n0345650101232107834369765412347678167876801056874223454323\\n1278761321943456125078098943678999101210760767985214567910\\n2109874430854534076165107834567783212323458898876307698876\\n3436543561763325689234256623478654323212789954343298714565\\n4567612675610118763240345510569823434101652765210134503443\\n5698203984323709454121245432234712345612501897898325612652\\n6782100112345890365039876101165601016780432101107210726761\\n6783078201076761276321276543036523239891569232216874835890\\n5894569345987457889430389236543210145652678740125965934701\\n6784578896590356996321298107012301276743245656734014821012\\n5693678787101243987654301058905434985890130543876523498763\\n4542109843262012276019012765676125673981021982923434549854\\n3432101257876540145328943894387089012832123671019323676345\\n4309210369901234239457654703298976326721034501208710789234\\n3218765478710123378765645612107845435434345212345621678101'"
      ]
     },
     "execution_count": 38,
     "metadata": {},
     "output_type": "execute_result"
    }
   ],
   "source": [
    "from pathlib import Path\n",
    "import numpy as np\n",
    "from utils.get_input import get_input\n",
    "\n",
    "\n",
    "inp = Path(\"./test_input\").read_text()\n",
    "inp = get_input(10)\n",
    "inp"
   ]
  },
  {
   "cell_type": "code",
   "execution_count": 46,
   "metadata": {},
   "outputs": [
    {
     "name": "stdout",
     "output_type": "stream",
     "text": [
      "389 μs ± 5.41 μs per loop (mean ± std. dev. of 7 runs, 1,000 loops each)\n"
     ]
    }
   ],
   "source": [
    "%%timeit\n",
    "inp_np = np.array([[int(x) for x in list(row)] for row in inp.split(\"\\n\") if row])"
   ]
  },
  {
   "cell_type": "code",
   "execution_count": null,
   "metadata": {},
   "outputs": [
    {
     "data": {
      "text/plain": [
       "760"
      ]
     },
     "execution_count": 41,
     "metadata": {},
     "output_type": "execute_result"
    }
   ],
   "source": [
    "def add_next_coords_rec(y, x, in_path_set):\n",
    "    curr_val = inp_np[y, x]\n",
    "    # Get adjacent coords\n",
    "    surrounding_coords = []\n",
    "    if x > 0:\n",
    "        surrounding_coords.append((y, x - 1))\n",
    "    if x < inp_np.shape[1] - 1:\n",
    "        surrounding_coords.append((y, x + 1))\n",
    "    if y > 0:\n",
    "        surrounding_coords.append((y - 1, x))\n",
    "    if y < inp_np.shape[0] - 1:\n",
    "        surrounding_coords.append((y + 1, x))\n",
    "    for y2, x2 in surrounding_coords:\n",
    "        if inp_np[y2, x2] - 1 == curr_val:\n",
    "            in_path_set.add((y2, x2))\n",
    "            add_next_coords_rec(y2, x2, in_path_set)\n",
    "\n",
    "\n",
    "def part1():\n",
    "    trailheads = np.argwhere(inp_np == 0)\n",
    "    sum = 0\n",
    "    for y, x in trailheads:\n",
    "        in_path_set = set()\n",
    "        add_next_coords_rec(y, x, in_path_set)\n",
    "        trail_sum = 0\n",
    "        for y2, x2 in in_path_set:\n",
    "            if inp_np[y2, x2] == 9:\n",
    "                trail_sum += 1\n",
    "        sum += trail_sum\n",
    "\n",
    "    return sum\n",
    "\n",
    "\n",
    "part1()"
   ]
  },
  {
   "cell_type": "code",
   "execution_count": 42,
   "metadata": {},
   "outputs": [
    {
     "name": "stdout",
     "output_type": "stream",
     "text": [
      "17.3 ms ± 101 μs per loop (mean ± std. dev. of 7 runs, 100 loops each)\n"
     ]
    }
   ],
   "source": [
    "%%timeit\n",
    "part1()"
   ]
  },
  {
   "cell_type": "code",
   "execution_count": null,
   "metadata": {},
   "outputs": [
    {
     "data": {
      "text/plain": [
       "np.int64(1764)"
      ]
     },
     "execution_count": 44,
     "metadata": {},
     "output_type": "execute_result"
    }
   ],
   "source": [
    "def build_n_paths_to_x(y, x, n_paths_to_x):\n",
    "    curr_val = inp_np[y, x]\n",
    "    # Get adjacent coords\n",
    "    surrounding_coords = []\n",
    "    if x > 0:\n",
    "        surrounding_coords.append((y, x - 1))\n",
    "    if x < inp_np.shape[1] - 1:\n",
    "        surrounding_coords.append((y, x + 1))\n",
    "    if y > 0:\n",
    "        surrounding_coords.append((y - 1, x))\n",
    "    if y < inp_np.shape[0] - 1:\n",
    "        surrounding_coords.append((y + 1, x))\n",
    "    for y2, x2 in surrounding_coords:\n",
    "        if inp_np[y2, x2] - 1 == curr_val:\n",
    "            n_paths_to_x[y2, x2] += 1\n",
    "            build_n_paths_to_x(y2, x2, n_paths_to_x)\n",
    "\n",
    "\n",
    "def part2():\n",
    "    trailheads = np.argwhere(inp_np == 0)\n",
    "    trailends = np.argwhere(inp_np == 9)\n",
    "    sum = 0\n",
    "\n",
    "    for y, x in trailheads:\n",
    "        n_paths_to_x = np.zeros_like(inp_np)\n",
    "        build_n_paths_to_x(y, x, n_paths_to_x)\n",
    "        trail_sum = 0\n",
    "        for y2, x2 in trailends:\n",
    "            trail_sum += n_paths_to_x[y2, x2]\n",
    "        sum += trail_sum\n",
    "\n",
    "    return sum\n",
    "\n",
    "\n",
    "part2()"
   ]
  },
  {
   "cell_type": "code",
   "execution_count": 45,
   "metadata": {},
   "outputs": [
    {
     "name": "stdout",
     "output_type": "stream",
     "text": [
      "103 ms ± 2.6 ms per loop (mean ± std. dev. of 7 runs, 10 loops each)\n"
     ]
    }
   ],
   "source": [
    "%%timeit\n",
    "part2()"
   ]
  }
 ],
 "metadata": {
  "kernelspec": {
   "display_name": ".venv",
   "language": "python",
   "name": "python3"
  },
  "language_info": {
   "codemirror_mode": {
    "name": "ipython",
    "version": 3
   },
   "file_extension": ".py",
   "mimetype": "text/x-python",
   "name": "python",
   "nbconvert_exporter": "python",
   "pygments_lexer": "ipython3",
   "version": "3.13.0"
  }
 },
 "nbformat": 4,
 "nbformat_minor": 2
}
