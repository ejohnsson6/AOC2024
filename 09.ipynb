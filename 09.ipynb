{
 "cells": [
  {
   "cell_type": "code",
   "execution_count": 2,
   "metadata": {},
   "outputs": [],
   "source": [
    "from pathlib import Path\n",
    "import numpy as np\n",
    "from utils.get_input import get_input\n",
    "\n",
    "\n",
    "inp = Path(\"./test_input\").read_text()\n",
    "inp = get_input(9)\n",
    "inp;"
   ]
  },
  {
   "cell_type": "code",
   "execution_count": 118,
   "metadata": {},
   "outputs": [
    {
     "data": {
      "text/plain": [
       "6421128769094"
      ]
     },
     "execution_count": 118,
     "metadata": {},
     "output_type": "execute_result"
    }
   ],
   "source": [
    "# Part 1\n",
    "\n",
    "# Structure input\n",
    "inp2 = [int(x) for x in list(inp)]\n",
    "inp3 = []\n",
    "for i, v in enumerate(inp2):\n",
    "    if i % 2 == 0:\n",
    "        inp3.append((str(i // 2) + \",\") * v)\n",
    "    else:\n",
    "        if v > 0:\n",
    "            inp3.append(\".,\" * v)\n",
    "inp4 = \"\".join(inp3).split(\",\")[:-1]\n",
    "\n",
    "i = 0\n",
    "j = len(inp4) - 1\n",
    "inp_copy = inp4.copy()\n",
    "while i < j:\n",
    "    if inp_copy[i] != \".\":\n",
    "        i += 1\n",
    "    elif inp_copy[j] == \".\":\n",
    "        j -= 1\n",
    "    else:\n",
    "        # print(i, j)\n",
    "        temp = inp_copy[i]\n",
    "        inp_copy[i] = inp_copy[j]\n",
    "        inp_copy[j] = temp\n",
    "\n",
    "# Checksum\n",
    "sum = 0\n",
    "for i, v in enumerate(inp_copy):\n",
    "    if v != \".\":\n",
    "        sum += int(v) * i\n",
    "sum"
   ]
  },
  {
   "cell_type": "code",
   "execution_count": 119,
   "metadata": {},
   "outputs": [
    {
     "data": {
      "text/plain": [
       "6448168620520"
      ]
     },
     "execution_count": 119,
     "metadata": {},
     "output_type": "execute_result"
    }
   ],
   "source": [
    "from tqdm import tqdm\n",
    "\n",
    "# Part 2\n",
    "\n",
    "# Structure input\n",
    "inp2 = [int(x) for x in list(inp)]\n",
    "inp3 = []\n",
    "for i, v in enumerate(inp2):\n",
    "    if i % 2 == 0:\n",
    "        inp3.append((i // 2, v))\n",
    "    else:\n",
    "        if v > 0:\n",
    "            inp3.append((\".\", v))\n",
    "\n",
    "i = 0\n",
    "j = len(inp3) - 1\n",
    "\n",
    "inp_copy = inp3.copy()\n",
    "\n",
    "while j > 0:\n",
    "    f_j = inp_copy[j]\n",
    "    if f_j[0] == \".\":\n",
    "        j -= 1\n",
    "        continue\n",
    "    i = 0\n",
    "    while i < j:\n",
    "        f_i = inp_copy[i]\n",
    "        if f_i[0] == \".\" and f_i[1] >= f_j[1]:\n",
    "            inp_copy[i] = (\".\", f_i[1] - f_j[1])\n",
    "            inp_copy[j] = (\".\", f_j[1])\n",
    "            inp_copy.insert(i, (f_j[0], f_j[1]))\n",
    "            j += 1\n",
    "            for k in range(len(inp_copy) - 1):\n",
    "                if k >= len(inp_copy) - 1:\n",
    "                    break\n",
    "                if inp_copy[k][0] == inp_copy[k + 1][0]:\n",
    "                    inp_copy[k] = (inp_copy[k][0], inp_copy[k][1] + inp_copy[k + 1][1])\n",
    "                    inp_copy.pop(k + 1)\n",
    "                    if i >= k:\n",
    "                        i -= 1\n",
    "                    if j > k:\n",
    "                        j -= 1\n",
    "            break\n",
    "        else:\n",
    "            i += 1\n",
    "    j -= 1\n",
    "\n",
    "\n",
    "# Checksum\n",
    "sum = 0\n",
    "i = 0\n",
    "for v in inp_copy:\n",
    "    if v[0] == \".\":\n",
    "        i += v[1]\n",
    "        continue\n",
    "    for _ in range(v[1]):\n",
    "        sum += v[0] * i\n",
    "        i += 1\n",
    "sum"
   ]
  }
 ],
 "metadata": {
  "kernelspec": {
   "display_name": ".venv",
   "language": "python",
   "name": "python3"
  },
  "language_info": {
   "codemirror_mode": {
    "name": "ipython",
    "version": 3
   },
   "file_extension": ".py",
   "mimetype": "text/x-python",
   "name": "python",
   "nbconvert_exporter": "python",
   "pygments_lexer": "ipython3",
   "version": "3.13.0"
  }
 },
 "nbformat": 4,
 "nbformat_minor": 2
}
