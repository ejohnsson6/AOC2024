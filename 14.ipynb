{
 "cells": [
  {
   "cell_type": "code",
   "execution_count": null,
   "metadata": {},
   "outputs": [],
   "source": [
    "from pathlib import Path\n",
    "from utils.get_input import get_input\n",
    "import numpy as np\n",
    "\n",
    "\n",
    "inp = Path(\"./test_input\").read_text()\n",
    "inp = get_input(14)\n",
    "inp;"
   ]
  },
  {
   "cell_type": "code",
   "execution_count": null,
   "metadata": {},
   "outputs": [],
   "source": [
    "# %%timeit\n",
    "import re\n",
    "\n",
    "robots = inp.split(\"\\n\")\n",
    "robots_parsed = []\n",
    "\n",
    "reg_p_eq = re.compile(r\"(?<=(p\\=))-?\\d*,-?\\d*\")\n",
    "reg_v_eq = re.compile(r\"(?<=(v\\=))-?\\d*,-?\\d*\")\n",
    "\n",
    "\n",
    "for robot in robots:\n",
    "    p = [int(x) for x in reg_p_eq.search(robot).group(0).split(\",\")]\n",
    "    v = [int(x) for x in reg_v_eq.search(robot).group(0).split(\",\")]\n",
    "    robots_parsed.append((p, v))\n",
    "robots_parsed;"
   ]
  },
  {
   "cell_type": "code",
   "execution_count": 16,
   "metadata": {},
   "outputs": [
    {
     "data": {
      "text/plain": [
       "np.int64(232253028)"
      ]
     },
     "execution_count": 16,
     "metadata": {},
     "output_type": "execute_result"
    }
   ],
   "source": [
    "def part1():\n",
    "\n",
    "    height = 103\n",
    "    width = 101\n",
    "    moves = 100\n",
    "    grid = np.zeros((height, width), dtype=int)\n",
    "\n",
    "    for p, v in robots_parsed:\n",
    "        new_x = (p[0] + v[0] * moves) % width\n",
    "        new_y = (p[1] + v[1] * moves) % height\n",
    "        grid[new_y, new_x] += 1\n",
    "\n",
    "    q1 = grid[0:height // 2, 0:width // 2]\n",
    "    q2 = grid[0:height // 2, width // 2 + 1:]\n",
    "    q3 = grid[height // 2 + 1 :, 0:width // 2]\n",
    "    q4 = grid[height // 2 + 1 :, width // 2 + 1 :]\n",
    "\n",
    "    ans = np.sum(q1) * np.sum(q2) * np.sum(q3) * np.sum(q4)\n",
    "    return ans\n",
    "part1()"
   ]
  },
  {
   "cell_type": "code",
   "execution_count": 17,
   "metadata": {},
   "outputs": [
    {
     "name": "stdout",
     "output_type": "stream",
     "text": [
      "133 μs ± 1.33 μs per loop (mean ± std. dev. of 7 runs, 10,000 loops each)\n"
     ]
    }
   ],
   "source": [
    "%%timeit\n",
    "part1()"
   ]
  },
  {
   "cell_type": "code",
   "execution_count": 15,
   "metadata": {},
   "outputs": [
    {
     "name": "stderr",
     "output_type": "stream",
     "text": [
      "  0%|          | 43/1000000 [00:00<52:42, 316.18it/s]"
     ]
    },
    {
     "name": "stdout",
     "output_type": "stream",
     "text": [
      "FOUND ONE!\n",
      "FOUND ONE!\n",
      "FOUND ONE!\n",
      "FOUND ONE!\n"
     ]
    },
    {
     "name": "stderr",
     "output_type": "stream",
     "text": [
      "  0%|          | 161/1000000 [00:00<46:55, 355.08it/s]"
     ]
    },
    {
     "name": "stdout",
     "output_type": "stream",
     "text": [
      "FOUND ONE!\n",
      "FOUND ONE!\n",
      "FOUND ONE!\n",
      "FOUND ONE!\n"
     ]
    },
    {
     "name": "stderr",
     "output_type": "stream",
     "text": [
      "  0%|          | 233/1000000 [00:00<51:27, 323.80it/s]"
     ]
    },
    {
     "name": "stdout",
     "output_type": "stream",
     "text": [
      "FOUND ONE!\n",
      "FOUND ONE!\n",
      "FOUND ONE!\n"
     ]
    },
    {
     "name": "stderr",
     "output_type": "stream",
     "text": [
      "  0%|          | 323/1000000 [00:00<47:12, 352.91it/s]"
     ]
    },
    {
     "name": "stdout",
     "output_type": "stream",
     "text": [
      "FOUND ONE!\n",
      "FOUND ONE!\n",
      "FOUND ONE!\n"
     ]
    },
    {
     "name": "stderr",
     "output_type": "stream",
     "text": [
      "  0%|          | 362/1000000 [00:01<49:50, 334.29it/s]"
     ]
    },
    {
     "name": "stdout",
     "output_type": "stream",
     "text": [
      "FOUND ONE!\n",
      "FOUND ONE!\n",
      "FOUND ONE!\n",
      "FOUND ONE!\n"
     ]
    },
    {
     "name": "stderr",
     "output_type": "stream",
     "text": [
      "  0%|          | 429/1000000 [00:01<1:00:58, 273.21it/s]"
     ]
    },
    {
     "name": "stdout",
     "output_type": "stream",
     "text": [
      "FOUND ONE!\n",
      "FOUND ONE!\n",
      "FOUND ONE!\n",
      "FOUND ONE!\n"
     ]
    },
    {
     "name": "stderr",
     "output_type": "stream",
     "text": [
      "  0%|          | 504/1000000 [00:01<1:03:17, 263.16it/s]"
     ]
    },
    {
     "name": "stdout",
     "output_type": "stream",
     "text": [
      "FOUND ONE!\n",
      "FOUND ONE!\n",
      "FOUND ONE!\n",
      "FOUND ONE!\n"
     ]
    },
    {
     "name": "stderr",
     "output_type": "stream",
     "text": [
      "  0%|          | 569/1000000 [00:01<1:02:01, 268.54it/s]"
     ]
    },
    {
     "name": "stdout",
     "output_type": "stream",
     "text": [
      "FOUND ONE!\n",
      "FOUND ONE!\n",
      "FOUND ONE!\n",
      "FOUND ONE!\n"
     ]
    },
    {
     "name": "stderr",
     "output_type": "stream",
     "text": [
      "  0%|          | 597/1000000 [00:02<1:03:59, 260.32it/s]"
     ]
    },
    {
     "name": "stdout",
     "output_type": "stream",
     "text": [
      "FOUND ONE!\n",
      "FOUND ONE!\n",
      "FOUND ONE!\n",
      "FOUND ONE!\n",
      "FOUND ONE!\n"
     ]
    },
    {
     "name": "stderr",
     "output_type": "stream",
     "text": [
      "  0%|          | 648/1000000 [00:02<1:30:43, 183.60it/s]"
     ]
    },
    {
     "name": "stdout",
     "output_type": "stream",
     "text": [
      "FOUND ONE!\n",
      "FOUND ONE!\n",
      "FOUND ONE!\n",
      "FOUND ONE!\n",
      "FOUND ONE!\n",
      "FOUND ONE!\n",
      "FOUND ONE!\n",
      "FOUND ONE!\n",
      "FOUND ONE!\n",
      "FOUND ONE!\n"
     ]
    },
    {
     "name": "stderr",
     "output_type": "stream",
     "text": [
      "  0%|          | 705/1000000 [00:02<1:34:20, 176.54it/s]"
     ]
    },
    {
     "name": "stdout",
     "output_type": "stream",
     "text": [
      "FOUND ONE!\n",
      "FOUND ONE!\n",
      "FOUND ONE!\n",
      "FOUND ONE!\n"
     ]
    },
    {
     "name": "stderr",
     "output_type": "stream",
     "text": [
      "  0%|          | 752/1000000 [00:02<1:25:44, 194.25it/s]"
     ]
    },
    {
     "name": "stdout",
     "output_type": "stream",
     "text": [
      "FOUND ONE!\n",
      "FOUND ONE!\n",
      "FOUND ONE!\n",
      "FOUND ONE!\n"
     ]
    },
    {
     "name": "stderr",
     "output_type": "stream",
     "text": [
      "  0%|          | 830/1000000 [00:03<1:03:31, 262.17it/s]"
     ]
    },
    {
     "name": "stdout",
     "output_type": "stream",
     "text": [
      "FOUND ONE!\n",
      "FOUND ONE!\n",
      "FOUND ONE!\n",
      "FOUND ONE!\n"
     ]
    },
    {
     "name": "stderr",
     "output_type": "stream",
     "text": [
      "  0%|          | 888/1000000 [00:03<1:12:43, 228.97it/s]"
     ]
    },
    {
     "name": "stdout",
     "output_type": "stream",
     "text": [
      "FOUND ONE!\n",
      "FOUND ONE!\n",
      "FOUND ONE!\n",
      "FOUND ONE!\n"
     ]
    },
    {
     "name": "stderr",
     "output_type": "stream",
     "text": [
      "  0%|          | 913/1000000 [00:03<1:18:48, 211.27it/s]"
     ]
    },
    {
     "name": "stdout",
     "output_type": "stream",
     "text": [
      "FOUND ONE!\n",
      "FOUND ONE!\n",
      "FOUND ONE!\n",
      "FOUND ONE!\n",
      "FOUND ONE!\n"
     ]
    },
    {
     "name": "stderr",
     "output_type": "stream",
     "text": [
      "  0%|          | 1063/1000000 [00:03<42:02, 396.06it/s] "
     ]
    },
    {
     "name": "stdout",
     "output_type": "stream",
     "text": [
      "FOUND ONE!\n",
      "FOUND ONE!\n"
     ]
    },
    {
     "name": "stderr",
     "output_type": "stream",
     "text": [
      "  0%|          | 1107/1000000 [00:04<48:41, 341.94it/s]"
     ]
    },
    {
     "name": "stdout",
     "output_type": "stream",
     "text": [
      "FOUND ONE!\n",
      "FOUND ONE!\n",
      "FOUND ONE!\n",
      "FOUND ONE!\n",
      "FOUND ONE!\n"
     ]
    },
    {
     "name": "stderr",
     "output_type": "stream",
     "text": [
      "  0%|          | 1241/1000000 [00:04<44:06, 377.37it/s]"
     ]
    },
    {
     "name": "stdout",
     "output_type": "stream",
     "text": [
      "FOUND ONE!\n",
      "FOUND ONE!\n",
      "FOUND ONE!\n",
      "FOUND ONE!\n"
     ]
    },
    {
     "name": "stderr",
     "output_type": "stream",
     "text": [
      "  0%|          | 1282/1000000 [00:04<1:02:48, 265.05it/s]"
     ]
    },
    {
     "name": "stdout",
     "output_type": "stream",
     "text": [
      "FOUND ONE!\n",
      "FOUND ONE!\n",
      "FOUND ONE!\n",
      "FOUND ONE!\n",
      "FOUND ONE!\n"
     ]
    },
    {
     "name": "stderr",
     "output_type": "stream",
     "text": [
      "  0%|          | 1316/1000000 [00:04<1:05:54, 252.54it/s]"
     ]
    },
    {
     "name": "stdout",
     "output_type": "stream",
     "text": [
      "FOUND ONE!\n",
      "FOUND ONE!\n",
      "FOUND ONE!\n",
      "FOUND ONE!\n",
      "FOUND ONE!\n"
     ]
    },
    {
     "name": "stderr",
     "output_type": "stream",
     "text": [
      "  0%|          | 1400/1000000 [00:05<1:08:55, 241.48it/s]"
     ]
    },
    {
     "name": "stdout",
     "output_type": "stream",
     "text": [
      "FOUND ONE!\n",
      "FOUND ONE!\n",
      "FOUND ONE!\n",
      "FOUND ONE!\n"
     ]
    },
    {
     "name": "stderr",
     "output_type": "stream",
     "text": [
      "  0%|          | 1443/1000000 [00:05<1:02:14, 267.41it/s]"
     ]
    },
    {
     "name": "stdout",
     "output_type": "stream",
     "text": [
      "FOUND ONE!\n",
      "FOUND ONE!\n",
      "FOUND ONE!\n"
     ]
    },
    {
     "name": "stderr",
     "output_type": "stream",
     "text": [
      "  0%|          | 1483/1000000 [00:05<58:46, 283.11it/s]  "
     ]
    },
    {
     "name": "stdout",
     "output_type": "stream",
     "text": [
      "FOUND ONE!\n",
      "FOUND ONE!\n",
      "FOUND ONE!\n",
      "FOUND ONE!\n",
      "FOUND ONE!\n"
     ]
    },
    {
     "name": "stderr",
     "output_type": "stream",
     "text": [
      "  0%|          | 1539/1000000 [00:05<1:22:55, 200.69it/s]"
     ]
    },
    {
     "name": "stdout",
     "output_type": "stream",
     "text": [
      "FOUND ONE!\n",
      "FOUND ONE!\n",
      "FOUND ONE!\n",
      "FOUND ONE!\n",
      "FOUND ONE!\n"
     ]
    },
    {
     "name": "stderr",
     "output_type": "stream",
     "text": [
      "  0%|          | 1649/1000000 [00:06<1:06:23, 250.63it/s]"
     ]
    },
    {
     "name": "stdout",
     "output_type": "stream",
     "text": [
      "FOUND ONE!\n",
      "FOUND ONE!\n",
      "FOUND ONE!\n",
      "FOUND ONE!\n",
      "FOUND ONE!\n"
     ]
    },
    {
     "name": "stderr",
     "output_type": "stream",
     "text": [
      "  0%|          | 1716/1000000 [00:06<1:02:02, 268.18it/s]"
     ]
    },
    {
     "name": "stdout",
     "output_type": "stream",
     "text": [
      "FOUND ONE!\n",
      "FOUND ONE!\n",
      "FOUND ONE!\n",
      "FOUND ONE!\n",
      "FOUND ONE!\n"
     ]
    },
    {
     "name": "stderr",
     "output_type": "stream",
     "text": [
      "  0%|          | 1778/1000000 [00:06<1:01:42, 269.59it/s]"
     ]
    },
    {
     "name": "stdout",
     "output_type": "stream",
     "text": [
      "FOUND ONE!\n",
      "FOUND ONE!\n",
      "FOUND ONE!\n",
      "FOUND ONE!\n"
     ]
    },
    {
     "name": "stderr",
     "output_type": "stream",
     "text": [
      "  0%|          | 1840/1000000 [00:06<1:01:48, 269.16it/s]"
     ]
    },
    {
     "name": "stdout",
     "output_type": "stream",
     "text": [
      "FOUND ONE!\n",
      "FOUND ONE!\n",
      "FOUND ONE!\n",
      "FOUND ONE!\n"
     ]
    },
    {
     "name": "stderr",
     "output_type": "stream",
     "text": [
      "  0%|          | 1897/1000000 [00:07<1:09:34, 239.11it/s]"
     ]
    },
    {
     "name": "stdout",
     "output_type": "stream",
     "text": [
      "FOUND ONE!\n",
      "FOUND ONE!\n",
      "FOUND ONE!\n",
      "FOUND ONE!\n",
      "FOUND ONE!\n"
     ]
    },
    {
     "name": "stderr",
     "output_type": "stream",
     "text": [
      "  0%|          | 1922/1000000 [00:07<1:23:21, 199.57it/s]"
     ]
    },
    {
     "name": "stdout",
     "output_type": "stream",
     "text": [
      "FOUND ONE!\n",
      "FOUND ONE!\n",
      "FOUND ONE!\n",
      "FOUND ONE!\n",
      "FOUND ONE!\n"
     ]
    },
    {
     "name": "stderr",
     "output_type": "stream",
     "text": [
      "  0%|          | 2041/1000000 [00:07<57:48, 287.74it/s]  "
     ]
    },
    {
     "name": "stdout",
     "output_type": "stream",
     "text": [
      "FOUND ONE!\n",
      "FOUND ONE!\n",
      "FOUND ONE!\n"
     ]
    },
    {
     "name": "stderr",
     "output_type": "stream",
     "text": [
      "  0%|          | 2086/1000000 [00:07<50:46, 327.59it/s]"
     ]
    },
    {
     "name": "stdout",
     "output_type": "stream",
     "text": [
      "FOUND ONE!\n",
      "FOUND ONE!\n",
      "FOUND ONE!\n",
      "FOUND ONE!\n"
     ]
    },
    {
     "name": "stderr",
     "output_type": "stream",
     "text": [
      "  0%|          | 2121/1000000 [00:08<1:10:28, 235.98it/s]"
     ]
    },
    {
     "name": "stdout",
     "output_type": "stream",
     "text": [
      "FOUND ONE!\n",
      "FOUND ONE!\n",
      "FOUND ONE!\n",
      "FOUND ONE!\n"
     ]
    },
    {
     "name": "stderr",
     "output_type": "stream",
     "text": [
      "  0%|          | 2221/1000000 [00:08<1:05:52, 252.47it/s]"
     ]
    },
    {
     "name": "stdout",
     "output_type": "stream",
     "text": [
      "FOUND ONE!\n",
      "FOUND ONE!\n",
      "FOUND ONE!\n",
      "FOUND ONE!\n"
     ]
    },
    {
     "name": "stderr",
     "output_type": "stream",
     "text": [
      "  0%|          | 2310/1000000 [00:08<59:43, 278.39it/s]  "
     ]
    },
    {
     "name": "stdout",
     "output_type": "stream",
     "text": [
      "FOUND ONE!\n",
      "FOUND ONE!\n",
      "FOUND ONE!\n",
      "FOUND ONE!\n"
     ]
    },
    {
     "name": "stderr",
     "output_type": "stream",
     "text": [
      "  0%|          | 2340/1000000 [00:08<1:15:57, 218.91it/s]"
     ]
    },
    {
     "name": "stdout",
     "output_type": "stream",
     "text": [
      "FOUND ONE!\n",
      "FOUND ONE!\n",
      "FOUND ONE!\n",
      "FOUND ONE!\n",
      "FOUND ONE!\n",
      "FOUND ONE!\n"
     ]
    },
    {
     "name": "stderr",
     "output_type": "stream",
     "text": [
      "  0%|          | 2423/1000000 [00:09<1:04:35, 257.39it/s]"
     ]
    },
    {
     "name": "stdout",
     "output_type": "stream",
     "text": [
      "FOUND ONE!\n",
      "FOUND ONE!\n",
      "FOUND ONE!\n",
      "FOUND ONE!\n"
     ]
    },
    {
     "name": "stderr",
     "output_type": "stream",
     "text": [
      "  0%|          | 2494/1000000 [00:09<1:01:56, 268.42it/s]"
     ]
    },
    {
     "name": "stdout",
     "output_type": "stream",
     "text": [
      "FOUND ONE!\n",
      "FOUND ONE!\n",
      "FOUND ONE!\n",
      "FOUND ONE!\n"
     ]
    },
    {
     "name": "stderr",
     "output_type": "stream",
     "text": [
      "  0%|          | 2551/1000000 [00:09<1:04:07, 259.23it/s]"
     ]
    },
    {
     "name": "stdout",
     "output_type": "stream",
     "text": [
      "FOUND ONE!\n",
      "FOUND ONE!\n",
      "FOUND ONE!\n",
      "FOUND ONE!\n"
     ]
    },
    {
     "name": "stderr",
     "output_type": "stream",
     "text": [
      "  0%|          | 2600/1000000 [00:09<52:22, 317.37it/s]  "
     ]
    },
    {
     "name": "stdout",
     "output_type": "stream",
     "text": [
      "FOUND ONE!\n",
      "FOUND ONE!\n",
      "FOUND ONE!\n",
      "FOUND ONE!\n",
      "FOUND ONE!\n"
     ]
    },
    {
     "name": "stderr",
     "output_type": "stream",
     "text": [
      "  0%|          | 2712/1000000 [00:10<55:17, 300.63it/s]  "
     ]
    },
    {
     "name": "stdout",
     "output_type": "stream",
     "text": [
      "FOUND ONE!\n",
      "FOUND ONE!\n",
      "FOUND ONE!\n"
     ]
    },
    {
     "name": "stderr",
     "output_type": "stream",
     "text": [
      "  0%|          | 2746/1000000 [00:10<1:08:29, 242.66it/s]"
     ]
    },
    {
     "name": "stdout",
     "output_type": "stream",
     "text": [
      "FOUND ONE!\n",
      "FOUND ONE!\n",
      "FOUND ONE!\n",
      "FOUND ONE!\n"
     ]
    },
    {
     "name": "stderr",
     "output_type": "stream",
     "text": [
      "  0%|          | 2833/1000000 [00:10<1:01:33, 269.95it/s]"
     ]
    },
    {
     "name": "stdout",
     "output_type": "stream",
     "text": [
      "FOUND ONE!\n",
      "FOUND ONE!\n",
      "FOUND ONE!\n",
      "FOUND ONE!\n"
     ]
    },
    {
     "name": "stderr",
     "output_type": "stream",
     "text": [
      "  0%|          | 2922/1000000 [00:10<52:27, 316.79it/s]  "
     ]
    },
    {
     "name": "stdout",
     "output_type": "stream",
     "text": [
      "FOUND ONE!\n",
      "FOUND ONE!\n",
      "FOUND ONE!\n",
      "FOUND ONE!\n"
     ]
    },
    {
     "name": "stderr",
     "output_type": "stream",
     "text": [
      "  0%|          | 2957/1000000 [00:11<1:03:21, 262.29it/s]"
     ]
    },
    {
     "name": "stdout",
     "output_type": "stream",
     "text": [
      "FOUND ONE!\n",
      "FOUND ONE!\n",
      "FOUND ONE!\n",
      "FOUND ONE!\n"
     ]
    },
    {
     "name": "stderr",
     "output_type": "stream",
     "text": [
      "  0%|          | 3029/1000000 [00:11<1:00:02, 276.74it/s]"
     ]
    },
    {
     "name": "stdout",
     "output_type": "stream",
     "text": [
      "FOUND ONE!\n",
      "FOUND ONE!\n",
      "FOUND ONE!\n",
      "FOUND ONE!\n"
     ]
    },
    {
     "name": "stderr",
     "output_type": "stream",
     "text": [
      "  0%|          | 3088/1000000 [00:11<1:04:47, 256.46it/s]"
     ]
    },
    {
     "name": "stdout",
     "output_type": "stream",
     "text": [
      "FOUND ONE!\n",
      "FOUND ONE!\n",
      "FOUND ONE!\n",
      "FOUND ONE!\n"
     ]
    },
    {
     "name": "stderr",
     "output_type": "stream",
     "text": [
      "  0%|          | 3115/1000000 [00:11<1:20:35, 206.17it/s]"
     ]
    },
    {
     "name": "stdout",
     "output_type": "stream",
     "text": [
      "FOUND ONE!\n",
      "FOUND ONE!\n",
      "FOUND ONE!\n",
      "FOUND ONE!\n"
     ]
    },
    {
     "name": "stderr",
     "output_type": "stream",
     "text": [
      "  0%|          | 3138/1000000 [00:12<1:32:20, 179.93it/s]"
     ]
    },
    {
     "name": "stdout",
     "output_type": "stream",
     "text": [
      "FOUND ONE!\n",
      "FOUND ONE!\n",
      "FOUND ONE!\n",
      "FOUND ONE!\n"
     ]
    },
    {
     "name": "stderr",
     "output_type": "stream",
     "text": [
      "  0%|          | 3209/1000000 [00:12<1:09:16, 239.82it/s]"
     ]
    },
    {
     "name": "stdout",
     "output_type": "stream",
     "text": [
      "FOUND ONE!\n",
      "FOUND ONE!\n",
      "FOUND ONE!\n"
     ]
    },
    {
     "name": "stderr",
     "output_type": "stream",
     "text": [
      "  0%|          | 3282/1000000 [00:12<1:05:23, 254.06it/s]"
     ]
    },
    {
     "name": "stdout",
     "output_type": "stream",
     "text": [
      "FOUND ONE!\n",
      "FOUND ONE!\n",
      "FOUND ONE!\n",
      "FOUND ONE!\n"
     ]
    },
    {
     "name": "stderr",
     "output_type": "stream",
     "text": [
      "  0%|          | 3356/1000000 [00:12<1:01:51, 268.56it/s]"
     ]
    },
    {
     "name": "stdout",
     "output_type": "stream",
     "text": [
      "FOUND ONE!\n",
      "FOUND ONE!\n",
      "FOUND ONE!\n",
      "FOUND ONE!\n"
     ]
    },
    {
     "name": "stderr",
     "output_type": "stream",
     "text": [
      "  0%|          | 3384/1000000 [00:12<1:03:19, 262.33it/s]"
     ]
    },
    {
     "name": "stdout",
     "output_type": "stream",
     "text": [
      "FOUND ONE!\n",
      "FOUND ONE!\n",
      "FOUND ONE!\n",
      "FOUND ONE!\n"
     ]
    },
    {
     "name": "stderr",
     "output_type": "stream",
     "text": [
      "  0%|          | 3459/1000000 [00:13<59:22, 279.71it/s]  "
     ]
    },
    {
     "name": "stdout",
     "output_type": "stream",
     "text": [
      "FOUND ONE!\n",
      "FOUND ONE!\n",
      "FOUND ONE!\n",
      "FOUND ONE!\n"
     ]
    },
    {
     "name": "stderr",
     "output_type": "stream",
     "text": [
      "  0%|          | 3522/1000000 [00:13<1:00:40, 273.69it/s]"
     ]
    },
    {
     "name": "stdout",
     "output_type": "stream",
     "text": [
      "FOUND ONE!\n",
      "FOUND ONE!\n",
      "FOUND ONE!\n",
      "FOUND ONE!\n",
      "FOUND ONE!\n"
     ]
    },
    {
     "name": "stderr",
     "output_type": "stream",
     "text": [
      "  0%|          | 3595/1000000 [00:13<1:01:19, 270.78it/s]"
     ]
    },
    {
     "name": "stdout",
     "output_type": "stream",
     "text": [
      "FOUND ONE!\n",
      "FOUND ONE!\n",
      "FOUND ONE!\n",
      "FOUND ONE!\n"
     ]
    },
    {
     "name": "stderr",
     "output_type": "stream",
     "text": [
      "  0%|          | 3647/1000000 [00:14<1:14:08, 223.99it/s]"
     ]
    },
    {
     "name": "stdout",
     "output_type": "stream",
     "text": [
      "FOUND ONE!\n",
      "FOUND ONE!\n",
      "FOUND ONE!\n",
      "FOUND ONE!\n",
      "FOUND ONE!\n"
     ]
    },
    {
     "name": "stderr",
     "output_type": "stream",
     "text": [
      "  0%|          | 3671/1000000 [00:14<1:20:31, 206.22it/s]"
     ]
    },
    {
     "name": "stdout",
     "output_type": "stream",
     "text": [
      "FOUND ONE!\n",
      "FOUND ONE!\n",
      "FOUND ONE!\n",
      "FOUND ONE!\n",
      "FOUND ONE!\n"
     ]
    },
    {
     "name": "stderr",
     "output_type": "stream",
     "text": [
      "  0%|          | 3724/1000000 [00:14<1:21:18, 204.23it/s]"
     ]
    },
    {
     "name": "stdout",
     "output_type": "stream",
     "text": [
      "FOUND ONE!\n",
      "FOUND ONE!\n",
      "FOUND ONE!\n",
      "FOUND ONE!\n",
      "FOUND ONE!\n",
      "FOUND ONE!\n"
     ]
    },
    {
     "name": "stderr",
     "output_type": "stream",
     "text": [
      "  0%|          | 3774/1000000 [00:14<1:30:41, 183.09it/s]"
     ]
    },
    {
     "name": "stdout",
     "output_type": "stream",
     "text": [
      "FOUND ONE!\n",
      "FOUND ONE!\n",
      "FOUND ONE!\n",
      "FOUND ONE!\n"
     ]
    },
    {
     "name": "stderr",
     "output_type": "stream",
     "text": [
      "  0%|          | 3847/1000000 [00:14<1:08:29, 242.39it/s]"
     ]
    },
    {
     "name": "stdout",
     "output_type": "stream",
     "text": [
      "FOUND ONE!\n",
      "FOUND ONE!\n",
      "FOUND ONE!\n",
      "FOUND ONE!\n",
      "FOUND ONE!\n"
     ]
    },
    {
     "name": "stderr",
     "output_type": "stream",
     "text": [
      "  0%|          | 3874/1000000 [00:15<1:26:41, 191.52it/s]"
     ]
    },
    {
     "name": "stdout",
     "output_type": "stream",
     "text": [
      "FOUND ONE!\n",
      "FOUND ONE!\n",
      "FOUND ONE!\n",
      "FOUND ONE!\n"
     ]
    },
    {
     "name": "stderr",
     "output_type": "stream",
     "text": [
      "  0%|          | 3932/1000000 [00:15<1:24:41, 196.01it/s]"
     ]
    },
    {
     "name": "stdout",
     "output_type": "stream",
     "text": [
      "FOUND ONE!\n",
      "FOUND ONE!\n",
      "FOUND ONE!\n",
      "FOUND ONE!\n",
      "FOUND ONE!\n"
     ]
    },
    {
     "name": "stderr",
     "output_type": "stream",
     "text": [
      "  0%|          | 3954/1000000 [00:15<1:43:55, 159.74it/s]"
     ]
    },
    {
     "name": "stdout",
     "output_type": "stream",
     "text": [
      "FOUND ONE!\n",
      "FOUND ONE!\n",
      "FOUND ONE!\n",
      "FOUND ONE!\n",
      "FOUND ONE!\n"
     ]
    },
    {
     "name": "stderr",
     "output_type": "stream",
     "text": [
      "  0%|          | 4006/1000000 [00:15<1:30:21, 183.72it/s]"
     ]
    },
    {
     "name": "stdout",
     "output_type": "stream",
     "text": [
      "FOUND ONE!\n",
      "FOUND ONE!\n",
      "FOUND ONE!\n",
      "FOUND ONE!\n"
     ]
    },
    {
     "name": "stderr",
     "output_type": "stream",
     "text": [
      "  0%|          | 4060/1000000 [00:16<1:19:25, 208.99it/s]"
     ]
    },
    {
     "name": "stdout",
     "output_type": "stream",
     "text": [
      "FOUND ONE!\n",
      "FOUND ONE!\n",
      "FOUND ONE!\n",
      "FOUND ONE!\n"
     ]
    },
    {
     "name": "stderr",
     "output_type": "stream",
     "text": [
      "  0%|          | 4124/1000000 [00:16<1:11:09, 233.27it/s]"
     ]
    },
    {
     "name": "stdout",
     "output_type": "stream",
     "text": [
      "FOUND ONE!\n",
      "FOUND ONE!\n",
      "FOUND ONE!\n",
      "FOUND ONE!\n"
     ]
    },
    {
     "name": "stderr",
     "output_type": "stream",
     "text": [
      "  0%|          | 4184/1000000 [00:16<1:09:52, 237.50it/s]"
     ]
    },
    {
     "name": "stdout",
     "output_type": "stream",
     "text": [
      "FOUND ONE!\n",
      "FOUND ONE!\n",
      "FOUND ONE!\n",
      "FOUND ONE!\n"
     ]
    },
    {
     "name": "stderr",
     "output_type": "stream",
     "text": [
      "  0%|          | 4256/1000000 [00:16<1:00:17, 275.25it/s]"
     ]
    },
    {
     "name": "stdout",
     "output_type": "stream",
     "text": [
      "FOUND ONE!\n",
      "FOUND ONE!\n",
      "FOUND ONE!\n",
      "FOUND ONE!\n"
     ]
    },
    {
     "name": "stderr",
     "output_type": "stream",
     "text": [
      "  0%|          | 4322/1000000 [00:17<1:00:22, 274.83it/s]"
     ]
    },
    {
     "name": "stdout",
     "output_type": "stream",
     "text": [
      "FOUND ONE!\n",
      "FOUND ONE!\n",
      "FOUND ONE!\n"
     ]
    },
    {
     "name": "stderr",
     "output_type": "stream",
     "text": [
      "  0%|          | 4435/1000000 [00:17<40:46, 406.91it/s]  "
     ]
    },
    {
     "name": "stdout",
     "output_type": "stream",
     "text": [
      "FOUND ONE!\n",
      "FOUND ONE!\n",
      "FOUND ONE!\n"
     ]
    },
    {
     "name": "stderr",
     "output_type": "stream",
     "text": [
      "  0%|          | 4478/1000000 [00:17<55:21, 299.73it/s]"
     ]
    },
    {
     "name": "stdout",
     "output_type": "stream",
     "text": [
      "FOUND ONE!\n",
      "FOUND ONE!\n",
      "FOUND ONE!\n",
      "FOUND ONE!\n"
     ]
    },
    {
     "name": "stderr",
     "output_type": "stream",
     "text": [
      "  0%|          | 4514/1000000 [00:17<56:09, 295.46it/s]"
     ]
    },
    {
     "name": "stdout",
     "output_type": "stream",
     "text": [
      "FOUND ONE!\n",
      "FOUND ONE!\n",
      "FOUND ONE!\n",
      "FOUND ONE!\n"
     ]
    },
    {
     "name": "stderr",
     "output_type": "stream",
     "text": [
      "  0%|          | 4584/1000000 [00:18<57:43, 287.39it/s]"
     ]
    },
    {
     "name": "stdout",
     "output_type": "stream",
     "text": [
      "FOUND ONE!\n",
      "FOUND ONE!\n",
      "FOUND ONE!\n",
      "FOUND ONE!\n"
     ]
    },
    {
     "name": "stderr",
     "output_type": "stream",
     "text": [
      "  0%|          | 4707/1000000 [00:18<54:36, 303.78it/s]"
     ]
    },
    {
     "name": "stdout",
     "output_type": "stream",
     "text": [
      "FOUND ONE!\n",
      "FOUND ONE!\n",
      "FOUND ONE!\n",
      "FOUND ONE!\n"
     ]
    },
    {
     "name": "stderr",
     "output_type": "stream",
     "text": [
      "  0%|          | 4738/1000000 [00:18<1:01:32, 269.54it/s]"
     ]
    },
    {
     "name": "stdout",
     "output_type": "stream",
     "text": [
      "FOUND ONE!\n",
      "FOUND ONE!\n",
      "FOUND ONE!\n",
      "FOUND ONE!\n"
     ]
    },
    {
     "name": "stderr",
     "output_type": "stream",
     "text": [
      "  0%|          | 4824/1000000 [00:18<59:22, 279.31it/s]  "
     ]
    },
    {
     "name": "stdout",
     "output_type": "stream",
     "text": [
      "FOUND ONE!\n",
      "FOUND ONE!\n",
      "FOUND ONE!\n",
      "FOUND ONE!\n"
     ]
    },
    {
     "name": "stderr",
     "output_type": "stream",
     "text": [
      "  0%|          | 4898/1000000 [00:18<43:04, 385.03it/s]"
     ]
    },
    {
     "name": "stdout",
     "output_type": "stream",
     "text": [
      "FOUND ONE!\n",
      "FOUND ONE!\n",
      "FOUND ONE!\n",
      "FOUND ONE!\n",
      "FOUND ONE!\n"
     ]
    },
    {
     "name": "stderr",
     "output_type": "stream",
     "text": [
      "  0%|          | 4942/1000000 [00:19<1:04:49, 255.84it/s]"
     ]
    },
    {
     "name": "stdout",
     "output_type": "stream",
     "text": [
      "FOUND ONE!\n",
      "FOUND ONE!\n",
      "FOUND ONE!\n",
      "FOUND ONE!\n",
      "FOUND ONE!\n",
      "FOUND ONE!\n"
     ]
    },
    {
     "name": "stderr",
     "output_type": "stream",
     "text": [
      "  1%|          | 5007/1000000 [00:19<1:09:22, 239.01it/s]"
     ]
    },
    {
     "name": "stdout",
     "output_type": "stream",
     "text": [
      "FOUND ONE!\n",
      "FOUND ONE!\n",
      "FOUND ONE!\n",
      "FOUND ONE!\n",
      "FOUND ONE!\n"
     ]
    },
    {
     "name": "stderr",
     "output_type": "stream",
     "text": [
      "  1%|          | 5036/1000000 [00:19<1:19:13, 209.30it/s]"
     ]
    },
    {
     "name": "stdout",
     "output_type": "stream",
     "text": [
      "FOUND ONE!\n",
      "FOUND ONE!\n",
      "FOUND ONE!\n",
      "FOUND ONE!\n",
      "FOUND ONE!\n"
     ]
    },
    {
     "name": "stderr",
     "output_type": "stream",
     "text": [
      "  1%|          | 5104/1000000 [00:20<1:27:00, 190.58it/s]"
     ]
    },
    {
     "name": "stdout",
     "output_type": "stream",
     "text": [
      "FOUND ONE!\n",
      "FOUND ONE!\n",
      "FOUND ONE!\n",
      "FOUND ONE!\n"
     ]
    },
    {
     "name": "stderr",
     "output_type": "stream",
     "text": [
      "  1%|          | 5125/1000000 [00:20<1:46:00, 156.41it/s]"
     ]
    },
    {
     "name": "stdout",
     "output_type": "stream",
     "text": [
      "FOUND ONE!\n",
      "FOUND ONE!\n",
      "FOUND ONE!\n",
      "FOUND ONE!\n",
      "FOUND ONE!\n"
     ]
    },
    {
     "name": "stderr",
     "output_type": "stream",
     "text": [
      "  1%|          | 5192/1000000 [00:20<1:13:49, 224.59it/s]"
     ]
    },
    {
     "name": "stdout",
     "output_type": "stream",
     "text": [
      "FOUND ONE!\n",
      "FOUND ONE!\n",
      "FOUND ONE!\n",
      "FOUND ONE!\n"
     ]
    },
    {
     "name": "stderr",
     "output_type": "stream",
     "text": [
      "  1%|          | 5218/1000000 [00:20<1:32:53, 178.48it/s]"
     ]
    },
    {
     "name": "stdout",
     "output_type": "stream",
     "text": [
      "FOUND ONE!\n",
      "FOUND ONE!\n",
      "FOUND ONE!\n",
      "FOUND ONE!\n"
     ]
    },
    {
     "name": "stderr",
     "output_type": "stream",
     "text": [
      "  1%|          | 5282/1000000 [00:21<1:14:47, 221.68it/s]"
     ]
    },
    {
     "name": "stdout",
     "output_type": "stream",
     "text": [
      "FOUND ONE!\n",
      "FOUND ONE!\n",
      "FOUND ONE!\n",
      "FOUND ONE!\n"
     ]
    },
    {
     "name": "stderr",
     "output_type": "stream",
     "text": [
      "  1%|          | 5308/1000000 [00:21<1:32:39, 178.92it/s]"
     ]
    },
    {
     "name": "stdout",
     "output_type": "stream",
     "text": [
      "FOUND ONE!\n",
      "FOUND ONE!\n",
      "FOUND ONE!\n",
      "FOUND ONE!\n"
     ]
    },
    {
     "name": "stderr",
     "output_type": "stream",
     "text": [
      "  1%|          | 5433/1000000 [00:21<58:37, 282.78it/s]  "
     ]
    },
    {
     "name": "stdout",
     "output_type": "stream",
     "text": [
      "FOUND ONE!\n",
      "FOUND ONE!\n",
      "FOUND ONE!\n",
      "FOUND ONE!\n"
     ]
    },
    {
     "name": "stderr",
     "output_type": "stream",
     "text": [
      "  1%|          | 5465/1000000 [00:21<1:09:38, 238.00it/s]"
     ]
    },
    {
     "name": "stdout",
     "output_type": "stream",
     "text": [
      "FOUND ONE!\n",
      "FOUND ONE!\n",
      "FOUND ONE!\n",
      "FOUND ONE!\n"
     ]
    },
    {
     "name": "stderr",
     "output_type": "stream",
     "text": [
      "  1%|          | 5502/1000000 [00:22<1:17:14, 214.60it/s]"
     ]
    },
    {
     "name": "stdout",
     "output_type": "stream",
     "text": [
      "FOUND ONE!\n",
      "FOUND ONE!\n",
      "FOUND ONE!\n",
      "FOUND ONE!\n",
      "FOUND ONE!\n"
     ]
    },
    {
     "name": "stderr",
     "output_type": "stream",
     "text": [
      "  1%|          | 5602/1000000 [00:22<1:03:22, 261.53it/s]"
     ]
    },
    {
     "name": "stdout",
     "output_type": "stream",
     "text": [
      "FOUND ONE!\n",
      "FOUND ONE!\n",
      "FOUND ONE!\n",
      "FOUND ONE!\n"
     ]
    },
    {
     "name": "stderr",
     "output_type": "stream",
     "text": [
      "  1%|          | 5630/1000000 [00:22<1:15:11, 220.40it/s]"
     ]
    },
    {
     "name": "stdout",
     "output_type": "stream",
     "text": [
      "FOUND ONE!\n",
      "FOUND ONE!\n",
      "FOUND ONE!\n",
      "FOUND ONE!\n",
      "FOUND ONE!\n"
     ]
    },
    {
     "name": "stderr",
     "output_type": "stream",
     "text": [
      "  1%|          | 5654/1000000 [00:22<1:15:31, 219.41it/s]"
     ]
    },
    {
     "name": "stdout",
     "output_type": "stream",
     "text": [
      "FOUND ONE!\n",
      "FOUND ONE!\n",
      "FOUND ONE!\n",
      "FOUND ONE!\n",
      "FOUND ONE!\n"
     ]
    },
    {
     "name": "stderr",
     "output_type": "stream",
     "text": [
      "  1%|          | 5698/1000000 [00:23<1:35:19, 173.83it/s]"
     ]
    },
    {
     "name": "stdout",
     "output_type": "stream",
     "text": [
      "FOUND ONE!\n",
      "FOUND ONE!\n",
      "FOUND ONE!\n",
      "FOUND ONE!\n"
     ]
    },
    {
     "name": "stderr",
     "output_type": "stream",
     "text": [
      "  1%|          | 5754/1000000 [00:23<1:27:05, 190.28it/s]"
     ]
    },
    {
     "name": "stdout",
     "output_type": "stream",
     "text": [
      "FOUND ONE!\n",
      "FOUND ONE!\n",
      "FOUND ONE!\n",
      "FOUND ONE!\n"
     ]
    },
    {
     "name": "stderr",
     "output_type": "stream",
     "text": [
      "  1%|          | 5848/1000000 [00:23<53:22, 310.41it/s]  "
     ]
    },
    {
     "name": "stdout",
     "output_type": "stream",
     "text": [
      "FOUND ONE!\n",
      "FOUND ONE!\n",
      "FOUND ONE!\n"
     ]
    },
    {
     "name": "stderr",
     "output_type": "stream",
     "text": [
      "  1%|          | 5882/1000000 [00:23<1:05:25, 253.24it/s]"
     ]
    },
    {
     "name": "stdout",
     "output_type": "stream",
     "text": [
      "FOUND ONE!\n",
      "FOUND ONE!\n",
      "FOUND ONE!\n",
      "FOUND ONE!\n"
     ]
    },
    {
     "name": "stderr",
     "output_type": "stream",
     "text": [
      "  1%|          | 5976/1000000 [00:23<48:21, 342.55it/s]  "
     ]
    },
    {
     "name": "stdout",
     "output_type": "stream",
     "text": [
      "FOUND ONE!\n",
      "FOUND ONE!\n",
      "FOUND ONE!\n",
      "FOUND ONE!\n"
     ]
    },
    {
     "name": "stderr",
     "output_type": "stream",
     "text": [
      "  1%|          | 6048/1000000 [00:24<1:00:31, 273.70it/s]"
     ]
    },
    {
     "name": "stdout",
     "output_type": "stream",
     "text": [
      "FOUND ONE!\n",
      "FOUND ONE!\n",
      "FOUND ONE!\n",
      "FOUND ONE!\n"
     ]
    },
    {
     "name": "stderr",
     "output_type": "stream",
     "text": [
      "  1%|          | 6078/1000000 [00:24<1:07:26, 245.64it/s]"
     ]
    },
    {
     "name": "stdout",
     "output_type": "stream",
     "text": [
      "FOUND ONE!\n",
      "FOUND ONE!\n",
      "FOUND ONE!\n",
      "FOUND ONE!\n"
     ]
    },
    {
     "name": "stderr",
     "output_type": "stream",
     "text": [
      "  1%|          | 6163/1000000 [00:24<1:02:10, 266.40it/s]"
     ]
    },
    {
     "name": "stdout",
     "output_type": "stream",
     "text": [
      "FOUND ONE!\n",
      "FOUND ONE!\n",
      "FOUND ONE!\n",
      "FOUND ONE!\n"
     ]
    },
    {
     "name": "stderr",
     "output_type": "stream",
     "text": [
      "  1%|          | 6191/1000000 [00:24<1:03:32, 260.67it/s]"
     ]
    },
    {
     "name": "stdout",
     "output_type": "stream",
     "text": [
      "FOUND ONE!\n",
      "FOUND ONE!\n",
      "FOUND ONE!\n",
      "FOUND ONE!\n"
     ]
    },
    {
     "name": "stderr",
     "output_type": "stream",
     "text": [
      "  1%|          | 6248/1000000 [00:25<1:11:06, 232.94it/s]"
     ]
    },
    {
     "name": "stdout",
     "output_type": "stream",
     "text": [
      "FOUND ONE!\n",
      "FOUND ONE!\n",
      "FOUND ONE!\n",
      "FOUND ONE!\n",
      "FOUND ONE!\n"
     ]
    },
    {
     "name": "stderr",
     "output_type": "stream",
     "text": [
      "  1%|          | 6319/1000000 [00:25<1:06:18, 249.75it/s]"
     ]
    },
    {
     "name": "stdout",
     "output_type": "stream",
     "text": [
      "FOUND ONE!\n",
      "FOUND ONE!\n",
      "FOUND ONE!\n",
      "FOUND ONE!\n"
     ]
    },
    {
     "name": "stderr",
     "output_type": "stream",
     "text": [
      "  1%|          | 6370/1000000 [00:25<1:15:08, 220.37it/s]"
     ]
    },
    {
     "name": "stdout",
     "output_type": "stream",
     "text": [
      "FOUND ONE!\n",
      "FOUND ONE!\n",
      "FOUND ONE!\n"
     ]
    },
    {
     "name": "stderr",
     "output_type": "stream",
     "text": [
      "  1%|          | 6492/1000000 [00:25<44:06, 375.41it/s]  "
     ]
    },
    {
     "name": "stdout",
     "output_type": "stream",
     "text": [
      "FOUND ONE!\n",
      "FOUND ONE!\n",
      "FOUND ONE!\n",
      "FOUND ONE!\n"
     ]
    },
    {
     "name": "stderr",
     "output_type": "stream",
     "text": [
      "  1%|          | 6569/1000000 [00:26<52:17, 316.68it/s]"
     ]
    },
    {
     "name": "stdout",
     "output_type": "stream",
     "text": [
      "FOUND ONE!\n",
      "FOUND ONE!\n",
      "FOUND ONE!\n"
     ]
    },
    {
     "name": "stderr",
     "output_type": "stream",
     "text": [
      "  1%|          | 6635/1000000 [00:26<1:00:49, 272.23it/s]"
     ]
    },
    {
     "name": "stdout",
     "output_type": "stream",
     "text": [
      "FOUND ONE!\n",
      "FOUND ONE!\n",
      "FOUND ONE!\n",
      "FOUND ONE!\n",
      "FOUND ONE!\n"
     ]
    },
    {
     "name": "stderr",
     "output_type": "stream",
     "text": [
      "  1%|          | 6694/1000000 [00:26<1:08:01, 243.35it/s]"
     ]
    },
    {
     "name": "stdout",
     "output_type": "stream",
     "text": [
      "FOUND ONE!\n",
      "FOUND ONE!\n",
      "FOUND ONE!\n",
      "FOUND ONE!\n"
     ]
    },
    {
     "name": "stderr",
     "output_type": "stream",
     "text": [
      "  1%|          | 6745/1000000 [00:26<1:09:49, 237.06it/s]"
     ]
    },
    {
     "name": "stdout",
     "output_type": "stream",
     "text": [
      "FOUND ONE!\n",
      "FOUND ONE!\n",
      "FOUND ONE!\n",
      "FOUND ONE!\n"
     ]
    },
    {
     "name": "stderr",
     "output_type": "stream",
     "text": [
      "  1%|          | 6805/1000000 [00:27<1:06:28, 249.02it/s]"
     ]
    },
    {
     "name": "stdout",
     "output_type": "stream",
     "text": [
      "FOUND ONE!\n",
      "FOUND ONE!\n",
      "FOUND ONE!\n",
      "FOUND ONE!\n"
     ]
    },
    {
     "name": "stderr",
     "output_type": "stream",
     "text": [
      "  1%|          | 6841/1000000 [00:27<1:00:08, 275.21it/s]"
     ]
    },
    {
     "name": "stdout",
     "output_type": "stream",
     "text": [
      "FOUND ONE!\n",
      "FOUND ONE!\n",
      "FOUND ONE!\n",
      "FOUND ONE!\n",
      "FOUND ONE!\n"
     ]
    },
    {
     "name": "stderr",
     "output_type": "stream",
     "text": [
      "  1%|          | 6916/1000000 [00:27<1:08:54, 240.22it/s]"
     ]
    },
    {
     "name": "stdout",
     "output_type": "stream",
     "text": [
      "FOUND ONE!\n",
      "FOUND ONE!\n",
      "FOUND ONE!\n",
      "FOUND ONE!\n",
      "FOUND ONE!\n"
     ]
    },
    {
     "name": "stderr",
     "output_type": "stream",
     "text": [
      "  1%|          | 6968/1000000 [00:27<1:13:53, 223.96it/s]"
     ]
    },
    {
     "name": "stdout",
     "output_type": "stream",
     "text": [
      "FOUND ONE!\n",
      "FOUND ONE!\n",
      "FOUND ONE!\n",
      "FOUND ONE!\n"
     ]
    },
    {
     "name": "stderr",
     "output_type": "stream",
     "text": [
      "  1%|          | 7016/1000000 [00:28<1:15:30, 219.16it/s]"
     ]
    },
    {
     "name": "stdout",
     "output_type": "stream",
     "text": [
      "FOUND ONE!\n",
      "FOUND ONE!\n",
      "FOUND ONE!\n",
      "FOUND ONE!\n"
     ]
    },
    {
     "name": "stderr",
     "output_type": "stream",
     "text": [
      "  1%|          | 7043/1000000 [00:28<1:13:27, 225.27it/s]"
     ]
    },
    {
     "name": "stdout",
     "output_type": "stream",
     "text": [
      "FOUND ONE!\n",
      "FOUND ONE!\n",
      "FOUND ONE!\n",
      "FOUND ONE!\n",
      "FOUND ONE!\n"
     ]
    },
    {
     "name": "stderr",
     "output_type": "stream",
     "text": [
      "  1%|          | 7147/1000000 [00:28<1:00:07, 275.22it/s]"
     ]
    },
    {
     "name": "stdout",
     "output_type": "stream",
     "text": [
      "FOUND ONE!\n",
      "FOUND ONE!\n",
      "FOUND ONE!\n",
      "FOUND ONE!\n",
      "FOUND ONE!\n",
      "FOUND ONE!\n",
      "FOUND ONE!\n",
      "FOUND ONE!\n"
     ]
    },
    {
     "name": "stderr",
     "output_type": "stream",
     "text": [
      "  1%|          | 7226/1000000 [00:28<1:04:24, 256.89it/s]"
     ]
    },
    {
     "name": "stdout",
     "output_type": "stream",
     "text": [
      "FOUND ONE!\n",
      "FOUND ONE!\n",
      "FOUND ONE!\n"
     ]
    },
    {
     "name": "stderr",
     "output_type": "stream",
     "text": [
      "  1%|          | 7318/1000000 [00:29<51:25, 321.74it/s]  "
     ]
    },
    {
     "name": "stdout",
     "output_type": "stream",
     "text": [
      "FOUND ONE!\n",
      "FOUND ONE!\n",
      "FOUND ONE!\n",
      "FOUND ONE!\n"
     ]
    },
    {
     "name": "stderr",
     "output_type": "stream",
     "text": [
      "  1%|          | 7387/1000000 [00:29<1:04:20, 257.13it/s]"
     ]
    },
    {
     "name": "stdout",
     "output_type": "stream",
     "text": [
      "FOUND ONE!\n",
      "FOUND ONE!\n",
      "FOUND ONE!\n",
      "FOUND ONE!\n"
     ]
    },
    {
     "name": "stderr",
     "output_type": "stream",
     "text": [
      "  1%|          | 7420/1000000 [00:29<1:03:15, 261.54it/s]"
     ]
    },
    {
     "name": "stdout",
     "output_type": "stream",
     "text": [
      "FOUND ONE!\n",
      "FOUND ONE!\n",
      "FOUND ONE!\n",
      "FOUND ONE!\n",
      "FOUND ONE!\n",
      "FOUND ONE!\n"
     ]
    },
    {
     "name": "stderr",
     "output_type": "stream",
     "text": [
      "  1%|          | 7449/1000000 [00:29<1:31:28, 180.84it/s]"
     ]
    },
    {
     "name": "stdout",
     "output_type": "stream",
     "text": [
      "FOUND ONE!\n",
      "FOUND ONE!\n",
      "FOUND ONE!\n"
     ]
    },
    {
     "name": "stderr",
     "output_type": "stream",
     "text": [
      "  1%|          | 7570/1000000 [00:30<54:19, 304.48it/s]  "
     ]
    },
    {
     "name": "stdout",
     "output_type": "stream",
     "text": [
      "FOUND ONE!\n",
      "FOUND ONE!\n",
      "FOUND ONE!\n"
     ]
    },
    {
     "name": "stderr",
     "output_type": "stream",
     "text": [
      "  1%|          | 7662/1000000 [00:30<49:34, 333.58it/s]"
     ]
    },
    {
     "name": "stdout",
     "output_type": "stream",
     "text": [
      "FOUND ONE!\n",
      "FOUND ONE!\n",
      "FOUND ONE!\n",
      "FOUND ONE!\n"
     ]
    },
    {
     "name": "stderr",
     "output_type": "stream",
     "text": [
      "  1%|          | 7747/1000000 [00:30<53:24, 309.61it/s]"
     ]
    },
    {
     "name": "stdout",
     "output_type": "stream",
     "text": [
      "FOUND ONE!\n",
      "FOUND ONE!\n",
      "FOUND ONE!\n",
      "FOUND ONE!\n",
      "FOUND ONE!\n",
      "FOUND ONE!\n",
      "FOUND ONE!\n",
      "FOUND ONE!\n"
     ]
    },
    {
     "name": "stderr",
     "output_type": "stream",
     "text": [
      "  1%|          | 7882/1000000 [00:31<59:14, 279.09it/s]  "
     ]
    },
    {
     "name": "stdout",
     "output_type": "stream",
     "text": [
      "FOUND ONE!\n",
      "FOUND ONE!\n",
      "FOUND ONE!\n",
      "FOUND ONE!\n",
      "FOUND ONE!\n"
     ]
    },
    {
     "name": "stderr",
     "output_type": "stream",
     "text": [
      "  1%|          | 7943/1000000 [00:31<1:01:34, 268.54it/s]"
     ]
    },
    {
     "name": "stdout",
     "output_type": "stream",
     "text": [
      "FOUND ONE!\n",
      "FOUND ONE!\n",
      "FOUND ONE!\n",
      "FOUND ONE!\n"
     ]
    },
    {
     "name": "stderr",
     "output_type": "stream",
     "text": [
      "  1%|          | 7998/1000000 [00:31<1:12:09, 229.13it/s]"
     ]
    },
    {
     "name": "stdout",
     "output_type": "stream",
     "text": [
      "FOUND ONE!\n",
      "FOUND ONE!\n",
      "FOUND ONE!\n",
      "FOUND ONE!\n"
     ]
    },
    {
     "name": "stderr",
     "output_type": "stream",
     "text": [
      "  1%|          | 8035/1000000 [00:31<1:07:26, 245.14it/s]"
     ]
    },
    {
     "name": "stdout",
     "output_type": "stream",
     "text": [
      "FOUND ONE!\n",
      "FOUND ONE!\n",
      "FOUND ONE!\n",
      "FOUND ONE!\n"
     ]
    },
    {
     "name": "stderr",
     "output_type": "stream",
     "text": [
      "  1%|          | 8126/1000000 [00:32<55:50, 296.00it/s]  "
     ]
    },
    {
     "name": "stdout",
     "output_type": "stream",
     "text": [
      "FOUND ONE!\n",
      "FOUND ONE!\n",
      "FOUND ONE!\n"
     ]
    },
    {
     "name": "stderr",
     "output_type": "stream",
     "text": [
      "  1%|          | 8158/1000000 [00:32<57:10, 289.10it/s]"
     ]
    },
    {
     "name": "stdout",
     "output_type": "stream",
     "text": [
      "FOUND ONE!\n",
      "FOUND ONE!\n",
      "FOUND ONE!\n",
      "FOUND ONE!\n",
      "FOUND ONE!\n",
      "FOUND ONE!\n",
      "FOUND ONE!\n",
      "FOUND ONE!\n",
      "FOUND ONE!\n",
      "FOUND ONE!\n",
      "FOUND ONE!\n",
      "FOUND ONE!\n",
      "FOUND ONE!\n",
      "FOUND ONE!\n",
      "FOUND ONE!\n",
      "FOUND ONE!\n",
      "FOUND ONE!\n",
      "FOUND ONE!\n",
      "FOUND ONE!\n",
      "FOUND ONE!\n",
      "FOUND ONE!\n",
      "FOUND ONE!\n",
      "FOUND ONE!\n",
      "FOUND ONE!\n",
      "FOUND ONE!\n",
      "FOUND ONE!\n",
      "FOUND ONE!\n",
      "FOUND ONE!\n",
      "FOUND ONE!\n",
      "FOUND ONE!\n",
      "FOUND ONE!\n",
      "FOUND ONE!\n",
      "FOUND ONE!\n",
      "FOUND ONE!\n",
      "FOUND ONE!\n",
      "FOUND ONE!\n",
      "FOUND ONE!\n",
      "FOUND ONE!\n",
      "FOUND ONE!\n",
      "FOUND ONE!\n",
      "FOUND ONE!\n",
      "FOUND ONE!\n",
      "FOUND ONE!\n",
      "FOUND ONE!\n",
      "FOUND ONE!\n",
      "FOUND ONE!\n",
      "FOUND ONE!\n",
      "FOUND ONE!\n",
      "FOUND ONE!\n",
      "FOUND ONE!\n",
      "FOUND ONE!\n",
      "FOUND ONE!\n",
      "FOUND ONE!\n",
      "FOUND ONE!\n",
      "FOUND ONE!\n",
      "FOUND ONE!\n",
      "FOUND ONE!\n",
      "FOUND ONE!\n",
      "FOUND ONE!\n",
      "FOUND ONE!\n",
      "FOUND ONE!\n",
      "FOUND ONE!\n",
      "FOUND ONE!\n",
      "FOUND ONE!\n",
      "FOUND ONE!\n",
      "FOUND ONE!\n",
      "FOUND ONE!\n",
      "FOUND ONE!\n",
      "FOUND ONE!\n",
      "FOUND ONE!\n",
      "FOUND ONE!\n",
      "FOUND ONE!\n",
      "FOUND ONE!\n",
      "FOUND ONE!\n",
      "FOUND ONE!\n",
      "FOUND ONE!\n",
      "FOUND ONE!\n",
      "FOUND ONE!\n",
      "FOUND ONE!\n",
      "FOUND ONE!\n",
      "FOUND ONE!\n",
      "FOUND ONE!\n",
      "FOUND ONE!\n",
      "FOUND ONE!\n",
      "FOUND ONE!\n",
      "FOUND ONE!\n",
      "FOUND ONE!\n",
      "FOUND ONE!\n",
      "FOUND ONE!\n",
      "FOUND ONE!\n",
      "FOUND ONE!\n",
      "FOUND ONE!\n",
      "FOUND ONE!\n",
      "FOUND ONE!\n",
      "FOUND ONE!\n",
      "FOUND ONE!\n",
      "FOUND ONE!\n",
      "FOUND ONE!\n",
      "FOUND ONE!\n",
      "FOUND ONE!\n",
      "FOUND ONE!\n",
      "FOUND ONE!\n",
      "FOUND ONE!\n",
      "FOUND ONE!\n",
      "FOUND ONE!\n",
      "FOUND ONE!\n",
      "FOUND ONE!\n",
      "FOUND ONE!\n",
      "FOUND ONE!\n",
      "FOUND ONE!\n",
      "FOUND ONE!\n",
      "FOUND ONE!\n",
      "FOUND ONE!\n",
      "FOUND ONE!\n",
      "FOUND ONE!\n",
      "FOUND ONE!\n",
      "FOUND ONE!\n",
      "FOUND ONE!\n",
      "FOUND ONE!\n",
      "FOUND ONE!\n",
      "FOUND ONE!\n",
      "FOUND ONE!\n",
      "FOUND ONE!\n",
      "FOUND ONE!\n",
      "FOUND ONE!\n",
      "FOUND ONE!\n",
      "FOUND ONE!\n",
      "FOUND ONE!\n",
      "FOUND ONE!\n",
      "FOUND ONE!\n",
      "FOUND ONE!\n",
      "FOUND ONE!\n",
      "FOUND ONE!\n",
      "FOUND ONE!\n",
      "FOUND ONE!\n",
      "FOUND ONE!\n",
      "FOUND ONE!\n",
      "FOUND ONE!\n",
      "FOUND ONE!\n",
      "FOUND ONE!\n",
      "FOUND ONE!\n",
      "FOUND ONE!\n",
      "FOUND ONE!\n",
      "FOUND ONE!\n",
      "FOUND ONE!\n",
      "FOUND ONE!\n",
      "FOUND ONE!\n",
      "FOUND ONE!\n",
      "FOUND ONE!\n",
      "FOUND ONE!\n",
      "FOUND ONE!\n",
      "FOUND ONE!\n",
      "FOUND ONE!\n",
      "FOUND ONE!\n",
      "FOUND ONE!\n",
      "FOUND ONE!\n",
      "FOUND ONE!\n",
      "FOUND ONE!\n",
      "FOUND ONE!\n",
      "FOUND ONE!\n",
      "FOUND ONE!\n",
      "FOUND ONE!\n",
      "FOUND ONE!\n",
      "FOUND ONE!\n",
      "FOUND ONE!\n",
      "FOUND ONE!\n",
      "FOUND ONE!\n",
      "FOUND ONE!\n",
      "FOUND ONE!\n",
      "FOUND ONE!\n"
     ]
    },
    {
     "name": "stderr",
     "output_type": "stream",
     "text": [
      "  1%|          | 8189/1000000 [00:38<15:51:04, 17.38it/s]"
     ]
    },
    {
     "name": "stdout",
     "output_type": "stream",
     "text": [
      "FOUND ONE!\n",
      "FOUND ONE!\n",
      "FOUND ONE!\n",
      "FOUND ONE!\n",
      "FOUND ONE!\n"
     ]
    },
    {
     "name": "stderr",
     "output_type": "stream",
     "text": [
      "  1%|          | 8255/1000000 [00:39<8:16:36, 33.28it/s] "
     ]
    },
    {
     "name": "stdout",
     "output_type": "stream",
     "text": [
      "FOUND ONE!\n",
      "FOUND ONE!\n",
      "FOUND ONE!\n"
     ]
    },
    {
     "name": "stderr",
     "output_type": "stream",
     "text": [
      "  1%|          | 8330/1000000 [00:39<4:21:02, 63.32it/s]"
     ]
    },
    {
     "name": "stdout",
     "output_type": "stream",
     "text": [
      "FOUND ONE!\n",
      "FOUND ONE!\n",
      "FOUND ONE!\n"
     ]
    },
    {
     "name": "stderr",
     "output_type": "stream",
     "text": [
      "  1%|          | 8405/1000000 [00:39<2:34:25, 107.01it/s]"
     ]
    },
    {
     "name": "stdout",
     "output_type": "stream",
     "text": [
      "FOUND ONE!\n",
      "FOUND ONE!\n",
      "FOUND ONE!\n",
      "FOUND ONE!\n"
     ]
    },
    {
     "name": "stderr",
     "output_type": "stream",
     "text": [
      "  1%|          | 8513/1000000 [00:39<1:17:22, 213.55it/s]"
     ]
    },
    {
     "name": "stdout",
     "output_type": "stream",
     "text": [
      "FOUND ONE!\n",
      "FOUND ONE!\n",
      "FOUND ONE!\n",
      "FOUND ONE!\n"
     ]
    },
    {
     "name": "stderr",
     "output_type": "stream",
     "text": [
      "\n"
     ]
    },
    {
     "ename": "KeyboardInterrupt",
     "evalue": "",
     "output_type": "error",
     "traceback": [
      "\u001b[1;31m---------------------------------------------------------------------------\u001b[0m",
      "\u001b[1;31mKeyboardInterrupt\u001b[0m                         Traceback (most recent call last)",
      "Cell \u001b[1;32mIn[15], line 10\u001b[0m\n\u001b[0;32m      7\u001b[0m grid \u001b[38;5;241m=\u001b[39m np\u001b[38;5;241m.\u001b[39mzeros((height, width), dtype\u001b[38;5;241m=\u001b[39m\u001b[38;5;28mint\u001b[39m)\n\u001b[0;32m      9\u001b[0m \u001b[38;5;28;01mfor\u001b[39;00m move \u001b[38;5;129;01min\u001b[39;00m tqdm(\u001b[38;5;28mrange\u001b[39m(moves)):\n\u001b[1;32m---> 10\u001b[0m     grid \u001b[38;5;241m=\u001b[39m \u001b[43mnp\u001b[49m\u001b[38;5;241;43m.\u001b[39;49m\u001b[43mzeros\u001b[49m\u001b[43m(\u001b[49m\u001b[43m(\u001b[49m\u001b[43mheight\u001b[49m\u001b[43m,\u001b[49m\u001b[43m \u001b[49m\u001b[43mwidth\u001b[49m\u001b[43m)\u001b[49m\u001b[43m,\u001b[49m\u001b[43m \u001b[49m\u001b[43mdtype\u001b[49m\u001b[38;5;241;43m=\u001b[39;49m\u001b[38;5;28;43mint\u001b[39;49m\u001b[43m)\u001b[49m\n\u001b[0;32m     11\u001b[0m     \u001b[38;5;28;01mfor\u001b[39;00m p, v \u001b[38;5;129;01min\u001b[39;00m robots_parsed:\n\u001b[0;32m     12\u001b[0m         new_x \u001b[38;5;241m=\u001b[39m (p[\u001b[38;5;241m0\u001b[39m] \u001b[38;5;241m+\u001b[39m v[\u001b[38;5;241m0\u001b[39m] \u001b[38;5;241m*\u001b[39m move) \u001b[38;5;241m%\u001b[39m width\n",
      "\u001b[1;31mKeyboardInterrupt\u001b[0m: "
     ]
    }
   ],
   "source": [
    "import matplotlib.pyplot as plt\n",
    "from tqdm import tqdm\n",
    "\n",
    "height = 103\n",
    "width = 101\n",
    "moves = 1000000\n",
    "grid = np.zeros((height, width), dtype=int)\n",
    "\n",
    "for move in tqdm(range(moves)):\n",
    "    grid = np.zeros((height, width), dtype=int)\n",
    "    for p, v in robots_parsed:\n",
    "        new_x = (p[0] + v[0] * move) % width\n",
    "        new_y = (p[1] + v[1] * move) % height\n",
    "        grid[new_y, new_x] = 1\n",
    "    \n",
    "    for y in range(height - 1):\n",
    "        for x in range(width - 1):\n",
    "            if grid[y, x] == 1 and grid[y + 1, x] == 1 and grid[y, x + 1] == 1 and grid[y + 1, x + 1] == 1:\n",
    "                fig, ax = plt.subplots()\n",
    "                im = ax.imshow(grid)\n",
    "                plt.savefig(f\"14_img/{move}.png\")\n",
    "                plt.close()\n",
    "                print(\"FOUND ONE!\")\n",
    "    \n",
    "        \n",
    "\n"
   ]
  }
 ],
 "metadata": {
  "kernelspec": {
   "display_name": ".venv",
   "language": "python",
   "name": "python3"
  },
  "language_info": {
   "codemirror_mode": {
    "name": "ipython",
    "version": 3
   },
   "file_extension": ".py",
   "mimetype": "text/x-python",
   "name": "python",
   "nbconvert_exporter": "python",
   "pygments_lexer": "ipython3",
   "version": "3.13.0"
  }
 },
 "nbformat": 4,
 "nbformat_minor": 2
}
