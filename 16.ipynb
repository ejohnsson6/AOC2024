{
 "cells": [
  {
   "cell_type": "code",
   "execution_count": null,
   "metadata": {},
   "outputs": [],
   "source": [
    "from pathlib import Path\n",
    "from utils.get_input import get_input\n",
    "import numpy as np\n",
    "\n",
    "\n",
    "inp = Path(\"./test_input\").read_text()\n",
    "inp = get_input(16)\n",
    "inp;"
   ]
  },
  {
   "cell_type": "code",
   "execution_count": 2,
   "metadata": {},
   "outputs": [],
   "source": [
    "import rustworkx as rx\n",
    "\n",
    "inp_np = np.array([list(i) for i in inp.split(\"\\n\")])\n",
    "inp_np\n",
    "all_dots = np.argwhere(inp_np == \".\")\n",
    "S = np.argwhere(inp_np == \"S\")\n",
    "E = np.argwhere(inp_np == \"E\")\n",
    "\n",
    "all_dots_s_e = np.concatenate([all_dots, S, E])\n",
    "\n",
    "# Build the graph, used in both part1 and 2\n",
    "\n",
    "num_nodes = len(all_dots_s_e) * 4\n",
    "all_dots_s_e_map = {tuple(n): i * 4 for i, n in enumerate(all_dots_s_e)}\n",
    "\n",
    "graph = rx.PyDiGraph()\n",
    "graph.add_nodes_from(range(num_nodes))\n",
    "\n",
    "UP = 0\n",
    "RIGHT = 1\n",
    "DOWN = 2\n",
    "LEFT = 3\n",
    "\n",
    "for n, i in all_dots_s_e_map.items():\n",
    "    y, x = n\n",
    "\n",
    "    graph.add_edges_from([(i + LEFT, i + UP, 1000)])\n",
    "    graph.add_edges_from([(i + RIGHT, i + UP, 1000)])\n",
    "    under = (y + 1, x)\n",
    "    if under in all_dots_s_e_map:\n",
    "        graph.add_edges_from([(all_dots_s_e_map[under] + UP, i + UP, 1)])\n",
    "\n",
    "    graph.add_edges_from([(i + UP, i + RIGHT, 1000)])\n",
    "    graph.add_edges_from([(i + DOWN, i + RIGHT, 1000)])\n",
    "    left_of = (y, x - 1)\n",
    "    if left_of in all_dots_s_e_map:\n",
    "        graph.add_edges_from([(all_dots_s_e_map[left_of] + RIGHT, i + RIGHT, 1)])\n",
    "\n",
    "    graph.add_edges_from([(i + RIGHT, i + DOWN, 1000)])\n",
    "    graph.add_edges_from([(i + LEFT, i + DOWN, 1000)])\n",
    "    above = (y - 1, x)\n",
    "    if above in all_dots_s_e_map:\n",
    "        graph.add_edges_from([(all_dots_s_e_map[above] + DOWN, i + DOWN, 1)])\n",
    "\n",
    "    graph.add_edges_from([(i + DOWN, i + LEFT, 1000)])\n",
    "    graph.add_edges_from([(i + UP, i + LEFT, 1000)])\n",
    "    right_of = (y, x + 1)\n",
    "    if right_of in all_dots_s_e_map:\n",
    "        graph.add_edges_from([(all_dots_s_e_map[right_of] + LEFT, i + LEFT, 1)])\n",
    "\n",
    "s_i = (len(all_dots_s_e) - 2) * 4\n",
    "e_i = (len(all_dots_s_e) - 1) * 4\n",
    "\n",
    "\n",
    "ps = rx.dijkstra_shortest_path_lengths(graph, s_i + RIGHT, edge_cost_fn=int)"
   ]
  },
  {
   "cell_type": "code",
   "execution_count": 3,
   "metadata": {},
   "outputs": [
    {
     "data": {
      "text/plain": [
       "94444"
      ]
     },
     "execution_count": 3,
     "metadata": {},
     "output_type": "execute_result"
    }
   ],
   "source": [
    "# from dijkstar import Graph, find_path\n",
    "def part1():\n",
    "    c1 = ps[e_i + RIGHT]\n",
    "    c2 = ps[e_i + DOWN]\n",
    "    c3 = ps[e_i + LEFT]\n",
    "    c4 = ps[e_i + UP]\n",
    "\n",
    "    shortest = int(min(c1, c2, c3, c4))\n",
    "    return shortest\n",
    "\n",
    "\n",
    "part1()"
   ]
  },
  {
   "cell_type": "code",
   "execution_count": 4,
   "metadata": {},
   "outputs": [
    {
     "name": "stdout",
     "output_type": "stream",
     "text": [
      "305 ns ± 2.9 ns per loop (mean ± std. dev. of 7 runs, 1,000,000 loops each)\n"
     ]
    }
   ],
   "source": [
    "%%timeit\n",
    "part1()"
   ]
  },
  {
   "cell_type": "code",
   "execution_count": 5,
   "metadata": {},
   "outputs": [
    {
     "data": {
      "text/plain": [
       "502"
      ]
     },
     "execution_count": 5,
     "metadata": {},
     "output_type": "execute_result"
    }
   ],
   "source": [
    "from tqdm import tqdm\n",
    "\n",
    "# Graph 2, flip all edges\n",
    "graph2 = rx.PyDiGraph()\n",
    "graph2.add_nodes_from(range(num_nodes))\n",
    "edges = []\n",
    "for fr, to, w in graph.weighted_edge_list():\n",
    "    edges.append((to, fr, w))\n",
    "graph2.add_edges_from(edges)\n",
    "shortest = part1()\n",
    "\n",
    "\n",
    "def part2():\n",
    "    sum = 0\n",
    "    ps = rx.dijkstra_shortest_path_lengths(graph, s_i + RIGHT, edge_cost_fn=int)\n",
    "    ps2 = rx.dijkstra_shortest_path_lengths(graph2, e_i + RIGHT, edge_cost_fn=int)\n",
    "\n",
    "    for _, i in list(all_dots_s_e_map.items())[:-2]:\n",
    "        for d1 in [UP, RIGHT, DOWN, LEFT]:\n",
    "            c1 = ps[i + d1]\n",
    "            c2 = ps2[i + d1]\n",
    "            cost_total = int(c1 + c2)\n",
    "            if cost_total == shortest:\n",
    "                sum += 1\n",
    "                break\n",
    "    return sum + 2\n",
    "\n",
    "part2()"
   ]
  },
  {
   "cell_type": "code",
   "execution_count": 6,
   "metadata": {},
   "outputs": [
    {
     "name": "stdout",
     "output_type": "stream",
     "text": [
      "19 ms ± 231 μs per loop (mean ± std. dev. of 7 runs, 100 loops each)\n"
     ]
    }
   ],
   "source": [
    "%%timeit\n",
    "part2()"
   ]
  }
 ],
 "metadata": {
  "kernelspec": {
   "display_name": ".venv",
   "language": "python",
   "name": "python3"
  },
  "language_info": {
   "codemirror_mode": {
    "name": "ipython",
    "version": 3
   },
   "file_extension": ".py",
   "mimetype": "text/x-python",
   "name": "python",
   "nbconvert_exporter": "python",
   "pygments_lexer": "ipython3",
   "version": "3.13.0"
  }
 },
 "nbformat": 4,
 "nbformat_minor": 2
}
