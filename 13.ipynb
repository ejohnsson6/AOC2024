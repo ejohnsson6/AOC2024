{
 "cells": [
  {
   "cell_type": "code",
   "execution_count": null,
   "metadata": {},
   "outputs": [
    {
     "data": {
      "text/plain": [
       "'Button A: X+99, Y+37\\nButton B: X+18, Y+26\\nPrize: X=9441, Y=5051\\n\\nButton A: X+32, Y+49\\nButton B: X+39, Y+13\\nPrize: X=19007, Y=19244\\n\\nButton A: X+89, Y+60\\nButton B: X+13, Y+73\\nPrize: X=4445, Y=4731\\n\\nButton A: X+38, Y+15\\nButton B: X+35, Y+92\\nPrize: X=5566, Y=7670\\n\\nButton A: X+24, Y+51\\nButton B: X+53, Y+19\\nPrize: X=9532, Y=11844\\n\\nButton A: X+20, Y+57\\nButton B: X+47, Y+16\\nPrize: X=17980, Y=8523\\n\\nButton A: X+19, Y+43\\nButton B: X+66, Y+41\\nPrize: X=12958, Y=15245\\n\\nButton A: X+16, Y+80\\nButton B: X+85, Y+85\\nPrize: X=8335, Y=13455\\n\\nButton A: X+17, Y+97\\nButton B: X+28, Y+23\\nPrize: X=1710, Y=2235\\n\\nButton A: X+11, Y+44\\nButton B: X+66, Y+41\\nPrize: X=7602, Y=2770\\n\\nButton A: X+92, Y+23\\nButton B: X+73, Y+87\\nPrize: X=5809, Y=2071\\n\\nButton A: X+58, Y+15\\nButton B: X+15, Y+48\\nPrize: X=17943, Y=9671\\n\\nButton A: X+41, Y+13\\nButton B: X+28, Y+59\\nPrize: X=9586, Y=5118\\n\\nButton A: X+80, Y+98\\nButton B: X+85, Y+13\\nPrize: X=1550, Y=1352\\n\\nButton A: X+79, Y+99\\nButton B: X+12, Y+89\\nPrize: X=2987, Y=8033\\n\\nButton A: X+24, Y+11\\nButton B: X+49, Y+74\\nPrize: X=17044, Y=1457\\n\\nButton A: X+12, Y+62\\nButton B: X+48, Y+14\\nPrize: X=13232, Y=14704\\n\\nButton A: X+92, Y+65\\nButton B: X+29, Y+65\\nPrize: X=4913, Y=4940\\n\\nButton A: X+20, Y+48\\nButton B: X+42, Y+14\\nPrize: X=12920, Y=8496\\n\\nButton A: X+99, Y+89\\nButton B: X+84, Y+14\\nPrize: X=15561, Y=9191\\n\\nButton A: X+27, Y+60\\nButton B: X+44, Y+11\\nPrize: X=13864, Y=7165\\n\\nButton A: X+14, Y+29\\nButton B: X+36, Y+12\\nPrize: X=5506, Y=1477\\n\\nButton A: X+15, Y+46\\nButton B: X+44, Y+25\\nPrize: X=6484, Y=19482\\n\\nButton A: X+43, Y+30\\nButton B: X+13, Y+31\\nPrize: X=19111, Y=15633\\n\\nButton A: X+59, Y+29\\nButton B: X+15, Y+49\\nPrize: X=3524, Y=12116\\n\\nButton A: X+96, Y+50\\nButton B: X+42, Y+69\\nPrize: X=9672, Y=5980\\n\\nButton A: X+73, Y+81\\nButton B: X+84, Y+17\\nPrize: X=1300, Y=528\\n\\nButton A: X+67, Y+11\\nButton B: X+21, Y+84\\nPrize: X=15562, Y=16689\\n\\nButton A: X+88, Y+36\\nButton B: X+16, Y+24\\nPrize: X=2792, Y=1980\\n\\nButton A: X+13, Y+42\\nButton B: X+66, Y+21\\nPrize: X=16519, Y=2510\\n\\nButton A: X+52, Y+48\\nButton B: X+96, Y+18\\nPrize: X=10556, Y=4236\\n\\nButton A: X+65, Y+31\\nButton B: X+29, Y+63\\nPrize: X=3834, Y=18182\\n\\nButton A: X+21, Y+43\\nButton B: X+68, Y+43\\nPrize: X=18375, Y=11873\\n\\nButton A: X+64, Y+28\\nButton B: X+17, Y+38\\nPrize: X=17755, Y=934\\n\\nButton A: X+73, Y+30\\nButton B: X+25, Y+66\\nPrize: X=946, Y=3848\\n\\nButton A: X+29, Y+53\\nButton B: X+32, Y+13\\nPrize: X=15960, Y=5854\\n\\nButton A: X+97, Y+68\\nButton B: X+23, Y+63\\nPrize: X=9229, Y=8673\\n\\nButton A: X+15, Y+11\\nButton B: X+16, Y+94\\nPrize: X=2365, Y=8727\\n\\nButton A: X+73, Y+91\\nButton B: X+86, Y+28\\nPrize: X=12052, Y=7420\\n\\nButton A: X+68, Y+31\\nButton B: X+12, Y+46\\nPrize: X=12368, Y=3291\\n\\nButton A: X+18, Y+62\\nButton B: X+75, Y+24\\nPrize: X=9779, Y=10706\\n\\nButton A: X+40, Y+11\\nButton B: X+18, Y+27\\nPrize: X=7168, Y=8475\\n\\nButton A: X+34, Y+18\\nButton B: X+29, Y+59\\nPrize: X=5893, Y=619\\n\\nButton A: X+15, Y+74\\nButton B: X+91, Y+47\\nPrize: X=1310, Y=4453\\n\\nButton A: X+19, Y+72\\nButton B: X+75, Y+11\\nPrize: X=10354, Y=14587\\n\\nButton A: X+31, Y+58\\nButton B: X+26, Y+12\\nPrize: X=18024, Y=17856\\n\\nButton A: X+13, Y+39\\nButton B: X+85, Y+58\\nPrize: X=4855, Y=7787\\n\\nButton A: X+99, Y+75\\nButton B: X+25, Y+95\\nPrize: X=6984, Y=6660\\n\\nButton A: X+89, Y+46\\nButton B: X+24, Y+65\\nPrize: X=2956, Y=4105\\n\\nButton A: X+43, Y+80\\nButton B: X+41, Y+14\\nPrize: X=19521, Y=428\\n\\nButton A: X+24, Y+68\\nButton B: X+38, Y+12\\nPrize: X=13148, Y=19652\\n\\nButton A: X+80, Y+17\\nButton B: X+16, Y+69\\nPrize: X=16864, Y=19110\\n\\nButton A: X+30, Y+12\\nButton B: X+42, Y+58\\nPrize: X=14276, Y=16498\\n\\nButton A: X+91, Y+33\\nButton B: X+29, Y+57\\nPrize: X=2249, Y=3837\\n\\nButton A: X+19, Y+47\\nButton B: X+59, Y+24\\nPrize: X=9831, Y=8606\\n\\nButton A: X+21, Y+93\\nButton B: X+74, Y+43\\nPrize: X=5391, Y=9354\\n\\nButton A: X+47, Y+23\\nButton B: X+48, Y+74\\nPrize: X=11705, Y=19361\\n\\nButton A: X+85, Y+34\\nButton B: X+13, Y+80\\nPrize: X=2957, Y=5970\\n\\nButton A: X+52, Y+73\\nButton B: X+57, Y+16\\nPrize: X=4483, Y=4821\\n\\nButton A: X+26, Y+81\\nButton B: X+24, Y+11\\nPrize: X=2192, Y=2939\\n\\nButton A: X+56, Y+79\\nButton B: X+36, Y+13\\nPrize: X=4384, Y=11169\\n\\nButton A: X+39, Y+17\\nButton B: X+30, Y+51\\nPrize: X=1388, Y=1009\\n\\nButton A: X+43, Y+28\\nButton B: X+20, Y+41\\nPrize: X=6010, Y=5851\\n\\nButton A: X+34, Y+63\\nButton B: X+43, Y+22\\nPrize: X=16404, Y=14788\\n\\nButton A: X+61, Y+14\\nButton B: X+16, Y+66\\nPrize: X=14285, Y=15000\\n\\nButton A: X+34, Y+49\\nButton B: X+40, Y+16\\nPrize: X=494, Y=10367\\n\\nButton A: X+77, Y+46\\nButton B: X+35, Y+99\\nPrize: X=3570, Y=4085\\n\\nButton A: X+66, Y+31\\nButton B: X+32, Y+73\\nPrize: X=5854, Y=5822\\n\\nButton A: X+59, Y+13\\nButton B: X+13, Y+54\\nPrize: X=18519, Y=6976\\n\\nButton A: X+77, Y+17\\nButton B: X+49, Y+47\\nPrize: X=10024, Y=4384\\n\\nButton A: X+31, Y+51\\nButton B: X+31, Y+12\\nPrize: X=5819, Y=236\\n\\nButton A: X+39, Y+13\\nButton B: X+32, Y+61\\nPrize: X=9539, Y=16426\\n\\nButton A: X+61, Y+31\\nButton B: X+18, Y+49\\nPrize: X=1932, Y=2018\\n\\nButton A: X+12, Y+22\\nButton B: X+53, Y+32\\nPrize: X=1273, Y=1226\\n\\nButton A: X+41, Y+11\\nButton B: X+30, Y+46\\nPrize: X=18711, Y=18065\\n\\nButton A: X+17, Y+37\\nButton B: X+68, Y+31\\nPrize: X=1530, Y=2979\\n\\nButton A: X+23, Y+12\\nButton B: X+16, Y+54\\nPrize: X=4332, Y=7058\\n\\nButton A: X+54, Y+79\\nButton B: X+75, Y+29\\nPrize: X=8742, Y=9076\\n\\nButton A: X+32, Y+62\\nButton B: X+75, Y+31\\nPrize: X=1057, Y=1705\\n\\nButton A: X+25, Y+12\\nButton B: X+35, Y+61\\nPrize: X=13185, Y=6659\\n\\nButton A: X+22, Y+61\\nButton B: X+43, Y+33\\nPrize: X=2051, Y=2324\\n\\nButton A: X+13, Y+58\\nButton B: X+94, Y+69\\nPrize: X=10135, Y=10880\\n\\nButton A: X+90, Y+25\\nButton B: X+52, Y+86\\nPrize: X=3974, Y=4467\\n\\nButton A: X+11, Y+21\\nButton B: X+65, Y+34\\nPrize: X=3502, Y=3082\\n\\nButton A: X+16, Y+49\\nButton B: X+59, Y+34\\nPrize: X=1391, Y=13931\\n\\nButton A: X+79, Y+23\\nButton B: X+17, Y+75\\nPrize: X=874, Y=11092\\n\\nButton A: X+74, Y+15\\nButton B: X+50, Y+78\\nPrize: X=6322, Y=7050\\n\\nButton A: X+11, Y+38\\nButton B: X+83, Y+46\\nPrize: X=9314, Y=15220\\n\\nButton A: X+20, Y+41\\nButton B: X+63, Y+42\\nPrize: X=6209, Y=15155\\n\\nButton A: X+22, Y+61\\nButton B: X+67, Y+19\\nPrize: X=14949, Y=6045\\n\\nButton A: X+54, Y+12\\nButton B: X+23, Y+48\\nPrize: X=6486, Y=16664\\n\\nButton A: X+64, Y+15\\nButton B: X+12, Y+41\\nPrize: X=5912, Y=17526\\n\\nButton A: X+53, Y+25\\nButton B: X+14, Y+56\\nPrize: X=1390, Y=8670\\n\\nButton A: X+23, Y+77\\nButton B: X+82, Y+30\\nPrize: X=4707, Y=7689\\n\\nButton A: X+65, Y+26\\nButton B: X+34, Y+96\\nPrize: X=6669, Y=10166\\n\\nButton A: X+21, Y+30\\nButton B: X+87, Y+34\\nPrize: X=4413, Y=1790\\n\\nButton A: X+52, Y+24\\nButton B: X+13, Y+23\\nPrize: X=18671, Y=8533\\n\\nButton A: X+17, Y+41\\nButton B: X+89, Y+39\\nPrize: X=8119, Y=5705\\n\\nButton A: X+90, Y+11\\nButton B: X+40, Y+42\\nPrize: X=6560, Y=2546\\n\\nButton A: X+21, Y+11\\nButton B: X+11, Y+24\\nPrize: X=12805, Y=3021\\n\\nButton A: X+45, Y+19\\nButton B: X+20, Y+37\\nPrize: X=17470, Y=3430\\n\\nButton A: X+81, Y+75\\nButton B: X+87, Y+15\\nPrize: X=7719, Y=1575\\n\\nButton A: X+46, Y+61\\nButton B: X+11, Y+93\\nPrize: X=1391, Y=9137\\n\\nButton A: X+32, Y+86\\nButton B: X+48, Y+37\\nPrize: X=6544, Y=11055\\n\\nButton A: X+22, Y+88\\nButton B: X+93, Y+17\\nPrize: X=8888, Y=4312\\n\\nButton A: X+26, Y+12\\nButton B: X+11, Y+23\\nPrize: X=9736, Y=7086\\n\\nButton A: X+22, Y+72\\nButton B: X+83, Y+19\\nPrize: X=7175, Y=8071\\n\\nButton A: X+17, Y+62\\nButton B: X+65, Y+23\\nPrize: X=15406, Y=5020\\n\\nButton A: X+32, Y+89\\nButton B: X+57, Y+26\\nPrize: X=5556, Y=8561\\n\\nButton A: X+58, Y+37\\nButton B: X+22, Y+61\\nPrize: X=3046, Y=4855\\n\\nButton A: X+56, Y+12\\nButton B: X+38, Y+86\\nPrize: X=11734, Y=6278\\n\\nButton A: X+38, Y+44\\nButton B: X+77, Y+23\\nPrize: X=9705, Y=5217\\n\\nButton A: X+41, Y+93\\nButton B: X+73, Y+42\\nPrize: X=6672, Y=7101\\n\\nButton A: X+12, Y+91\\nButton B: X+65, Y+58\\nPrize: X=5235, Y=7080\\n\\nButton A: X+29, Y+11\\nButton B: X+39, Y+54\\nPrize: X=4981, Y=16810\\n\\nButton A: X+18, Y+73\\nButton B: X+72, Y+23\\nPrize: X=18836, Y=13736\\n\\nButton A: X+51, Y+12\\nButton B: X+13, Y+65\\nPrize: X=19869, Y=6505\\n\\nButton A: X+36, Y+74\\nButton B: X+42, Y+14\\nPrize: X=19790, Y=9484\\n\\nButton A: X+95, Y+44\\nButton B: X+23, Y+40\\nPrize: X=10053, Y=7180\\n\\nButton A: X+65, Y+33\\nButton B: X+17, Y+45\\nPrize: X=19377, Y=5105\\n\\nButton A: X+88, Y+45\\nButton B: X+16, Y+88\\nPrize: X=3664, Y=2592\\n\\nButton A: X+20, Y+57\\nButton B: X+67, Y+35\\nPrize: X=7573, Y=13847\\n\\nButton A: X+38, Y+12\\nButton B: X+19, Y+81\\nPrize: X=3971, Y=3879\\n\\nButton A: X+85, Y+38\\nButton B: X+37, Y+68\\nPrize: X=3861, Y=4968\\n\\nButton A: X+75, Y+27\\nButton B: X+11, Y+60\\nPrize: X=2533, Y=5279\\n\\nButton A: X+78, Y+16\\nButton B: X+18, Y+73\\nPrize: X=7940, Y=15094\\n\\nButton A: X+12, Y+48\\nButton B: X+44, Y+15\\nPrize: X=10336, Y=242\\n\\nButton A: X+29, Y+15\\nButton B: X+18, Y+34\\nPrize: X=12523, Y=6305\\n\\nButton A: X+14, Y+69\\nButton B: X+45, Y+11\\nPrize: X=2167, Y=4989\\n\\nButton A: X+71, Y+25\\nButton B: X+22, Y+60\\nPrize: X=11202, Y=12470\\n\\nButton A: X+23, Y+17\\nButton B: X+22, Y+63\\nPrize: X=3280, Y=4995\\n\\nButton A: X+26, Y+38\\nButton B: X+36, Y+13\\nPrize: X=6890, Y=19575\\n\\nButton A: X+12, Y+37\\nButton B: X+61, Y+15\\nPrize: X=4509, Y=9163\\n\\nButton A: X+57, Y+13\\nButton B: X+21, Y+22\\nPrize: X=2712, Y=2047\\n\\nButton A: X+11, Y+68\\nButton B: X+75, Y+12\\nPrize: X=14215, Y=9700\\n\\nButton A: X+30, Y+11\\nButton B: X+23, Y+40\\nPrize: X=8806, Y=19219\\n\\nButton A: X+23, Y+57\\nButton B: X+60, Y+14\\nPrize: X=2590, Y=17204\\n\\nButton A: X+40, Y+68\\nButton B: X+38, Y+18\\nPrize: X=8710, Y=1278\\n\\nButton A: X+19, Y+73\\nButton B: X+81, Y+15\\nPrize: X=8470, Y=3514\\n\\nButton A: X+39, Y+15\\nButton B: X+29, Y+47\\nPrize: X=14685, Y=19503\\n\\nButton A: X+20, Y+67\\nButton B: X+70, Y+15\\nPrize: X=15170, Y=5571\\n\\nButton A: X+16, Y+81\\nButton B: X+68, Y+15\\nPrize: X=7428, Y=13016\\n\\nButton A: X+58, Y+16\\nButton B: X+13, Y+42\\nPrize: X=9766, Y=19260\\n\\nButton A: X+45, Y+77\\nButton B: X+89, Y+38\\nPrize: X=8360, Y=8019\\n\\nButton A: X+45, Y+82\\nButton B: X+44, Y+23\\nPrize: X=2786, Y=4848\\n\\nButton A: X+15, Y+71\\nButton B: X+88, Y+50\\nPrize: X=5156, Y=7178\\n\\nButton A: X+40, Y+84\\nButton B: X+57, Y+12\\nPrize: X=16015, Y=8924\\n\\nButton A: X+12, Y+45\\nButton B: X+82, Y+35\\nPrize: X=5674, Y=19005\\n\\nButton A: X+89, Y+87\\nButton B: X+23, Y+98\\nPrize: X=2470, Y=4680\\n\\nButton A: X+21, Y+40\\nButton B: X+37, Y+13\\nPrize: X=10302, Y=6032\\n\\nButton A: X+25, Y+48\\nButton B: X+77, Y+37\\nPrize: X=2447, Y=3479\\n\\nButton A: X+20, Y+54\\nButton B: X+73, Y+31\\nPrize: X=16925, Y=18737\\n\\nButton A: X+20, Y+57\\nButton B: X+56, Y+19\\nPrize: X=9788, Y=13895\\n\\nButton A: X+17, Y+59\\nButton B: X+65, Y+13\\nPrize: X=6977, Y=15555\\n\\nButton A: X+11, Y+59\\nButton B: X+44, Y+16\\nPrize: X=10000, Y=18000\\n\\nButton A: X+70, Y+74\\nButton B: X+98, Y+20\\nPrize: X=11200, Y=3898\\n\\nButton A: X+12, Y+67\\nButton B: X+85, Y+26\\nPrize: X=3393, Y=5763\\n\\nButton A: X+15, Y+69\\nButton B: X+56, Y+15\\nPrize: X=2470, Y=15914\\n\\nButton A: X+44, Y+94\\nButton B: X+84, Y+21\\nPrize: X=8008, Y=3164\\n\\nButton A: X+71, Y+29\\nButton B: X+13, Y+55\\nPrize: X=19080, Y=18744\\n\\nButton A: X+20, Y+44\\nButton B: X+53, Y+35\\nPrize: X=16427, Y=7613\\n\\nButton A: X+55, Y+24\\nButton B: X+17, Y+30\\nPrize: X=3769, Y=4502\\n\\nButton A: X+23, Y+56\\nButton B: X+48, Y+15\\nPrize: X=3018, Y=1698\\n\\nButton A: X+11, Y+68\\nButton B: X+43, Y+13\\nPrize: X=1837, Y=11911\\n\\nButton A: X+16, Y+81\\nButton B: X+76, Y+14\\nPrize: X=18144, Y=2477\\n\\nButton A: X+78, Y+29\\nButton B: X+12, Y+59\\nPrize: X=1148, Y=12570\\n\\nButton A: X+37, Y+20\\nButton B: X+31, Y+52\\nPrize: X=2224, Y=10136\\n\\nButton A: X+77, Y+56\\nButton B: X+25, Y+91\\nPrize: X=7427, Y=9989\\n\\nButton A: X+45, Y+28\\nButton B: X+24, Y+52\\nPrize: X=9386, Y=17560\\n\\nButton A: X+72, Y+95\\nButton B: X+66, Y+21\\nPrize: X=7794, Y=6517\\n\\nButton A: X+21, Y+59\\nButton B: X+44, Y+13\\nPrize: X=15709, Y=13699\\n\\nButton A: X+89, Y+87\\nButton B: X+64, Y+16\\nPrize: X=6391, Y=2569\\n\\nButton A: X+67, Y+25\\nButton B: X+12, Y+30\\nPrize: X=2506, Y=5230\\n\\nButton A: X+76, Y+23\\nButton B: X+11, Y+50\\nPrize: X=16496, Y=19735\\n\\nButton A: X+54, Y+17\\nButton B: X+12, Y+61\\nPrize: X=10826, Y=11498\\n\\nButton A: X+22, Y+95\\nButton B: X+35, Y+31\\nPrize: X=3139, Y=9350\\n\\nButton A: X+17, Y+68\\nButton B: X+29, Y+11\\nPrize: X=11487, Y=14793\\n\\nButton A: X+31, Y+73\\nButton B: X+60, Y+13\\nPrize: X=4548, Y=15383\\n\\nButton A: X+58, Y+29\\nButton B: X+36, Y+93\\nPrize: X=2028, Y=1614\\n\\nButton A: X+92, Y+72\\nButton B: X+21, Y+85\\nPrize: X=8096, Y=12644\\n\\nButton A: X+66, Y+25\\nButton B: X+19, Y+55\\nPrize: X=9827, Y=9775\\n\\nButton A: X+39, Y+69\\nButton B: X+36, Y+15\\nPrize: X=10613, Y=18746\\n\\nButton A: X+13, Y+87\\nButton B: X+94, Y+56\\nPrize: X=945, Y=4605\\n\\nButton A: X+37, Y+31\\nButton B: X+23, Y+75\\nPrize: X=1995, Y=5071\\n\\nButton A: X+16, Y+35\\nButton B: X+67, Y+42\\nPrize: X=8217, Y=13507\\n\\nButton A: X+86, Y+38\\nButton B: X+11, Y+44\\nPrize: X=7564, Y=6082\\n\\nButton A: X+46, Y+11\\nButton B: X+17, Y+31\\nPrize: X=9946, Y=3450\\n\\nButton A: X+74, Y+15\\nButton B: X+12, Y+48\\nPrize: X=12934, Y=17819\\n\\nButton A: X+16, Y+43\\nButton B: X+45, Y+12\\nPrize: X=1712, Y=704\\n\\nButton A: X+98, Y+17\\nButton B: X+27, Y+80\\nPrize: X=4452, Y=4990\\n\\nButton A: X+18, Y+59\\nButton B: X+52, Y+12\\nPrize: X=9078, Y=13341\\n\\nButton A: X+14, Y+95\\nButton B: X+59, Y+37\\nPrize: X=1691, Y=1664\\n\\nButton A: X+12, Y+74\\nButton B: X+73, Y+19\\nPrize: X=7537, Y=17113\\n\\nButton A: X+27, Y+75\\nButton B: X+59, Y+18\\nPrize: X=1423, Y=4700\\n\\nButton A: X+12, Y+48\\nButton B: X+41, Y+23\\nPrize: X=2147, Y=1229\\n\\nButton A: X+11, Y+24\\nButton B: X+27, Y+12\\nPrize: X=14602, Y=11084\\n\\nButton A: X+16, Y+60\\nButton B: X+79, Y+25\\nPrize: X=12626, Y=17310\\n\\nButton A: X+13, Y+45\\nButton B: X+29, Y+16\\nPrize: X=10617, Y=19186\\n\\nButton A: X+11, Y+77\\nButton B: X+86, Y+18\\nPrize: X=9144, Y=2920\\n\\nButton A: X+80, Y+12\\nButton B: X+30, Y+88\\nPrize: X=5450, Y=6412\\n\\nButton A: X+77, Y+17\\nButton B: X+14, Y+57\\nPrize: X=15397, Y=5127\\n\\nButton A: X+60, Y+34\\nButton B: X+11, Y+27\\nPrize: X=11561, Y=599\\n\\nButton A: X+43, Y+13\\nButton B: X+21, Y+64\\nPrize: X=1151, Y=17990\\n\\nButton A: X+11, Y+53\\nButton B: X+30, Y+13\\nPrize: X=3964, Y=9270\\n\\nButton A: X+13, Y+79\\nButton B: X+60, Y+13\\nPrize: X=8734, Y=17313\\n\\nButton A: X+51, Y+11\\nButton B: X+32, Y+79\\nPrize: X=19313, Y=9014\\n\\nButton A: X+31, Y+70\\nButton B: X+65, Y+18\\nPrize: X=4541, Y=5618\\n\\nButton A: X+46, Y+64\\nButton B: X+93, Y+39\\nPrize: X=3246, Y=2166\\n\\nButton A: X+12, Y+47\\nButton B: X+58, Y+31\\nPrize: X=11014, Y=17112\\n\\nButton A: X+21, Y+88\\nButton B: X+97, Y+95\\nPrize: X=11257, Y=16959\\n\\nButton A: X+12, Y+33\\nButton B: X+80, Y+19\\nPrize: X=5436, Y=3492\\n\\nButton A: X+22, Y+71\\nButton B: X+87, Y+24\\nPrize: X=4878, Y=2904\\n\\nButton A: X+12, Y+63\\nButton B: X+75, Y+28\\nPrize: X=5619, Y=2800\\n\\nButton A: X+22, Y+96\\nButton B: X+95, Y+69\\nPrize: X=615, Y=1647\\n\\nButton A: X+73, Y+31\\nButton B: X+18, Y+43\\nPrize: X=3852, Y=4040\\n\\nButton A: X+16, Y+52\\nButton B: X+72, Y+40\\nPrize: X=1432, Y=6264\\n\\nButton A: X+42, Y+98\\nButton B: X+46, Y+26\\nPrize: X=3444, Y=4620\\n\\nButton A: X+21, Y+87\\nButton B: X+33, Y+11\\nPrize: X=2877, Y=1359\\n\\nButton A: X+87, Y+52\\nButton B: X+18, Y+72\\nPrize: X=7023, Y=8852\\n\\nButton A: X+61, Y+29\\nButton B: X+17, Y+48\\nPrize: X=12272, Y=4663\\n\\nButton A: X+26, Y+41\\nButton B: X+63, Y+26\\nPrize: X=6956, Y=4808\\n\\nButton A: X+12, Y+63\\nButton B: X+34, Y+19\\nPrize: X=874, Y=3472\\n\\nButton A: X+26, Y+62\\nButton B: X+76, Y+30\\nPrize: X=8144, Y=6112\\n\\nButton A: X+19, Y+62\\nButton B: X+80, Y+63\\nPrize: X=5202, Y=5884\\n\\nButton A: X+70, Y+50\\nButton B: X+12, Y+31\\nPrize: X=18842, Y=9066\\n\\nButton A: X+91, Y+94\\nButton B: X+84, Y+11\\nPrize: X=8001, Y=7204\\n\\nButton A: X+17, Y+82\\nButton B: X+82, Y+52\\nPrize: X=4021, Y=8746\\n\\nButton A: X+24, Y+59\\nButton B: X+69, Y+26\\nPrize: X=14750, Y=17660\\n\\nButton A: X+73, Y+22\\nButton B: X+41, Y+48\\nPrize: X=4346, Y=2486\\n\\nButton A: X+12, Y+38\\nButton B: X+71, Y+19\\nPrize: X=9624, Y=5516\\n\\nButton A: X+12, Y+29\\nButton B: X+45, Y+34\\nPrize: X=15095, Y=6298\\n\\nButton A: X+18, Y+49\\nButton B: X+62, Y+33\\nPrize: X=332, Y=14688\\n\\nButton A: X+36, Y+11\\nButton B: X+46, Y+68\\nPrize: X=6056, Y=12014\\n\\nButton A: X+27, Y+52\\nButton B: X+49, Y+24\\nPrize: X=454, Y=10404\\n\\nButton A: X+16, Y+74\\nButton B: X+59, Y+21\\nPrize: X=3527, Y=2963\\n\\nButton A: X+49, Y+13\\nButton B: X+25, Y+70\\nPrize: X=17175, Y=8580\\n\\nButton A: X+18, Y+13\\nButton B: X+12, Y+33\\nPrize: X=19064, Y=5287\\n\\nButton A: X+33, Y+17\\nButton B: X+19, Y+54\\nPrize: X=9192, Y=897\\n\\nButton A: X+16, Y+65\\nButton B: X+83, Y+33\\nPrize: X=8716, Y=7112\\n\\nButton A: X+29, Y+71\\nButton B: X+65, Y+19\\nPrize: X=16929, Y=13267\\n\\nButton A: X+22, Y+98\\nButton B: X+81, Y+22\\nPrize: X=7142, Y=10130\\n\\nButton A: X+27, Y+56\\nButton B: X+54, Y+23\\nPrize: X=5120, Y=477\\n\\nButton A: X+63, Y+25\\nButton B: X+13, Y+38\\nPrize: X=3555, Y=2593\\n\\nButton A: X+64, Y+44\\nButton B: X+20, Y+84\\nPrize: X=2444, Y=3296\\n\\nButton A: X+32, Y+11\\nButton B: X+21, Y+54\\nPrize: X=15633, Y=16356\\n\\nButton A: X+25, Y+65\\nButton B: X+48, Y+19\\nPrize: X=19037, Y=16736\\n\\nButton A: X+48, Y+22\\nButton B: X+44, Y+68\\nPrize: X=13700, Y=11088\\n\\nButton A: X+44, Y+77\\nButton B: X+89, Y+40\\nPrize: X=11481, Y=10253\\n\\nButton A: X+16, Y+55\\nButton B: X+92, Y+62\\nPrize: X=2528, Y=2588\\n\\nButton A: X+21, Y+77\\nButton B: X+83, Y+38\\nPrize: X=7187, Y=5312\\n\\nButton A: X+23, Y+48\\nButton B: X+59, Y+20\\nPrize: X=12167, Y=4208\\n\\nButton A: X+25, Y+49\\nButton B: X+97, Y+53\\nPrize: X=4385, Y=4481\\n\\nButton A: X+61, Y+66\\nButton B: X+94, Y+21\\nPrize: X=7779, Y=6399\\n\\nButton A: X+48, Y+27\\nButton B: X+20, Y+35\\nPrize: X=13644, Y=15351\\n\\nButton A: X+18, Y+76\\nButton B: X+68, Y+35\\nPrize: X=4680, Y=3877\\n\\nButton A: X+52, Y+23\\nButton B: X+34, Y+69\\nPrize: X=4040, Y=8150\\n\\nButton A: X+97, Y+37\\nButton B: X+12, Y+84\\nPrize: X=2510, Y=8582\\n\\nButton A: X+80, Y+24\\nButton B: X+37, Y+85\\nPrize: X=10678, Y=10150\\n\\nButton A: X+14, Y+37\\nButton B: X+32, Y+12\\nPrize: X=10484, Y=16162\\n\\nButton A: X+39, Y+23\\nButton B: X+29, Y+53\\nPrize: X=10538, Y=1666\\n\\nButton A: X+15, Y+62\\nButton B: X+74, Y+29\\nPrize: X=3094, Y=14188\\n\\nButton A: X+25, Y+44\\nButton B: X+54, Y+28\\nPrize: X=14292, Y=13976\\n\\nButton A: X+61, Y+22\\nButton B: X+12, Y+25\\nPrize: X=2087, Y=10459\\n\\nButton A: X+96, Y+90\\nButton B: X+15, Y+60\\nPrize: X=10167, Y=13620\\n\\nButton A: X+66, Y+11\\nButton B: X+23, Y+86\\nPrize: X=3113, Y=5038\\n\\nButton A: X+90, Y+11\\nButton B: X+33, Y+97\\nPrize: X=9801, Y=3708\\n\\nButton A: X+14, Y+83\\nButton B: X+67, Y+48\\nPrize: X=2726, Y=9177\\n\\nButton A: X+71, Y+19\\nButton B: X+15, Y+44\\nPrize: X=8420, Y=9310\\n\\nButton A: X+20, Y+86\\nButton B: X+45, Y+38\\nPrize: X=4785, Y=10468\\n\\nButton A: X+17, Y+69\\nButton B: X+33, Y+11\\nPrize: X=10428, Y=14196\\n\\nButton A: X+11, Y+81\\nButton B: X+72, Y+49\\nPrize: X=6241, Y=5056\\n\\nButton A: X+42, Y+19\\nButton B: X+23, Y+55\\nPrize: X=9504, Y=7352\\n\\nButton A: X+46, Y+92\\nButton B: X+77, Y+49\\nPrize: X=7994, Y=9478\\n\\nButton A: X+84, Y+58\\nButton B: X+12, Y+37\\nPrize: X=13508, Y=3248\\n\\nButton A: X+12, Y+38\\nButton B: X+71, Y+11\\nPrize: X=4423, Y=18407\\n\\nButton A: X+24, Y+29\\nButton B: X+49, Y+14\\nPrize: X=5859, Y=3689\\n\\nButton A: X+17, Y+53\\nButton B: X+71, Y+21\\nPrize: X=17748, Y=10988\\n\\nButton A: X+37, Y+12\\nButton B: X+25, Y+57\\nPrize: X=11640, Y=8570\\n\\nButton A: X+81, Y+89\\nButton B: X+11, Y+53\\nPrize: X=5066, Y=9044\\n\\nButton A: X+37, Y+81\\nButton B: X+79, Y+44\\nPrize: X=4227, Y=6159\\n\\nButton A: X+38, Y+54\\nButton B: X+36, Y+12\\nPrize: X=17110, Y=11174\\n\\nButton A: X+18, Y+59\\nButton B: X+66, Y+38\\nPrize: X=5790, Y=5960\\n\\nButton A: X+73, Y+33\\nButton B: X+19, Y+49\\nPrize: X=2949, Y=2829\\n\\nButton A: X+11, Y+30\\nButton B: X+77, Y+44\\nPrize: X=10253, Y=2414\\n\\nButton A: X+11, Y+38\\nButton B: X+82, Y+19\\nPrize: X=1464, Y=2679\\n\\nButton A: X+97, Y+38\\nButton B: X+40, Y+94\\nPrize: X=12045, Y=12160\\n\\nButton A: X+18, Y+28\\nButton B: X+31, Y+12\\nPrize: X=8319, Y=2068\\n\\nButton A: X+75, Y+53\\nButton B: X+22, Y+70\\nPrize: X=7339, Y=7201\\n\\nButton A: X+23, Y+63\\nButton B: X+34, Y+11\\nPrize: X=4233, Y=6092\\n\\nButton A: X+19, Y+53\\nButton B: X+30, Y+16\\nPrize: X=3706, Y=17406\\n\\nButton A: X+13, Y+42\\nButton B: X+47, Y+11\\nPrize: X=3621, Y=10120\\n\\nButton A: X+48, Y+12\\nButton B: X+23, Y+39\\nPrize: X=1808, Y=11144\\n\\nButton A: X+14, Y+90\\nButton B: X+94, Y+21\\nPrize: X=6012, Y=4818\\n\\nButton A: X+68, Y+11\\nButton B: X+18, Y+80\\nPrize: X=11116, Y=13253\\n\\nButton A: X+35, Y+84\\nButton B: X+94, Y+24\\nPrize: X=11177, Y=9084\\n\\nButton A: X+59, Y+20\\nButton B: X+22, Y+46\\nPrize: X=17977, Y=11812\\n\\nButton A: X+42, Y+12\\nButton B: X+36, Y+60\\nPrize: X=3390, Y=3852\\n\\nButton A: X+49, Y+18\\nButton B: X+13, Y+25\\nPrize: X=4075, Y=2043\\n\\nButton A: X+58, Y+38\\nButton B: X+14, Y+38\\nPrize: X=2644, Y=7112\\n\\nButton A: X+16, Y+50\\nButton B: X+70, Y+20\\nPrize: X=10754, Y=9500\\n\\nButton A: X+82, Y+35\\nButton B: X+21, Y+74\\nPrize: X=8597, Y=9978\\n\\nButton A: X+13, Y+60\\nButton B: X+43, Y+17\\nPrize: X=3481, Y=4997\\n\\nButton A: X+31, Y+60\\nButton B: X+27, Y+14\\nPrize: X=962, Y=19360\\n\\nButton A: X+15, Y+32\\nButton B: X+93, Y+30\\nPrize: X=4401, Y=4000\\n\\nButton A: X+14, Y+31\\nButton B: X+37, Y+26\\nPrize: X=15378, Y=244\\n\\nButton A: X+72, Y+18\\nButton B: X+57, Y+62\\nPrize: X=7248, Y=6014\\n\\nButton A: X+81, Y+87\\nButton B: X+85, Y+19\\nPrize: X=14559, Y=8697\\n\\nButton A: X+64, Y+92\\nButton B: X+75, Y+26\\nPrize: X=4692, Y=1836\\n\\nButton A: X+39, Y+68\\nButton B: X+34, Y+13\\nPrize: X=18273, Y=5091\\n\\nButton A: X+17, Y+52\\nButton B: X+62, Y+33\\nPrize: X=6845, Y=15173\\n\\nButton A: X+43, Y+29\\nButton B: X+17, Y+43\\nPrize: X=13454, Y=11246\\n\\nButton A: X+38, Y+11\\nButton B: X+35, Y+58\\nPrize: X=4422, Y=5301\\n\\nButton A: X+27, Y+77\\nButton B: X+71, Y+61\\nPrize: X=3884, Y=7964\\n\\nButton A: X+42, Y+12\\nButton B: X+26, Y+57\\nPrize: X=5386, Y=1679\\n\\nButton A: X+45, Y+30\\nButton B: X+20, Y+44\\nPrize: X=15315, Y=19290\\n\\nButton A: X+28, Y+49\\nButton B: X+47, Y+16\\nPrize: X=17431, Y=14658\\n\\nButton A: X+16, Y+41\\nButton B: X+56, Y+18\\nPrize: X=12592, Y=9410\\n\\nButton A: X+19, Y+61\\nButton B: X+68, Y+19\\nPrize: X=18106, Y=3595\\n\\nButton A: X+23, Y+48\\nButton B: X+59, Y+30\\nPrize: X=9640, Y=18020\\n\\nButton A: X+83, Y+99\\nButton B: X+98, Y+22\\nPrize: X=1705, Y=1749'"
      ]
     },
     "execution_count": 19,
     "metadata": {},
     "output_type": "execute_result"
    }
   ],
   "source": [
    "from pathlib import Path\n",
    "from utils.get_input import get_input\n",
    "import cvxpy as cp\n",
    "\n",
    "\n",
    "inp = Path(\"./test_input\").read_text()\n",
    "inp = get_input(13)\n",
    "inp;"
   ]
  },
  {
   "cell_type": "code",
   "execution_count": 34,
   "metadata": {},
   "outputs": [
    {
     "name": "stdout",
     "output_type": "stream",
     "text": [
      "1.89 ms ± 12.1 μs per loop (mean ± std. dev. of 7 runs, 1,000 loops each)\n"
     ]
    }
   ],
   "source": [
    "%%timeit\n",
    "import re\n",
    "\n",
    "machines = inp.split(\"\\n\\n\")\n",
    "machines_parsed = []\n",
    "\n",
    "reg_x_plus = re.compile(r\"(?<=(X\\+))\\d*\")\n",
    "reg_y_plus = re.compile(r\"(?<=(Y\\+))\\d*\")\n",
    "\n",
    "reg_x_equals = re.compile(r\"(?<=(X\\=))\\d*\")\n",
    "reg_y_equals = re.compile(r\"(?<=(Y\\=))\\d*\")\n",
    "\n",
    "for machine in machines:\n",
    "    machine = machine.split(\"\\n\")\n",
    "    button_a = (int(next(re.finditer(reg_y_plus, machine[0])).group(0)), int(next(re.finditer(reg_x_plus, machine[0])).group(0)))\n",
    "    button_b = (int(next(re.finditer(reg_y_plus, machine[1])).group(0)), int(next(re.finditer(reg_x_plus, machine[1])).group(0)))\n",
    "    prize = (int(next(re.finditer(reg_y_equals, machine[2])).group(0)), int(next(re.finditer(reg_x_equals, machine[2])).group(0)))\n",
    "    machines_parsed.append((button_a, button_b, prize))"
   ]
  },
  {
   "cell_type": "code",
   "execution_count": null,
   "metadata": {},
   "outputs": [
    {
     "data": {
      "text/plain": [
       "29201"
      ]
     },
     "execution_count": 22,
     "metadata": {},
     "output_type": "execute_result"
    }
   ],
   "source": [
    "def part1():\n",
    "    sum = 0\n",
    "    # This problem is probably convex, right???\n",
    "    for button_a, button_b, prize in machines_parsed:\n",
    "        a = cp.Variable(integer=True)\n",
    "        b = cp.Variable(integer=True)\n",
    "        con_1 = a * button_a[0] + b * button_b[0] == prize[0]\n",
    "        con_2 = a * button_a[1] + b * button_b[1] == prize[1]\n",
    "        prob = cp.Problem(cp.Minimize(a * 3 + b * 1), [a >= 0, b >= 0, con_1, con_2])\n",
    "        prob.solve()\n",
    "        if prob.status == \"optimal\":\n",
    "            sum += 3 * int(a.value) + int(b.value)\n",
    "    return sum\n",
    "\n",
    "\n",
    "part1()\n"
   ]
  },
  {
   "cell_type": "code",
   "execution_count": 23,
   "metadata": {},
   "outputs": [
    {
     "name": "stdout",
     "output_type": "stream",
     "text": [
      "793 ms ± 17.3 ms per loop (mean ± std. dev. of 7 runs, 1 loop each)\n"
     ]
    }
   ],
   "source": [
    "%%timeit\n",
    "part1()"
   ]
  },
  {
   "cell_type": "code",
   "execution_count": null,
   "metadata": {},
   "outputs": [
    {
     "data": {
      "text/plain": [
       "104140871044942"
      ]
     },
     "execution_count": 30,
     "metadata": {},
     "output_type": "execute_result"
    }
   ],
   "source": [
    "def part2():\n",
    "    sum = 0\n",
    "    # This problem is probably convex, right???\n",
    "    for button_a, button_b, prize in machines_parsed:\n",
    "        a = cp.Variable(integer=True)\n",
    "        b = cp.Variable(integer=True)\n",
    "        con_11 = a * button_a[0] + b * button_b[0] >= prize[0] + 10000000000000 - 1e-5\n",
    "        con_12 = a * button_a[0] + b * button_b[0] <= prize[0] + 10000000000000 + 1e-5\n",
    "        con_21 = a * button_a[1] + b * button_b[1] >= prize[1] + 10000000000000 - 1e-5\n",
    "        con_22 = a * button_a[1] + b * button_b[1] <= prize[1] + 10000000000000 + 1e-5\n",
    "        prob = cp.Problem(\n",
    "            cp.Minimize(a * 3 + b * 1), [a >= 0, b >= 0, con_11, con_22, con_12, con_21]\n",
    "        )\n",
    "        prob.solve()\n",
    "        if prob.status == \"optimal\":\n",
    "            sum += 3 * int(a.value) + int(b.value)\n",
    "    return sum\n",
    "\n",
    "\n",
    "part2()\n"
   ]
  },
  {
   "cell_type": "code",
   "execution_count": 31,
   "metadata": {},
   "outputs": [
    {
     "name": "stdout",
     "output_type": "stream",
     "text": [
      "997 ms ± 10.5 ms per loop (mean ± std. dev. of 7 runs, 1 loop each)\n"
     ]
    }
   ],
   "source": [
    "%%timeit\n",
    "part2()"
   ]
  }
 ],
 "metadata": {
  "kernelspec": {
   "display_name": ".venv",
   "language": "python",
   "name": "python3"
  },
  "language_info": {
   "codemirror_mode": {
    "name": "ipython",
    "version": 3
   },
   "file_extension": ".py",
   "mimetype": "text/x-python",
   "name": "python",
   "nbconvert_exporter": "python",
   "pygments_lexer": "ipython3",
   "version": "3.13.0"
  }
 },
 "nbformat": 4,
 "nbformat_minor": 2
}
