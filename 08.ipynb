{
 "cells": [
  {
   "cell_type": "code",
   "execution_count": null,
   "metadata": {},
   "outputs": [],
   "source": [
    "from pathlib import Path\n",
    "import numpy as np\n",
    "from numba import jit\n",
    "from utils.get_input import get_input\n",
    "from io import StringIO\n",
    "import pandas as pd\n",
    "\n",
    "\n",
    "inp = Path(\"./test_input\").read_text()\n",
    "inp = get_input(8)\n",
    "inp;"
   ]
  },
  {
   "cell_type": "code",
   "execution_count": 143,
   "metadata": {},
   "outputs": [
    {
     "name": "stdout",
     "output_type": "stream",
     "text": [
      "[['.' 'C' '.' ... '.' '.' '.']\n",
      " ['.' '.' '.' ... '.' '.' '.']\n",
      " ['u' '.' '.' ... '.' 'a' '.']\n",
      " ...\n",
      " ['.' '.' '.' ... '.' '.' 'v']\n",
      " ['.' '.' '.' ... '.' '.' '.']\n",
      " ['.' '.' '.' ... '.' '.' '.']]\n",
      "[['.' '.' '.' ... '.' '.' '.']\n",
      " ['.' '.' '.' ... '.' '.' '.']\n",
      " ['.' '.' '.' ... '.' '.' 'v']\n",
      " ...\n",
      " ['u' '.' '.' ... '.' 'a' '.']\n",
      " ['.' '.' '.' ... '.' '.' '.']\n",
      " ['.' 'C' '.' ... '.' '.' '.']]\n"
     ]
    }
   ],
   "source": [
    "# %%timeit\n",
    "# Structure input\n",
    "inp_np = np.array([list(line) for line in inp.split(\"\\n\")])\n",
    "print(inp_np)\n",
    "print(np.flipud(inp_np))\n",
    "\n",
    "antennas = np.where(inp_np != '.')\n",
    "antenna_types = inp_np[antennas]\n",
    "\n",
    "data = np.array([antennas[0], antennas[1], antenna_types]).T\n",
    "data = pd.DataFrame(data, columns=[\"y\", \"x\", \"type\"])\n",
    "data[\"x\"] = data[\"x\"].astype(int)\n",
    "data[\"y\"] = data[\"y\"].astype(int)"
   ]
  },
  {
   "cell_type": "code",
   "execution_count": 144,
   "metadata": {},
   "outputs": [
    {
     "data": {
      "text/plain": [
       "371"
      ]
     },
     "execution_count": 144,
     "metadata": {},
     "output_type": "execute_result"
    }
   ],
   "source": [
    "import itertools\n",
    "\n",
    "\n",
    "def part1():\n",
    "    max_y, max_x = inp_np.shape\n",
    "    antinodes = []\n",
    "    for _, t in data.groupby(\"type\"):\n",
    "        ant_in = t.index\n",
    "        ant_combs = list(itertools.combinations(ant_in, 2))\n",
    "        for ant1, ant2 in ant_combs:\n",
    "            t_1 = t.loc[ant1]\n",
    "            t_2 = t.loc[ant2]\n",
    "            diff_x = t_1[\"x\"] - t_2[\"x\"]\n",
    "            dir_x = diff_x / abs(diff_x)\n",
    "            diff_y = t_1[\"y\"] - t_2[\"y\"]\n",
    "            dir_y = diff_y / abs(diff_y)\n",
    "            a_1 = (\n",
    "                int(t_1[\"y\"] + abs(diff_y) * dir_y),\n",
    "                int(t_1[\"x\"] + abs(diff_x) * dir_x),\n",
    "            )\n",
    "            a_2 = (\n",
    "                int(t_2[\"y\"] + abs(diff_y) * -1 * dir_y),\n",
    "                int(t_2[\"x\"] + abs(diff_x) * -1 * dir_x),\n",
    "            )\n",
    "            if a_1[0] >= 0 and a_1[0] < max_y and a_1[1] >= 0 and a_1[1] < max_x:\n",
    "                antinodes.append(a_1)\n",
    "            if a_2[0] >= 0 and a_2[0] < max_y and a_2[1] >= 0 and a_2[1] < max_x:\n",
    "                antinodes.append(a_2)\n",
    "\n",
    "    return len(set(antinodes))\n",
    "\n",
    "\n",
    "part1()"
   ]
  },
  {
   "cell_type": "code",
   "execution_count": 145,
   "metadata": {},
   "outputs": [
    {
     "name": "stdout",
     "output_type": "stream",
     "text": [
      "11.9 ms ± 112 μs per loop (mean ± std. dev. of 7 runs, 100 loops each)\n"
     ]
    }
   ],
   "source": [
    "%%timeit\n",
    "part1()"
   ]
  },
  {
   "cell_type": "code",
   "execution_count": 146,
   "metadata": {},
   "outputs": [
    {
     "data": {
      "text/plain": [
       "1229"
      ]
     },
     "execution_count": 146,
     "metadata": {},
     "output_type": "execute_result"
    }
   ],
   "source": [
    "import itertools\n",
    "\n",
    "\n",
    "def part2():\n",
    "    max_y, max_x = inp_np.shape\n",
    "\n",
    "    antinodes = []\n",
    "    for _, t in data.groupby(\"type\"):\n",
    "        ant_in = t.index\n",
    "        ant_combs = list(itertools.combinations(ant_in, 2))\n",
    "        for ant1, ant2 in ant_combs:\n",
    "            t_1 = t.loc[ant1]\n",
    "            t_2 = t.loc[ant2]\n",
    "            diff_x = t_1[\"x\"] - t_2[\"x\"]\n",
    "            dir_x = diff_x / abs(diff_x)\n",
    "            diff_y = t_1[\"y\"] - t_2[\"y\"]\n",
    "            dir_y = diff_y / abs(diff_y)\n",
    "\n",
    "            for i in range(-1000, 1000):\n",
    "                a = (\n",
    "                    int(t_1[\"y\"] + abs(diff_y) * dir_y * i),\n",
    "                    int(t_1[\"x\"] + abs(diff_x) * dir_x * i),\n",
    "                )\n",
    "                if a[0] >= 0 and a[0] < max_y and a[1] >= 0 and a[1] < max_x:\n",
    "                    antinodes.append(a)\n",
    "\n",
    "    return len(set(antinodes))\n",
    "\n",
    "\n",
    "part2()"
   ]
  },
  {
   "cell_type": "code",
   "execution_count": 147,
   "metadata": {},
   "outputs": [
    {
     "name": "stdout",
     "output_type": "stream",
     "text": [
      "1.48 s ± 4.61 ms per loop (mean ± std. dev. of 7 runs, 1 loop each)\n"
     ]
    }
   ],
   "source": [
    "%%timeit\n",
    "part2()"
   ]
  },
  {
   "cell_type": "code",
   "execution_count": 148,
   "metadata": {},
   "outputs": [
    {
     "data": {
      "text/plain": [
       "array([['#', '#', '.', ..., '.', '#', '.'],\n",
       "       ['#', '.', '#', ..., '#', '.', '.'],\n",
       "       ['#', '.', '.', ..., '.', '#', '#'],\n",
       "       ...,\n",
       "       ['#', '.', '.', ..., '.', '.', '#'],\n",
       "       ['.', '.', '#', ..., '.', '.', '.'],\n",
       "       ['#', '.', '.', ..., '.', '#', '.']], dtype='<U1')"
      ]
     },
     "execution_count": 148,
     "metadata": {},
     "output_type": "execute_result"
    }
   ],
   "source": [
    "# Print result\n",
    "inp_np2 = inp_np.copy()\n",
    "for x,y in antinodes:\n",
    "    inp_np2[int(x), int(y)] = \"#\"\n",
    "\n",
    "inp_np2"
   ]
  }
 ],
 "metadata": {
  "kernelspec": {
   "display_name": ".venv",
   "language": "python",
   "name": "python3"
  },
  "language_info": {
   "codemirror_mode": {
    "name": "ipython",
    "version": 3
   },
   "file_extension": ".py",
   "mimetype": "text/x-python",
   "name": "python",
   "nbconvert_exporter": "python",
   "pygments_lexer": "ipython3",
   "version": "3.12.4"
  }
 },
 "nbformat": 4,
 "nbformat_minor": 2
}
