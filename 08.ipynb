{
 "cells": [
  {
   "cell_type": "code",
   "execution_count": 64,
   "metadata": {},
   "outputs": [],
   "source": [
    "from pathlib import Path\n",
    "import numpy as np\n",
    "from numba import jit\n",
    "from utils.get_input import get_input\n",
    "from io import StringIO\n",
    "import pandas as pd\n",
    "\n",
    "\n",
    "inp = Path(\"./test_input\").read_text()\n",
    "# inp = get_input(8)"
   ]
  },
  {
   "cell_type": "code",
   "execution_count": 65,
   "metadata": {},
   "outputs": [
    {
     "data": {
      "text/html": [
       "<div>\n",
       "<style scoped>\n",
       "    .dataframe tbody tr th:only-of-type {\n",
       "        vertical-align: middle;\n",
       "    }\n",
       "\n",
       "    .dataframe tbody tr th {\n",
       "        vertical-align: top;\n",
       "    }\n",
       "\n",
       "    .dataframe thead th {\n",
       "        text-align: right;\n",
       "    }\n",
       "</style>\n",
       "<table border=\"1\" class=\"dataframe\">\n",
       "  <thead>\n",
       "    <tr style=\"text-align: right;\">\n",
       "      <th></th>\n",
       "      <th>y</th>\n",
       "      <th>x</th>\n",
       "      <th>type</th>\n",
       "    </tr>\n",
       "  </thead>\n",
       "  <tbody>\n",
       "    <tr>\n",
       "      <th>0</th>\n",
       "      <td>1</td>\n",
       "      <td>8</td>\n",
       "      <td>0</td>\n",
       "    </tr>\n",
       "    <tr>\n",
       "      <th>1</th>\n",
       "      <td>2</td>\n",
       "      <td>5</td>\n",
       "      <td>0</td>\n",
       "    </tr>\n",
       "    <tr>\n",
       "      <th>2</th>\n",
       "      <td>3</td>\n",
       "      <td>7</td>\n",
       "      <td>0</td>\n",
       "    </tr>\n",
       "    <tr>\n",
       "      <th>3</th>\n",
       "      <td>4</td>\n",
       "      <td>4</td>\n",
       "      <td>0</td>\n",
       "    </tr>\n",
       "    <tr>\n",
       "      <th>4</th>\n",
       "      <td>5</td>\n",
       "      <td>6</td>\n",
       "      <td>A</td>\n",
       "    </tr>\n",
       "    <tr>\n",
       "      <th>5</th>\n",
       "      <td>8</td>\n",
       "      <td>8</td>\n",
       "      <td>A</td>\n",
       "    </tr>\n",
       "    <tr>\n",
       "      <th>6</th>\n",
       "      <td>9</td>\n",
       "      <td>9</td>\n",
       "      <td>A</td>\n",
       "    </tr>\n",
       "  </tbody>\n",
       "</table>\n",
       "</div>"
      ],
      "text/plain": [
       "   y  x type\n",
       "0  1  8    0\n",
       "1  2  5    0\n",
       "2  3  7    0\n",
       "3  4  4    0\n",
       "4  5  6    A\n",
       "5  8  8    A\n",
       "6  9  9    A"
      ]
     },
     "execution_count": 65,
     "metadata": {},
     "output_type": "execute_result"
    }
   ],
   "source": [
    "# %%timeit\n",
    "# Structure input\n",
    "inp_np = np.array([list(line) for line in inp.split(\"\\n\")])\n",
    "\n",
    "antennas = np.where(inp_np != '.')\n",
    "antenna_types = inp_np[antennas]\n",
    "\n",
    "data = np.array([antennas[0], antennas[1], antenna_types]).T\n",
    "data = pd.DataFrame(data, columns=[\"y\", \"x\", \"type\"])\n",
    "data[\"x\"] = data[\"x\"].astype(int)\n",
    "data[\"y\"] = data[\"y\"].astype(int)\n",
    "data"
   ]
  },
  {
   "cell_type": "code",
   "execution_count": 67,
   "metadata": {},
   "outputs": [
    {
     "name": "stdout",
     "output_type": "stream",
     "text": [
      "0\n",
      "A\n",
      "12\n"
     ]
    },
    {
     "data": {
      "text/plain": [
       "array([['.', '.', '.', '.', '.', '.', '#', '.', '.', '.', '.', '#'],\n",
       "       ['.', '.', '.', '#', '.', '.', '.', '.', '0', '.', '.', '.'],\n",
       "       ['.', '.', '.', '.', '#', '0', '.', '.', '.', '.', '#', '.'],\n",
       "       ['.', '.', '#', '.', '.', '.', '.', '0', '.', '.', '.', '.'],\n",
       "       ['.', '.', '.', '.', '0', '.', '.', '.', '.', '#', '.', '.'],\n",
       "       ['.', '#', '.', '.', '.', '.', '#', '.', '.', '.', '.', '.'],\n",
       "       ['.', '.', '.', '#', '.', '.', '.', '.', '.', '.', '.', '.'],\n",
       "       ['.', '.', '.', '.', '.', '.', '.', '#', '.', '.', '.', '.'],\n",
       "       ['.', '.', '.', '.', '.', '.', '.', '.', 'A', '.', '.', '.'],\n",
       "       ['.', '.', '.', '.', '.', '.', '.', '.', '.', 'A', '.', '.'],\n",
       "       ['.', '.', '.', '.', '.', '.', '.', '.', '.', '.', '#', '.'],\n",
       "       ['.', '.', '.', '.', '.', '.', '.', '.', '.', '.', '#', '.']],\n",
       "      dtype='<U1')"
      ]
     },
     "execution_count": 67,
     "metadata": {},
     "output_type": "execute_result"
    }
   ],
   "source": [
    "import itertools\n",
    "\n",
    "max_y, max_x = inp_np.shape\n",
    "\n",
    "antinodes = []\n",
    "for n, t in data.groupby(\"type\"):\n",
    "    print(n)\n",
    "    ant_in = t.index\n",
    "    ant_combs = list(itertools.combinations(ant_in, 2))\n",
    "    for ant1, ant2 in ant_combs:\n",
    "        t_1 = t.loc[ant1]\n",
    "        t_2 = t.loc[ant2]\n",
    "        diff_x = t_1[\"x\"] - t_2[\"x\"]\n",
    "        diff_y = t_1[\"y\"] - t_2[\"y\"]\n",
    "\n",
    "        a_1 = (t_1[\"y\"] + diff_y, t_1[\"x\"] + diff_x, n)\n",
    "        a_2 = (t_2[\"y\"] - diff_y, t_2[\"x\"] - diff_x, n)\n",
    "        if a_1[0] >= 0 and a_1[0] < max_y and a_1[1] > 0 and a_1[1] < max_x:\n",
    "            antinodes.append(a_1)\n",
    "        if a_2[0] >= 0 and a_2[0] < max_y and a_2[1] > 0 and a_2[1] < max_x:\n",
    "            antinodes.append(a_2)\n",
    "\n",
    "\n",
    "inp_np2 = inp_np.copy()\n",
    "\n",
    "\n",
    "for x,y, n in antinodes:\n",
    "    inp_np2[x,y] = \"#\"\n",
    "\n",
    "print(len(np.unique(antinodes)))\n",
    "inp_np2\n",
    "\n",
    "\n",
    "    \n",
    "    "
   ]
  },
  {
   "cell_type": "code",
   "execution_count": 60,
   "metadata": {},
   "outputs": [
    {
     "ename": "TypingError",
     "evalue": "Failed in nopython mode pipeline (step: nopython frontend)\n\u001b[1m\u001b[1mNo implementation of function Function(<built-in function sub>) found for signature:\n \n >>> sub(array([unichr x 1], 1d, C), array([unichr x 1], 1d, C))\n \nThere are 14 candidate implementations:\n\u001b[1m  - Of which 10 did not match due to:\n  Overload of function 'sub': File: <numerous>: Line N/A.\n    With argument(s): '(array([unichr x 1], 1d, C), array([unichr x 1], 1d, C))':\u001b[0m\n\u001b[1m   No match.\u001b[0m\n\u001b[1m  - Of which 2 did not match due to:\n  Operator Overload in function 'sub': File: unknown: Line unknown.\n    With argument(s): '(array([unichr x 1], 1d, C), array([unichr x 1], 1d, C))':\u001b[0m\n\u001b[1m   No match for registered cases:\n    * (int64, int64) -> int64\n    * (int64, uint64) -> int64\n    * (uint64, int64) -> int64\n    * (uint64, uint64) -> uint64\n    * (float32, float32) -> float32\n    * (float64, float64) -> float64\n    * (complex64, complex64) -> complex64\n    * (complex128, complex128) -> complex128\u001b[0m\n\u001b[1m  - Of which 2 did not match due to:\n  Overload in function 'impl_set_difference': File: numba\\cpython\\setobj.py: Line 1525.\n    With argument(s): '(array([unichr x 1], 1d, C), array([unichr x 1], 1d, C))':\u001b[0m\n\u001b[1m   Rejected as the implementation raised a specific error:\n     TypingError: \u001b[1mAll arguments must be Sets, got (Array(UnicodeCharSeq(1), 1, 'C', False, aligned=True), Array(UnicodeCharSeq(1), 1, 'C', False, aligned=True))\u001b[0m\u001b[0m\n  raised from c:\\Users\\erijo\\Notebooks\\aoc2024\\.venv\\Lib\\site-packages\\numba\\cpython\\setobj.py:108\n\u001b[0m\n\u001b[0m\u001b[1mDuring: typing of intrinsic-call at C:\\Users\\erijo\\AppData\\Local\\Temp\\ipykernel_58020\\3128440282.py (6)\u001b[0m\n\u001b[1m\nFile \"..\\..\\AppData\\Local\\Temp\\ipykernel_58020\\3128440282.py\", line 6:\u001b[0m\n\u001b[1m<source missing, REPL/exec in use?>\u001b[0m\n",
     "output_type": "error",
     "traceback": [
      "\u001b[1;31m---------------------------------------------------------------------------\u001b[0m",
      "\u001b[1;31mTypingError\u001b[0m                               Traceback (most recent call last)",
      "Cell \u001b[1;32mIn[60], line 10\u001b[0m\n\u001b[0;32m      6\u001b[0m     diff \u001b[38;5;241m=\u001b[39m np\u001b[38;5;241m.\u001b[39mabs(col_1 \u001b[38;5;241m-\u001b[39m col_2)\n\u001b[0;32m      7\u001b[0m     \u001b[38;5;28;01mreturn\u001b[39;00m diff\u001b[38;5;241m.\u001b[39msum()\n\u001b[1;32m---> 10\u001b[0m \u001b[43mpart1\u001b[49m\u001b[43m(\u001b[49m\u001b[43m)\u001b[49m\n",
      "File \u001b[1;32mc:\\Users\\erijo\\Notebooks\\aoc2024\\.venv\\Lib\\site-packages\\numba\\core\\dispatcher.py:423\u001b[0m, in \u001b[0;36m_DispatcherBase._compile_for_args\u001b[1;34m(self, *args, **kws)\u001b[0m\n\u001b[0;32m    419\u001b[0m         msg \u001b[38;5;241m=\u001b[39m (\u001b[38;5;124mf\u001b[39m\u001b[38;5;124m\"\u001b[39m\u001b[38;5;132;01m{\u001b[39;00m\u001b[38;5;28mstr\u001b[39m(e)\u001b[38;5;241m.\u001b[39mrstrip()\u001b[38;5;132;01m}\u001b[39;00m\u001b[38;5;124m \u001b[39m\u001b[38;5;130;01m\\n\u001b[39;00m\u001b[38;5;130;01m\\n\u001b[39;00m\u001b[38;5;124mThis error may have been caused \u001b[39m\u001b[38;5;124m\"\u001b[39m\n\u001b[0;32m    420\u001b[0m                \u001b[38;5;124mf\u001b[39m\u001b[38;5;124m\"\u001b[39m\u001b[38;5;124mby the following argument(s):\u001b[39m\u001b[38;5;130;01m\\n\u001b[39;00m\u001b[38;5;132;01m{\u001b[39;00margs_str\u001b[38;5;132;01m}\u001b[39;00m\u001b[38;5;130;01m\\n\u001b[39;00m\u001b[38;5;124m\"\u001b[39m)\n\u001b[0;32m    421\u001b[0m         e\u001b[38;5;241m.\u001b[39mpatch_message(msg)\n\u001b[1;32m--> 423\u001b[0m     \u001b[43merror_rewrite\u001b[49m\u001b[43m(\u001b[49m\u001b[43me\u001b[49m\u001b[43m,\u001b[49m\u001b[43m \u001b[49m\u001b[38;5;124;43m'\u001b[39;49m\u001b[38;5;124;43mtyping\u001b[39;49m\u001b[38;5;124;43m'\u001b[39;49m\u001b[43m)\u001b[49m\n\u001b[0;32m    424\u001b[0m \u001b[38;5;28;01mexcept\u001b[39;00m errors\u001b[38;5;241m.\u001b[39mUnsupportedError \u001b[38;5;28;01mas\u001b[39;00m e:\n\u001b[0;32m    425\u001b[0m     \u001b[38;5;66;03m# Something unsupported is present in the user code, add help info\u001b[39;00m\n\u001b[0;32m    426\u001b[0m     error_rewrite(e, \u001b[38;5;124m'\u001b[39m\u001b[38;5;124munsupported_error\u001b[39m\u001b[38;5;124m'\u001b[39m)\n",
      "File \u001b[1;32mc:\\Users\\erijo\\Notebooks\\aoc2024\\.venv\\Lib\\site-packages\\numba\\core\\dispatcher.py:364\u001b[0m, in \u001b[0;36m_DispatcherBase._compile_for_args.<locals>.error_rewrite\u001b[1;34m(e, issue_type)\u001b[0m\n\u001b[0;32m    362\u001b[0m     \u001b[38;5;28;01mraise\u001b[39;00m e\n\u001b[0;32m    363\u001b[0m \u001b[38;5;28;01melse\u001b[39;00m:\n\u001b[1;32m--> 364\u001b[0m     \u001b[38;5;28;01mraise\u001b[39;00m e\u001b[38;5;241m.\u001b[39mwith_traceback(\u001b[38;5;28;01mNone\u001b[39;00m)\n",
      "\u001b[1;31mTypingError\u001b[0m: Failed in nopython mode pipeline (step: nopython frontend)\n\u001b[1m\u001b[1mNo implementation of function Function(<built-in function sub>) found for signature:\n \n >>> sub(array([unichr x 1], 1d, C), array([unichr x 1], 1d, C))\n \nThere are 14 candidate implementations:\n\u001b[1m  - Of which 10 did not match due to:\n  Overload of function 'sub': File: <numerous>: Line N/A.\n    With argument(s): '(array([unichr x 1], 1d, C), array([unichr x 1], 1d, C))':\u001b[0m\n\u001b[1m   No match.\u001b[0m\n\u001b[1m  - Of which 2 did not match due to:\n  Operator Overload in function 'sub': File: unknown: Line unknown.\n    With argument(s): '(array([unichr x 1], 1d, C), array([unichr x 1], 1d, C))':\u001b[0m\n\u001b[1m   No match for registered cases:\n    * (int64, int64) -> int64\n    * (int64, uint64) -> int64\n    * (uint64, int64) -> int64\n    * (uint64, uint64) -> uint64\n    * (float32, float32) -> float32\n    * (float64, float64) -> float64\n    * (complex64, complex64) -> complex64\n    * (complex128, complex128) -> complex128\u001b[0m\n\u001b[1m  - Of which 2 did not match due to:\n  Overload in function 'impl_set_difference': File: numba\\cpython\\setobj.py: Line 1525.\n    With argument(s): '(array([unichr x 1], 1d, C), array([unichr x 1], 1d, C))':\u001b[0m\n\u001b[1m   Rejected as the implementation raised a specific error:\n     TypingError: \u001b[1mAll arguments must be Sets, got (Array(UnicodeCharSeq(1), 1, 'C', False, aligned=True), Array(UnicodeCharSeq(1), 1, 'C', False, aligned=True))\u001b[0m\u001b[0m\n  raised from c:\\Users\\erijo\\Notebooks\\aoc2024\\.venv\\Lib\\site-packages\\numba\\cpython\\setobj.py:108\n\u001b[0m\n\u001b[0m\u001b[1mDuring: typing of intrinsic-call at C:\\Users\\erijo\\AppData\\Local\\Temp\\ipykernel_58020\\3128440282.py (6)\u001b[0m\n\u001b[1m\nFile \"..\\..\\AppData\\Local\\Temp\\ipykernel_58020\\3128440282.py\", line 6:\u001b[0m\n\u001b[1m<source missing, REPL/exec in use?>\u001b[0m\n"
     ]
    }
   ],
   "source": [
    "@jit(nopython=True)\n",
    "def part1():\n",
    "    col_1 = np.sort(inp_np[0])\n",
    "    col_2 = np.sort(inp_np[1])\n",
    "\n",
    "    diff = np.abs(col_1 - col_2)\n",
    "    return diff.sum()\n",
    "\n",
    "\n",
    "part1()"
   ]
  },
  {
   "cell_type": "code",
   "execution_count": null,
   "metadata": {},
   "outputs": [
    {
     "name": "stdout",
     "output_type": "stream",
     "text": [
      "13.9 μs ± 39.6 ns per loop (mean ± std. dev. of 7 runs, 100,000 loops each)\n"
     ]
    }
   ],
   "source": [
    "%%timeit\n",
    "part1()"
   ]
  },
  {
   "cell_type": "code",
   "execution_count": null,
   "metadata": {},
   "outputs": [
    {
     "data": {
      "text/plain": [
       "23963899"
      ]
     },
     "execution_count": 111,
     "metadata": {},
     "output_type": "execute_result"
    }
   ],
   "source": [
    "@jit(nopython=True)\n",
    "def part2():\n",
    "    col_1 = inp_np[0]\n",
    "    col_2 = inp_np[1]\n",
    "\n",
    "    count_col_2 = np.bincount(col_2)\n",
    "    counts = count_col_2[col_1]\n",
    "\n",
    "    res = np.sum(col_1 * counts)\n",
    "    return res\n",
    "\n",
    "\n",
    "part2()"
   ]
  },
  {
   "cell_type": "code",
   "execution_count": null,
   "metadata": {},
   "outputs": [
    {
     "name": "stdout",
     "output_type": "stream",
     "text": [
      "8.22 μs ± 255 ns per loop (mean ± std. dev. of 7 runs, 100,000 loops each)\n"
     ]
    }
   ],
   "source": [
    "%%timeit\n",
    "part2()"
   ]
  }
 ],
 "metadata": {
  "kernelspec": {
   "display_name": ".venv",
   "language": "python",
   "name": "python3"
  },
  "language_info": {
   "codemirror_mode": {
    "name": "ipython",
    "version": 3
   },
   "file_extension": ".py",
   "mimetype": "text/x-python",
   "name": "python",
   "nbconvert_exporter": "python",
   "pygments_lexer": "ipython3",
   "version": "3.12.4"
  }
 },
 "nbformat": 4,
 "nbformat_minor": 2
}
