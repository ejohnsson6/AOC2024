{
 "cells": [
  {
   "cell_type": "code",
   "execution_count": 121,
   "metadata": {},
   "outputs": [],
   "source": [
    "from pathlib import Path\n",
    "import numpy as np\n",
    "from numba import jit\n",
    "from utils.get_input import get_input\n",
    "from io import StringIO\n",
    "import pandas as pd\n",
    "\n",
    "\n",
    "inp = Path(\"./test_input\").read_text()\n",
    "inp = get_input(8)"
   ]
  },
  {
   "cell_type": "code",
   "execution_count": 122,
   "metadata": {},
   "outputs": [
    {
     "name": "stdout",
     "output_type": "stream",
     "text": [
      "[['.' 'C' '.' ... '.' '.' '.']\n",
      " ['.' '.' '.' ... '.' '.' '.']\n",
      " ['u' '.' '.' ... '.' 'a' '.']\n",
      " ...\n",
      " ['.' '.' '.' ... '.' '.' 'v']\n",
      " ['.' '.' '.' ... '.' '.' '.']\n",
      " ['.' '.' '.' ... '.' '.' '.']]\n",
      "[['.' '.' '.' ... '.' '.' '.']\n",
      " ['.' '.' '.' ... '.' '.' '.']\n",
      " ['.' '.' '.' ... '.' '.' 'v']\n",
      " ...\n",
      " ['u' '.' '.' ... '.' 'a' '.']\n",
      " ['.' '.' '.' ... '.' '.' '.']\n",
      " ['.' 'C' '.' ... '.' '.' '.']]\n"
     ]
    },
    {
     "data": {
      "text/html": [
       "<div>\n",
       "<style scoped>\n",
       "    .dataframe tbody tr th:only-of-type {\n",
       "        vertical-align: middle;\n",
       "    }\n",
       "\n",
       "    .dataframe tbody tr th {\n",
       "        vertical-align: top;\n",
       "    }\n",
       "\n",
       "    .dataframe thead th {\n",
       "        text-align: right;\n",
       "    }\n",
       "</style>\n",
       "<table border=\"1\" class=\"dataframe\">\n",
       "  <thead>\n",
       "    <tr style=\"text-align: right;\">\n",
       "      <th></th>\n",
       "      <th>y</th>\n",
       "      <th>x</th>\n",
       "      <th>type</th>\n",
       "    </tr>\n",
       "  </thead>\n",
       "  <tbody>\n",
       "    <tr>\n",
       "      <th>0</th>\n",
       "      <td>0</td>\n",
       "      <td>1</td>\n",
       "      <td>C</td>\n",
       "    </tr>\n",
       "    <tr>\n",
       "      <th>1</th>\n",
       "      <td>0</td>\n",
       "      <td>17</td>\n",
       "      <td>w</td>\n",
       "    </tr>\n",
       "    <tr>\n",
       "      <th>2</th>\n",
       "      <td>0</td>\n",
       "      <td>41</td>\n",
       "      <td>M</td>\n",
       "    </tr>\n",
       "    <tr>\n",
       "      <th>3</th>\n",
       "      <td>0</td>\n",
       "      <td>43</td>\n",
       "      <td>E</td>\n",
       "    </tr>\n",
       "    <tr>\n",
       "      <th>4</th>\n",
       "      <td>1</td>\n",
       "      <td>15</td>\n",
       "      <td>G</td>\n",
       "    </tr>\n",
       "    <tr>\n",
       "      <th>...</th>\n",
       "      <td>...</td>\n",
       "      <td>...</td>\n",
       "      <td>...</td>\n",
       "    </tr>\n",
       "    <tr>\n",
       "      <th>226</th>\n",
       "      <td>46</td>\n",
       "      <td>41</td>\n",
       "      <td>v</td>\n",
       "    </tr>\n",
       "    <tr>\n",
       "      <th>227</th>\n",
       "      <td>47</td>\n",
       "      <td>49</td>\n",
       "      <td>v</td>\n",
       "    </tr>\n",
       "    <tr>\n",
       "      <th>228</th>\n",
       "      <td>49</td>\n",
       "      <td>17</td>\n",
       "      <td>z</td>\n",
       "    </tr>\n",
       "    <tr>\n",
       "      <th>229</th>\n",
       "      <td>49</td>\n",
       "      <td>19</td>\n",
       "      <td>W</td>\n",
       "    </tr>\n",
       "    <tr>\n",
       "      <th>230</th>\n",
       "      <td>49</td>\n",
       "      <td>38</td>\n",
       "      <td>J</td>\n",
       "    </tr>\n",
       "  </tbody>\n",
       "</table>\n",
       "<p>231 rows × 3 columns</p>\n",
       "</div>"
      ],
      "text/plain": [
       "      y   x type\n",
       "0     0   1    C\n",
       "1     0  17    w\n",
       "2     0  41    M\n",
       "3     0  43    E\n",
       "4     1  15    G\n",
       "..   ..  ..  ...\n",
       "226  46  41    v\n",
       "227  47  49    v\n",
       "228  49  17    z\n",
       "229  49  19    W\n",
       "230  49  38    J\n",
       "\n",
       "[231 rows x 3 columns]"
      ]
     },
     "execution_count": 122,
     "metadata": {},
     "output_type": "execute_result"
    }
   ],
   "source": [
    "# %%timeit\n",
    "# Structure input\n",
    "inp_np = np.array([list(line) for line in inp.split(\"\\n\")])\n",
    "print(inp_np)\n",
    "print(np.flipud(inp_np))\n",
    "\n",
    "antennas = np.where(inp_np != '.')\n",
    "antenna_types = inp_np[antennas]\n",
    "\n",
    "data = np.array([antennas[0], antennas[1], antenna_types]).T\n",
    "data = pd.DataFrame(data, columns=[\"y\", \"x\", \"type\"])\n",
    "data[\"x\"] = data[\"x\"].astype(int)\n",
    "data[\"y\"] = data[\"y\"].astype(int)\n",
    "data"
   ]
  },
  {
   "cell_type": "code",
   "execution_count": 123,
   "metadata": {},
   "outputs": [
    {
     "data": {
      "text/plain": [
       "[(3, 2),\n",
       " (0, 11),\n",
       " (11, 3),\n",
       " (9, 4),\n",
       " (7, 5),\n",
       " (5, 6),\n",
       " (7, 0),\n",
       " (5, 11),\n",
       " (4, 9),\n",
       " (1, 3),\n",
       " (0, 1),\n",
       " (10, 1),\n",
       " (8, 2),\n",
       " (6, 3),\n",
       " (0, 6),\n",
       " (5, 1),\n",
       " (2, 10),\n",
       " (11, 10),\n",
       " (2, 4),\n",
       " (1, 3),\n",
       " (11, 11),\n",
       " (10, 10),\n",
       " (7, 7),\n",
       " (6, 6),\n",
       " (5, 5),\n",
       " (4, 4),\n",
       " (3, 3),\n",
       " (2, 2),\n",
       " (1, 1),\n",
       " (0, 0)]"
      ]
     },
     "execution_count": 123,
     "metadata": {},
     "output_type": "execute_result"
    }
   ],
   "source": [
    "antinodes"
   ]
  },
  {
   "cell_type": "code",
   "execution_count": 140,
   "metadata": {},
   "outputs": [
    {
     "data": {
      "text/plain": [
       "371"
      ]
     },
     "execution_count": 140,
     "metadata": {},
     "output_type": "execute_result"
    }
   ],
   "source": [
    "import itertools\n",
    "\n",
    "\n",
    "def part1():\n",
    "    max_y, max_x = inp_np.shape\n",
    "    antinodes = []\n",
    "    for _, t in data.groupby(\"type\"):\n",
    "        ant_in = t.index\n",
    "        ant_combs = list(itertools.combinations(ant_in, 2))\n",
    "        for ant1, ant2 in ant_combs:\n",
    "            t_1 = t.loc[ant1]\n",
    "            t_2 = t.loc[ant2]\n",
    "            diff_x = t_1[\"x\"] - t_2[\"x\"]\n",
    "            dir_x = diff_x / abs(diff_x)\n",
    "            diff_y = t_1[\"y\"] - t_2[\"y\"]\n",
    "            dir_y = diff_y / abs(diff_y)\n",
    "            a_1 = (\n",
    "                int(t_1[\"y\"] + abs(diff_y) * dir_y),\n",
    "                int(t_1[\"x\"] + abs(diff_x) * dir_x),\n",
    "            )\n",
    "            a_2 = (\n",
    "                int(t_2[\"y\"] + abs(diff_y) * -1 * dir_y),\n",
    "                int(t_2[\"x\"] + abs(diff_x) * -1 * dir_x),\n",
    "            )\n",
    "            if a_1[0] >= 0 and a_1[0] < max_y and a_1[1] >= 0 and a_1[1] < max_x:\n",
    "                antinodes.append(a_1)\n",
    "            if a_2[0] >= 0 and a_2[0] < max_y and a_2[1] >= 0 and a_2[1] < max_x:\n",
    "                antinodes.append(a_2)\n",
    "\n",
    "    return len(set(antinodes))\n",
    "\n",
    "\n",
    "part1()"
   ]
  },
  {
   "cell_type": "code",
   "execution_count": null,
   "metadata": {},
   "outputs": [],
   "source": [
    "%%timeit\n",
    "part1()"
   ]
  },
  {
   "cell_type": "code",
   "execution_count": null,
   "metadata": {},
   "outputs": [
    {
     "data": {
      "text/plain": [
       "1229"
      ]
     },
     "execution_count": 132,
     "metadata": {},
     "output_type": "execute_result"
    }
   ],
   "source": [
    "import itertools\n",
    "\n",
    "\n",
    "def part2():\n",
    "    max_y, max_x = inp_np.shape\n",
    "\n",
    "    antinodes = []\n",
    "    for _, t in data.groupby(\"type\"):\n",
    "        ant_in = t.index\n",
    "        ant_combs = list(itertools.combinations(ant_in, 2))\n",
    "        for ant1, ant2 in ant_combs:\n",
    "            t_1 = t.loc[ant1]\n",
    "            t_2 = t.loc[ant2]\n",
    "            diff_x = t_1[\"x\"] - t_2[\"x\"]\n",
    "            dir_x = diff_x / abs(diff_x)\n",
    "            diff_y = t_1[\"y\"] - t_2[\"y\"]\n",
    "            dir_y = diff_y / abs(diff_y)\n",
    "\n",
    "            for i in range(-1000, 1000):\n",
    "                a = (\n",
    "                    int(t_1[\"y\"] + abs(diff_y) * dir_y * i),\n",
    "                    int(t_1[\"x\"] + abs(diff_x) * dir_x * i),\n",
    "                )\n",
    "                if a[0] >= 0 and a[0] < max_y and a[1] >= 0 and a[1] < max_x:\n",
    "                    antinodes.append(a)\n",
    "\n",
    "    return len(set(antinodes))\n",
    "\n",
    "\n",
    "part2()"
   ]
  },
  {
   "cell_type": "code",
   "execution_count": 134,
   "metadata": {},
   "outputs": [
    {
     "name": "stdout",
     "output_type": "stream",
     "text": [
      "1.5 s ± 4.43 ms per loop (mean ± std. dev. of 7 runs, 1 loop each)\n"
     ]
    }
   ],
   "source": [
    "%%timeit\n",
    "part2()"
   ]
  },
  {
   "cell_type": "code",
   "execution_count": 138,
   "metadata": {},
   "outputs": [
    {
     "data": {
      "text/plain": [
       "array([['#', '#', '.', ..., '.', '#', '.'],\n",
       "       ['#', '.', '#', ..., '#', '.', '.'],\n",
       "       ['#', '.', '.', ..., '.', '#', '#'],\n",
       "       ...,\n",
       "       ['#', '.', '.', ..., '.', '.', '#'],\n",
       "       ['.', '.', '#', ..., '.', '.', '.'],\n",
       "       ['#', '.', '.', ..., '.', '#', '.']], dtype='<U1')"
      ]
     },
     "execution_count": 138,
     "metadata": {},
     "output_type": "execute_result"
    }
   ],
   "source": [
    "# Print result\n",
    "inp_np2 = inp_np.copy()\n",
    "for x,y in antinodes:\n",
    "    inp_np2[int(x), int(y)] = \"#\"\n",
    "\n",
    "inp_np2"
   ]
  }
 ],
 "metadata": {
  "kernelspec": {
   "display_name": ".venv",
   "language": "python",
   "name": "python3"
  },
  "language_info": {
   "codemirror_mode": {
    "name": "ipython",
    "version": 3
   },
   "file_extension": ".py",
   "mimetype": "text/x-python",
   "name": "python",
   "nbconvert_exporter": "python",
   "pygments_lexer": "ipython3",
   "version": "3.12.4"
  }
 },
 "nbformat": 4,
 "nbformat_minor": 2
}
