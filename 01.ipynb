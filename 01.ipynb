{
 "cells": [
  {
   "cell_type": "code",
   "execution_count": 1,
   "metadata": {},
   "outputs": [],
   "source": [
    "from pathlib import Path\n",
    "import numpy as np\n",
    "from numba import jit\n",
    "from utils.get_input import get_input\n",
    "from io import StringIO\n",
    "\n",
    "# inp = Path(\"./test_input\").read_text()\n",
    "inp = get_input(1)\n",
    "inp_np = np.loadtxt(StringIO(inp), dtype='int64').T"
   ]
  },
  {
   "cell_type": "code",
   "execution_count": 2,
   "metadata": {},
   "outputs": [
    {
     "data": {
      "text/plain": [
       "2970687"
      ]
     },
     "execution_count": 2,
     "metadata": {},
     "output_type": "execute_result"
    }
   ],
   "source": [
    "@jit(nopython=True)\n",
    "def part1():\n",
    "    col_1 = np.sort(inp_np[0])\n",
    "    col_2 = np.sort(inp_np[1])\n",
    "\n",
    "    diff = np.abs(col_1 - col_2)\n",
    "    return diff.sum()\n",
    "\n",
    "\n",
    "part1()"
   ]
  },
  {
   "cell_type": "code",
   "execution_count": 3,
   "metadata": {},
   "outputs": [
    {
     "name": "stdout",
     "output_type": "stream",
     "text": [
      "14 μs ± 35.9 ns per loop (mean ± std. dev. of 7 runs, 100,000 loops each)\n"
     ]
    }
   ],
   "source": [
    "%%timeit\n",
    "part1()"
   ]
  },
  {
   "cell_type": "code",
   "execution_count": 4,
   "metadata": {},
   "outputs": [
    {
     "data": {
      "text/plain": [
       "23963899"
      ]
     },
     "execution_count": 4,
     "metadata": {},
     "output_type": "execute_result"
    }
   ],
   "source": [
    "@jit(nopython=True)\n",
    "def part2():\n",
    "    col_1 = inp_np[0]\n",
    "    col_2 = inp_np[1]\n",
    "\n",
    "    count_col_2 = np.bincount(col_2)\n",
    "    counts = count_col_2[col_1]\n",
    "\n",
    "    res = np.sum(col_1 * counts)\n",
    "    return res\n",
    "\n",
    "\n",
    "part2()"
   ]
  },
  {
   "cell_type": "code",
   "execution_count": 5,
   "metadata": {},
   "outputs": [
    {
     "name": "stdout",
     "output_type": "stream",
     "text": [
      "7.99 μs ± 40.5 ns per loop (mean ± std. dev. of 7 runs, 100,000 loops each)\n"
     ]
    }
   ],
   "source": [
    "%%timeit\n",
    "part2()"
   ]
  }
 ],
 "metadata": {
  "kernelspec": {
   "display_name": ".venv",
   "language": "python",
   "name": "python3"
  },
  "language_info": {
   "codemirror_mode": {
    "name": "ipython",
    "version": 3
   },
   "file_extension": ".py",
   "mimetype": "text/x-python",
   "name": "python",
   "nbconvert_exporter": "python",
   "pygments_lexer": "ipython3",
   "version": "3.12.4"
  }
 },
 "nbformat": 4,
 "nbformat_minor": 2
}
