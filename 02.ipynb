{
 "cells": [
  {
   "cell_type": "code",
   "execution_count": null,
   "metadata": {},
   "outputs": [],
   "source": [
    "from pathlib import Path\n",
    "import numpy as np\n",
    "from numba import jit\n",
    "from utils.get_input import get_input\n",
    "\n",
    "np.seterr(divide=\"ignore\", invalid=\"ignore\")\n",
    "\n",
    "# inp = Path(\"./test_input\").read_text()\n",
    "inp = get_input(2)\n",
    "inp;"
   ]
  },
  {
   "cell_type": "code",
   "execution_count": 107,
   "metadata": {},
   "outputs": [
    {
     "name": "stdout",
     "output_type": "stream",
     "text": [
      "2.26 ms ± 22.4 μs per loop (mean ± std. dev. of 7 runs, 100 loops each)\n"
     ]
    }
   ],
   "source": [
    "%%timeit\n",
    "# Structure input\n",
    "inp_np = [np.fromstring(line, dtype=int, sep=\" \") for line in inp.split(\"\\n\") if line]"
   ]
  },
  {
   "cell_type": "code",
   "execution_count": 115,
   "metadata": {},
   "outputs": [
    {
     "data": {
      "text/plain": [
       "472"
      ]
     },
     "execution_count": 115,
     "metadata": {},
     "output_type": "execute_result"
    }
   ],
   "source": [
    "@jit(nopython=True)\n",
    "def part1(inp_np):\n",
    "    sum = 0\n",
    "    for line in inp_np:\n",
    "        diff = np.diff(line)\n",
    "        abs_diff = np.abs(diff)\n",
    "        all_incr = np.all(diff / abs_diff == 1)\n",
    "        all_Decr = np.all(diff / abs_diff == -1)\n",
    "        safe_diff = np.all(abs_diff <= 3)\n",
    "        res = (all_incr | all_Decr) & safe_diff\n",
    "        if res:\n",
    "            sum += 1\n",
    "\n",
    "    return sum\n",
    "\n",
    "\n",
    "part1(inp_np)"
   ]
  },
  {
   "cell_type": "code",
   "execution_count": 116,
   "metadata": {},
   "outputs": [
    {
     "name": "stdout",
     "output_type": "stream",
     "text": [
      "6.3 ms ± 91.8 μs per loop (mean ± std. dev. of 7 runs, 100 loops each)\n"
     ]
    }
   ],
   "source": [
    "%%timeit\n",
    "part1(inp_np)"
   ]
  },
  {
   "cell_type": "code",
   "execution_count": 119,
   "metadata": {},
   "outputs": [
    {
     "data": {
      "text/plain": [
       "520"
      ]
     },
     "execution_count": 119,
     "metadata": {},
     "output_type": "execute_result"
    }
   ],
   "source": [
    "# @jit(nopython=True)\n",
    "def part2():\n",
    "    sum = 0\n",
    "    for line in inp_np:\n",
    "        all_perms = np.array([np.delete(line, i) for i in range(len(line))])\n",
    "        diff = np.diff(all_perms, axis=1)\n",
    "        abs_diff = np.abs(diff)\n",
    "        all_incr = np.all(diff / abs_diff == 1, axis=1)\n",
    "        all_Decr = np.all(diff / abs_diff == -1, axis=1)\n",
    "        safe_diff = np.all(abs_diff <= 3, axis=1)\n",
    "        res = (all_incr | all_Decr) & safe_diff\n",
    "        if res.any():\n",
    "            sum += 1\n",
    "\n",
    "    return sum\n",
    "\n",
    "\n",
    "part2()"
   ]
  },
  {
   "cell_type": "code",
   "execution_count": 114,
   "metadata": {},
   "outputs": [
    {
     "name": "stdout",
     "output_type": "stream",
     "text": [
      "43.3 ms ± 822 μs per loop (mean ± std. dev. of 7 runs, 10 loops each)\n"
     ]
    }
   ],
   "source": [
    "%%timeit\n",
    "part2()"
   ]
  }
 ],
 "metadata": {
  "kernelspec": {
   "display_name": ".venv",
   "language": "python",
   "name": "python3"
  },
  "language_info": {
   "codemirror_mode": {
    "name": "ipython",
    "version": 3
   },
   "file_extension": ".py",
   "mimetype": "text/x-python",
   "name": "python",
   "nbconvert_exporter": "python",
   "pygments_lexer": "ipython3",
   "version": "3.13.0"
  }
 },
 "nbformat": 4,
 "nbformat_minor": 2
}
