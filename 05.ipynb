{
 "cells": [
  {
   "cell_type": "code",
   "execution_count": 1,
   "metadata": {},
   "outputs": [],
   "source": [
    "from pathlib import Path\n",
    "from utils.get_input import get_input\n",
    "\n",
    "# inp = Path(\"./test_input\").read_text()\n",
    "inp = get_input(5)\n",
    "inp;"
   ]
  },
  {
   "cell_type": "code",
   "execution_count": null,
   "metadata": {},
   "outputs": [],
   "source": [
    "# %%timeit\n",
    "rules, updates = inp.split(\"\\n\\n\")\n",
    "\n",
    "updates = [[int(xx) for xx in x.split(\",\")] for x in updates.split(\"\\n\")]\n",
    "\n",
    "rules = [[int(xx) for xx in x.split(\"|\")] for x in rules.split(\"\\n\")]\n",
    "\n",
    "rules_map_k_before_v = {}\n",
    "for r1, r2 in rules:\n",
    "    if r1 in rules_map_k_before_v:\n",
    "        rules_map_k_before_v[r1].append(r2)\n",
    "    else:\n",
    "        rules_map_k_before_v[r1] = [r2]\n",
    "\n",
    "rules_map_v_before_k = {}\n",
    "for k, v in rules_map_k_before_v.items():\n",
    "    for i in v:\n",
    "        if i in rules_map_v_before_k:\n",
    "            rules_map_v_before_k[i].append(k)\n",
    "        else:\n",
    "            rules_map_v_before_k[i] = [k]"
   ]
  },
  {
   "cell_type": "code",
   "execution_count": 47,
   "metadata": {},
   "outputs": [
    {
     "data": {
      "text/plain": [
       "7307"
      ]
     },
     "execution_count": 47,
     "metadata": {},
     "output_type": "execute_result"
    }
   ],
   "source": [
    "def part1():\n",
    "    sum = 0\n",
    "\n",
    "    for update in updates:\n",
    "        # print(update)\n",
    "        past = set()\n",
    "        whole_row = set(update)\n",
    "        rules_followed = False\n",
    "\n",
    "        for p in update:\n",
    "            should_before_p = (\n",
    "                rules_map_v_before_k[p] if p in rules_map_v_before_k else []\n",
    "            )\n",
    "            should_before_p = set(should_before_p).intersection(whole_row)\n",
    "            rules_followed = set(should_before_p).issubset(past)\n",
    "            if not rules_followed:\n",
    "                # print(\"RULE MISSED\", p, should_before_p, past)\n",
    "                break\n",
    "            # print(p, rules_followed)\n",
    "            past.add(p)\n",
    "\n",
    "        if rules_followed:\n",
    "            # print(\"YES\")\n",
    "            sum += update[len(update) // 2]\n",
    "\n",
    "    return sum\n",
    "\n",
    "\n",
    "part1()"
   ]
  },
  {
   "cell_type": "code",
   "execution_count": 48,
   "metadata": {},
   "outputs": [
    {
     "name": "stdout",
     "output_type": "stream",
     "text": [
      "1.73 ms ± 19.9 μs per loop (mean ± std. dev. of 7 runs, 1,000 loops each)\n"
     ]
    }
   ],
   "source": [
    "%%timeit\n",
    "part1()"
   ]
  },
  {
   "cell_type": "code",
   "execution_count": null,
   "metadata": {},
   "outputs": [
    {
     "data": {
      "text/plain": [
       "4713"
      ]
     },
     "execution_count": 50,
     "metadata": {},
     "output_type": "execute_result"
    }
   ],
   "source": [
    "def part2():\n",
    "    sum = 0\n",
    "\n",
    "    for update in updates:\n",
    "        # print(\"\\nUPDATE: \", update)\n",
    "        past = set()\n",
    "        whole_row = set(update)\n",
    "\n",
    "        rules_followed_all = True\n",
    "        i = 0\n",
    "        while i < len(update):\n",
    "\n",
    "            p = update[i]\n",
    "            should_before_p = (\n",
    "                rules_map_v_before_k[p] if p in rules_map_v_before_k else []\n",
    "            )\n",
    "            should_before_p = set(should_before_p).intersection(whole_row)\n",
    "            rules_followed = set(should_before_p).issubset(past)\n",
    "            past.add(p)\n",
    "            if not rules_followed:\n",
    "                rules_followed_all = False\n",
    "                # print(\"RULE MISSED\", p, should_before_p, past)\n",
    "                move_before_p = should_before_p - past\n",
    "                # print(f\"Moving {move_before_p} before {p}\")\n",
    "                update = (\n",
    "                    update[:i]\n",
    "                    + list(move_before_p)\n",
    "                    + [x for x in update[i:] if x not in move_before_p]\n",
    "                )\n",
    "                # print(\"NEW UPDATE\", update)\n",
    "                i = 0\n",
    "                past = set()\n",
    "            # print(p, rules_followed)\n",
    "\n",
    "            i += 1\n",
    "\n",
    "        if not rules_followed_all:\n",
    "            to_add = update[len(update) // 2]\n",
    "            # print(\"YES, adding\", to_add)\n",
    "            sum += to_add\n",
    "\n",
    "    return sum\n",
    "\n",
    "\n",
    "part2()"
   ]
  },
  {
   "cell_type": "code",
   "execution_count": 51,
   "metadata": {},
   "outputs": [
    {
     "name": "stdout",
     "output_type": "stream",
     "text": [
      "5.73 ms ± 143 μs per loop (mean ± std. dev. of 7 runs, 100 loops each)\n"
     ]
    }
   ],
   "source": [
    "%%timeit\n",
    "part2()"
   ]
  }
 ],
 "metadata": {
  "kernelspec": {
   "display_name": ".venv",
   "language": "python",
   "name": "python3"
  },
  "language_info": {
   "codemirror_mode": {
    "name": "ipython",
    "version": 3
   },
   "file_extension": ".py",
   "mimetype": "text/x-python",
   "name": "python",
   "nbconvert_exporter": "python",
   "pygments_lexer": "ipython3",
   "version": "3.13.0"
  }
 },
 "nbformat": 4,
 "nbformat_minor": 2
}
