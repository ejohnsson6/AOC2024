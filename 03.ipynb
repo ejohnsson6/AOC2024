{
 "cells": [
  {
   "cell_type": "code",
   "execution_count": null,
   "metadata": {},
   "outputs": [],
   "source": [
    "from pathlib import Path\n",
    "import re\n",
    "from utils.get_input import get_input\n",
    "\n",
    "# inp = Path(\"./test_input\").read_text()\n",
    "inp = get_input(3)\n",
    "inp;"
   ]
  },
  {
   "cell_type": "code",
   "execution_count": 5,
   "metadata": {},
   "outputs": [
    {
     "data": {
      "text/plain": [
       "174960292"
      ]
     },
     "execution_count": 5,
     "metadata": {},
     "output_type": "execute_result"
    }
   ],
   "source": [
    "def part1():\n",
    "    search = r\"mul\\(\\d+,\\d+\\)\"\n",
    "    matches = re.findall(search, inp)\n",
    "    sum = 0\n",
    "    for match in matches:\n",
    "        le, ri = match.split(\"(\")[1].split(\")\")[0].split(\",\")\n",
    "        mul = int(le) * int(ri)\n",
    "        sum += mul\n",
    "\n",
    "    return sum\n",
    "\n",
    "\n",
    "part1()"
   ]
  },
  {
   "cell_type": "code",
   "execution_count": 6,
   "metadata": {},
   "outputs": [
    {
     "name": "stdout",
     "output_type": "stream",
     "text": [
      "256 μs ± 6.72 μs per loop (mean ± std. dev. of 7 runs, 1,000 loops each)\n"
     ]
    }
   ],
   "source": [
    "%%timeit\n",
    "part1()"
   ]
  },
  {
   "cell_type": "code",
   "execution_count": 7,
   "metadata": {},
   "outputs": [
    {
     "data": {
      "text/plain": [
       "56275602"
      ]
     },
     "execution_count": 7,
     "metadata": {},
     "output_type": "execute_result"
    }
   ],
   "source": [
    "def part2():\n",
    "    search = r\"(mul\\(\\d+,\\d+\\))|(do\\(\\))|(don\\'t\\(\\))\"\n",
    "    matches = re.findall(search, inp)\n",
    "    sum = 0\n",
    "    enabled = True\n",
    "    for m, do, don in matches:\n",
    "        if do:\n",
    "            enabled = True\n",
    "        elif don:\n",
    "            enabled = False\n",
    "        elif enabled:\n",
    "            le, ri = m.split(\"(\")[1].split(\")\")[0].split(\",\")\n",
    "            mul = int(le) * int(ri)\n",
    "            sum += mul\n",
    "\n",
    "    return sum\n",
    "\n",
    "\n",
    "part2()"
   ]
  },
  {
   "cell_type": "code",
   "execution_count": 8,
   "metadata": {},
   "outputs": [
    {
     "name": "stdout",
     "output_type": "stream",
     "text": [
      "363 μs ± 7.3 μs per loop (mean ± std. dev. of 7 runs, 1,000 loops each)\n"
     ]
    }
   ],
   "source": [
    "%%timeit\n",
    "part2()"
   ]
  }
 ],
 "metadata": {
  "kernelspec": {
   "display_name": ".venv",
   "language": "python",
   "name": "python3"
  },
  "language_info": {
   "codemirror_mode": {
    "name": "ipython",
    "version": 3
   },
   "file_extension": ".py",
   "mimetype": "text/x-python",
   "name": "python",
   "nbconvert_exporter": "python",
   "pygments_lexer": "ipython3",
   "version": "3.13.0"
  }
 },
 "nbformat": 4,
 "nbformat_minor": 2
}
