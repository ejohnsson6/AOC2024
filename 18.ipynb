{
 "cells": [
  {
   "cell_type": "code",
   "execution_count": 66,
   "metadata": {},
   "outputs": [],
   "source": [
    "from pathlib import Path\n",
    "from utils.get_input import get_input\n",
    "import numpy as np\n",
    "from io import StringIO\n",
    "\n",
    "\n",
    "inp = Path(\"./test_input\").read_text()\n",
    "inp = get_input(18)\n",
    "len_x = 71\n",
    "len_y = 71\n",
    "inp;"
   ]
  },
  {
   "cell_type": "code",
   "execution_count": 67,
   "metadata": {},
   "outputs": [],
   "source": [
    "inp_np = np.genfromtxt(StringIO(inp), delimiter=\",\", dtype=int).T\n",
    "inp_np = inp_np[[1, 0]]\n",
    "first_n_bytes = 1024\n",
    "\n",
    "map = np.zeros((len_y, len_x), dtype=int)\n",
    "map[*inp_np[:, :first_n_bytes]] = 1\n",
    "map;"
   ]
  },
  {
   "cell_type": "code",
   "execution_count": 52,
   "metadata": {},
   "outputs": [
    {
     "data": {
      "text/plain": [
       "380"
      ]
     },
     "execution_count": 52,
     "metadata": {},
     "output_type": "execute_result"
    }
   ],
   "source": [
    "import networkx as nx\n",
    "\n",
    "graph = nx.Graph()\n",
    "zeros = np.argwhere(map == 0)\n",
    "for y, x in zeros:\n",
    "    if x > 0 and map[y, x-1] == 0:\n",
    "        graph.add_edge((y, x), (y, x-1))\n",
    "    if y > 0 and map[y-1, x] == 0:\n",
    "        graph.add_edge((y, x), (y-1, x))\n",
    "    if x < len_x-1 and map[y, x+1] == 0:\n",
    "        graph.add_edge((y, x), (y, x+1))\n",
    "    if y < len_y-1 and map[y+1, x] == 0:\n",
    "        graph.add_edge((y, x), (y+1, x))\n",
    "\n",
    "path = nx.shortest_path(graph, (0, 0), (len_y - 1, len_x - 1))\n",
    "len(path) - 1"
   ]
  },
  {
   "cell_type": "code",
   "execution_count": 63,
   "metadata": {},
   "outputs": [
    {
     "name": "stderr",
     "output_type": "stream",
     "text": [
      "2957it [01:24, 35.19it/s]"
     ]
    },
    {
     "name": "stdout",
     "output_type": "stream",
     "text": [
      "(26,50)\n"
     ]
    },
    {
     "name": "stderr",
     "output_type": "stream",
     "text": [
      "\n"
     ]
    }
   ],
   "source": [
    "from tqdm import tqdm\n",
    "\n",
    "map = np.zeros((len_y, len_x), dtype=int)\n",
    "\n",
    "for i, b in tqdm(enumerate(inp_np.T)):\n",
    "    y_new, x_new = b\n",
    "    map[y_new, x_new] = 1\n",
    "    graph = nx.Graph()\n",
    "    zeros = np.argwhere(map == 0)\n",
    "    for y, x in zeros:\n",
    "        if x > 0 and map[y, x-1] == 0:\n",
    "            graph.add_edge((y, x), (y, x-1))\n",
    "        if y > 0 and map[y-1, x] == 0:\n",
    "            graph.add_edge((y, x), (y-1, x))\n",
    "        if x < len_x-1 and map[y, x+1] == 0:\n",
    "            graph.add_edge((y, x), (y, x+1))\n",
    "        if y < len_y-1 and map[y+1, x] == 0:\n",
    "            graph.add_edge((y, x), (y+1, x))\n",
    "\n",
    "    check = nx.has_path(graph, (0, 0), (len_y - 1, len_x - 1))\n",
    "    if not check:\n",
    "        print(f\"{x_new},{y_new}\")\n",
    "        break\n",
    "    "
   ]
  }
 ],
 "metadata": {
  "kernelspec": {
   "display_name": ".venv",
   "language": "python",
   "name": "python3"
  },
  "language_info": {
   "codemirror_mode": {
    "name": "ipython",
    "version": 3
   },
   "file_extension": ".py",
   "mimetype": "text/x-python",
   "name": "python",
   "nbconvert_exporter": "python",
   "pygments_lexer": "ipython3",
   "version": "3.13.0"
  }
 },
 "nbformat": 4,
 "nbformat_minor": 2
}
