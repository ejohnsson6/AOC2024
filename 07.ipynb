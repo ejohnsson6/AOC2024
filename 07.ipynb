{
 "cells": [
  {
   "cell_type": "code",
   "execution_count": 139,
   "metadata": {},
   "outputs": [],
   "source": [
    "from pathlib import Path\n",
    "from utils.get_input import get_input\n",
    "from numba import njit\n",
    "\n",
    "\n",
    "inp = Path(\"./test_input\").read_text()\n",
    "inp = get_input(7)"
   ]
  },
  {
   "cell_type": "code",
   "execution_count": 131,
   "metadata": {},
   "outputs": [
    {
     "name": "stdout",
     "output_type": "stream",
     "text": [
      "729 μs ± 8.35 μs per loop (mean ± std. dev. of 7 runs, 1,000 loops each)\n"
     ]
    }
   ],
   "source": [
    "%%timeit\n",
    "# Structure input\n",
    "inp2 = inp.split(\"\\n\")\n",
    "inp3 = [(int((sp := x.split(\": \"))[0]), [int(xx) for xx in sp[1].split(\" \")]) for x in inp2]"
   ]
  },
  {
   "cell_type": "code",
   "execution_count": 149,
   "metadata": {},
   "outputs": [
    {
     "data": {
      "text/plain": [
       "1399219271639"
      ]
     },
     "execution_count": 149,
     "metadata": {},
     "output_type": "execute_result"
    }
   ],
   "source": [
    "\n",
    "def add(a, b):\n",
    "    return a + b\n",
    "\n",
    "\n",
    "def mul(a, b):\n",
    "    return a * b\n",
    "\n",
    "\n",
    "def recurse_find_g(g, c, xs):\n",
    "    c2 = xs[0]\n",
    "    for op in [add, mul]:\n",
    "        c_next = op(c, c2)\n",
    "        if c_next == g and len(xs) == 1:\n",
    "            return True\n",
    "        if c_next > g:\n",
    "            continue\n",
    "        if len(xs) > 1:\n",
    "            if recurse_find_g(g, c_next, xs[1:]):\n",
    "                return True\n",
    "    return False\n",
    "\n",
    "\n",
    "def part1():\n",
    "    sum = 0\n",
    "    for g, xs in inp3:\n",
    "        found = recurse_find_g(g, xs[0], xs[1:])\n",
    "        if found:\n",
    "            sum += g\n",
    "    return sum\n",
    "\n",
    "\n",
    "\n",
    "part1()"
   ]
  },
  {
   "cell_type": "code",
   "execution_count": 150,
   "metadata": {},
   "outputs": [
    {
     "name": "stdout",
     "output_type": "stream",
     "text": [
      "47.3 ms ± 1.22 ms per loop (mean ± std. dev. of 7 runs, 10 loops each)\n"
     ]
    }
   ],
   "source": [
    "%%timeit\n",
    "part1()"
   ]
  },
  {
   "cell_type": "code",
   "execution_count": null,
   "metadata": {},
   "outputs": [
    {
     "data": {
      "text/plain": [
       "139144167175584"
      ]
     },
     "execution_count": 156,
     "metadata": {},
     "output_type": "execute_result"
    }
   ],
   "source": [
    "import math\n",
    "\n",
    "\n",
    "def comb(a, b):\n",
    "    return a * 10 ** math.ceil(math.log10(b)) + b\n",
    "\n",
    "\n",
    "def recurse_find_g2(g, c, xs):\n",
    "    c2 = xs[0]\n",
    "    for op in [add, mul, comb]:\n",
    "        c_next = op(c, c2)\n",
    "        if c_next == g and len(xs) == 1:\n",
    "            return True\n",
    "        if c_next > g:\n",
    "            continue\n",
    "        if len(xs) > 1:\n",
    "            if recurse_find_g2(g, c_next, xs[1:]):\n",
    "                return True\n",
    "    return False\n",
    "\n",
    "\n",
    "def part2():\n",
    "    sum = 0\n",
    "    for g, xs in inp3:\n",
    "        found = recurse_find_g2(g, xs[0], xs[1:])\n",
    "        if found:\n",
    "            sum += g\n",
    "    return sum\n",
    "\n",
    "\n",
    "\n",
    "part2()"
   ]
  },
  {
   "cell_type": "code",
   "execution_count": 152,
   "metadata": {},
   "outputs": [
    {
     "name": "stdout",
     "output_type": "stream",
     "text": [
      "1.44 s ± 36.4 ms per loop (mean ± std. dev. of 7 runs, 1 loop each)\n"
     ]
    }
   ],
   "source": [
    "%%timeit\n",
    "part2()"
   ]
  }
 ],
 "metadata": {
  "kernelspec": {
   "display_name": ".venv",
   "language": "python",
   "name": "python3"
  },
  "language_info": {
   "codemirror_mode": {
    "name": "ipython",
    "version": 3
   },
   "file_extension": ".py",
   "mimetype": "text/x-python",
   "name": "python",
   "nbconvert_exporter": "python",
   "pygments_lexer": "ipython3",
   "version": "3.12.4"
  }
 },
 "nbformat": 4,
 "nbformat_minor": 2
}
