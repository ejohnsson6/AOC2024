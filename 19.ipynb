{
 "cells": [
  {
   "cell_type": "code",
   "execution_count": 2,
   "metadata": {},
   "outputs": [],
   "source": [
    "from pathlib import Path\n",
    "from utils.get_input import get_input\n",
    "import re\n",
    "\n",
    "inp = get_input(19)\n",
    "# inp = Path(\"./test_input\").read_text()\n",
    "inp;"
   ]
  },
  {
   "cell_type": "code",
   "execution_count": 4,
   "metadata": {},
   "outputs": [
    {
     "name": "stdout",
     "output_type": "stream",
     "text": [
      "50.3 μs ± 226 ns per loop (mean ± std. dev. of 7 runs, 10,000 loops each)\n"
     ]
    }
   ],
   "source": [
    "%%timeit\n",
    "types, paterns = inp.split(\"\\n\\n\")\n",
    "types = types.split(\", \")\n",
    "paterns = paterns.split(\"\\n\")\n",
    "types, paterns;"
   ]
  },
  {
   "cell_type": "code",
   "execution_count": 60,
   "metadata": {},
   "outputs": [
    {
     "data": {
      "text/plain": [
       "242"
      ]
     },
     "execution_count": 60,
     "metadata": {},
     "output_type": "execute_result"
    }
   ],
   "source": [
    "def part1():\n",
    "    re_types = re.compile(f\"({'|'.join(types)})*\")\n",
    "    sum = 0\n",
    "    for patern in paterns:\n",
    "        if re_types.fullmatch(patern):\n",
    "            sum += 1\n",
    "    return sum\n",
    "part1()"
   ]
  },
  {
   "cell_type": "code",
   "execution_count": 61,
   "metadata": {},
   "outputs": [
    {
     "name": "stdout",
     "output_type": "stream",
     "text": [
      "4.13 ms ± 14.5 μs per loop (mean ± std. dev. of 7 runs, 100 loops each)\n"
     ]
    }
   ],
   "source": [
    "%%timeit\n",
    "part1()"
   ]
  },
  {
   "cell_type": "code",
   "execution_count": null,
   "metadata": {},
   "outputs": [
    {
     "data": {
      "text/plain": [
       "595975512785325"
      ]
     },
     "execution_count": 64,
     "metadata": {},
     "output_type": "execute_result"
    }
   ],
   "source": [
    "from tqdm import tqdm\n",
    "from functools import cache\n",
    "\n",
    "def part2():\n",
    "\n",
    "    # Cache should be invalidated after each run since i redefine the function???\n",
    "    @cache\n",
    "    def rec_match(pattern):\n",
    "        if not re_types.fullmatch(patern):\n",
    "            return 0\n",
    "        if pattern == \"\":\n",
    "            return 1\n",
    "        sum = 0\n",
    "        for t in types:\n",
    "            if pattern.startswith(t):\n",
    "                sum += rec_match(pattern[len(t) :])\n",
    "        return sum\n",
    "\n",
    "\n",
    "    all_sum = 0\n",
    "    for patern in paterns:\n",
    "        all_sum += rec_match(patern)\n",
    "    return all_sum\n",
    "part2()"
   ]
  },
  {
   "cell_type": "code",
   "execution_count": 65,
   "metadata": {},
   "outputs": [
    {
     "name": "stdout",
     "output_type": "stream",
     "text": [
      "312 ms ± 19.6 ms per loop (mean ± std. dev. of 7 runs, 1 loop each)\n"
     ]
    }
   ],
   "source": [
    "%%timeit\n",
    "part2()"
   ]
  }
 ],
 "metadata": {
  "kernelspec": {
   "display_name": ".venv",
   "language": "python",
   "name": "python3"
  },
  "language_info": {
   "codemirror_mode": {
    "name": "ipython",
    "version": 3
   },
   "file_extension": ".py",
   "mimetype": "text/x-python",
   "name": "python",
   "nbconvert_exporter": "python",
   "pygments_lexer": "ipython3",
   "version": "3.13.0"
  }
 },
 "nbformat": 4,
 "nbformat_minor": 2
}
