{
 "cells": [
  {
   "cell_type": "code",
   "execution_count": 1,
   "metadata": {},
   "outputs": [],
   "source": [
    "from pathlib import Path\n",
    "import numpy as np\n",
    "from utils.get_input import get_input\n",
    "\n",
    "\n",
    "inp = Path(\"./test_input\").read_text()\n",
    "inp = get_input(12)\n",
    "inp;"
   ]
  },
  {
   "cell_type": "code",
   "execution_count": 2,
   "metadata": {},
   "outputs": [],
   "source": [
    "# %%timeit\n",
    "inp_np = np.array([list(x) for x in inp.split(\"\\n\") if x])\n",
    "inp_np;"
   ]
  },
  {
   "cell_type": "code",
   "execution_count": 3,
   "metadata": {},
   "outputs": [
    {
     "data": {
      "text/plain": [
       "1431440"
      ]
     },
     "execution_count": 3,
     "metadata": {},
     "output_type": "execute_result"
    }
   ],
   "source": [
    "def rec_add_to_set(set_p_pos, y, x, group_set):\n",
    "    if (y, x) in group_set:\n",
    "        return\n",
    "    group_set.add((y, x))\n",
    "    surrounding = [(y+1, x), (y-1, x), (y, x+1), (y, x-1)]\n",
    "\n",
    "    for y, x in surrounding:\n",
    "        if (y, x) in set_p_pos:\n",
    "            rec_add_to_set(set_p_pos, y, x, group_set)\n",
    "\n",
    "def find_ungrouped(grouped, set_p_pos):\n",
    "    ungrouped = set_p_pos - grouped\n",
    "    return list(ungrouped)[0]\n",
    "\n",
    "\n",
    "def find_groups(set_p_pos, p):\n",
    "    groups = {}\n",
    "    grouped = set()\n",
    "    len_p_pos = len(set_p_pos)\n",
    "    i = 0\n",
    "    while len(grouped) < len_p_pos:\n",
    "        group_name = f\"{p}{i}\"\n",
    "        group_set = set()\n",
    "        ex_ungrp = find_ungrouped(grouped, set_p_pos)\n",
    "        rec_add_to_set(set_p_pos, ex_ungrp[0], ex_ungrp[1], group_set)\n",
    "        grouped.update(group_set)\n",
    "        groups[group_name] = group_set\n",
    "        i += 1\n",
    "    return groups\n",
    "        \n",
    "def group_circumference(group_set):\n",
    "    sum = 0\n",
    "    for y, x in group_set:\n",
    "        surrounding = [(y+1, x), (y-1, x), (y, x+1), (y, x-1)]\n",
    "        for y, x in surrounding:\n",
    "            if (y, x) not in group_set:\n",
    "                sum += 1\n",
    "    return sum\n",
    "\n",
    "def part1():\n",
    "    plant_types = np.unique(inp_np)\n",
    "    all_groups = {}\n",
    "    for p in plant_types:\n",
    "        set_p_pos = set([ (y, x) for (y, x) in np.argwhere(inp_np == p)])\n",
    "        groups = find_groups(set_p_pos, p)\n",
    "        all_groups.update(groups)\n",
    "\n",
    "\n",
    "    sum_price = 0\n",
    "    for group in all_groups.values():\n",
    "        sum_price += group_circumference(group) * len(group)\n",
    "    return sum_price\n",
    "\n",
    "part1()\n"
   ]
  },
  {
   "cell_type": "code",
   "execution_count": 4,
   "metadata": {},
   "outputs": [
    {
     "name": "stdout",
     "output_type": "stream",
     "text": [
      "88.9 ms ± 1.31 ms per loop (mean ± std. dev. of 7 runs, 10 loops each)\n"
     ]
    }
   ],
   "source": [
    "%%timeit\n",
    "part1()"
   ]
  },
  {
   "cell_type": "code",
   "execution_count": 5,
   "metadata": {},
   "outputs": [
    {
     "data": {
      "text/plain": [
       "869070"
      ]
     },
     "execution_count": 5,
     "metadata": {},
     "output_type": "execute_result"
    }
   ],
   "source": [
    "def num_sides(group_set):\n",
    "    sum = 0\n",
    "    set_left = set()\n",
    "    set_right = set()\n",
    "    set_top = set()\n",
    "    set_bottom = set()\n",
    "    for y, x in group_set:\n",
    "        if (y, x-1) not in group_set:\n",
    "            set_left.add((y, x))\n",
    "        if (y, x+1) not in group_set:\n",
    "            set_right.add((y, x))\n",
    "        if (y-1, x) not in group_set:\n",
    "            set_top.add((y, x))\n",
    "        if (y+1, x) not in group_set:\n",
    "            set_bottom.add((y, x))\n",
    "\n",
    "    for y, x in set_left:\n",
    "        if (y - 1, x) not in set_left:\n",
    "            sum += 1\n",
    "    for y, x in set_right:\n",
    "        if (y - 1, x) not in set_right:\n",
    "            sum += 1\n",
    "    for y, x in set_top:\n",
    "        if (y, x - 1) not in set_top:\n",
    "            sum += 1\n",
    "    for y, x in set_bottom:\n",
    "        if (y, x - 1) not in set_bottom:\n",
    "            sum += 1\n",
    "\n",
    "    return sum\n",
    "\n",
    "def part2():\n",
    "    plant_types = np.unique(inp_np)\n",
    "    all_groups = {}\n",
    "    for p in plant_types:\n",
    "        set_p_pos = set([ (y, x) for (y, x) in np.argwhere(inp_np == p)])\n",
    "        groups = find_groups(set_p_pos, p)\n",
    "        all_groups.update(groups)\n",
    "\n",
    "    sum_price = 0\n",
    "    for group in all_groups.values():\n",
    "        sum_price += num_sides(group) * len(group)\n",
    "    return sum_price\n",
    "part2()"
   ]
  },
  {
   "cell_type": "code",
   "execution_count": 6,
   "metadata": {},
   "outputs": [
    {
     "name": "stdout",
     "output_type": "stream",
     "text": [
      "89.5 ms ± 1.42 ms per loop (mean ± std. dev. of 7 runs, 10 loops each)\n"
     ]
    }
   ],
   "source": [
    "%%timeit\n",
    "part2()"
   ]
  }
 ],
 "metadata": {
  "kernelspec": {
   "display_name": ".venv",
   "language": "python",
   "name": "python3"
  },
  "language_info": {
   "codemirror_mode": {
    "name": "ipython",
    "version": 3
   },
   "file_extension": ".py",
   "mimetype": "text/x-python",
   "name": "python",
   "nbconvert_exporter": "python",
   "pygments_lexer": "ipython3",
   "version": "3.13.0"
  }
 },
 "nbformat": 4,
 "nbformat_minor": 2
}
