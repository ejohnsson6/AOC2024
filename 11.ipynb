{
 "cells": [
  {
   "cell_type": "code",
   "execution_count": 48,
   "metadata": {},
   "outputs": [
    {
     "data": {
      "text/plain": [
       "'30 71441 3784 580926 2 8122942 0 291'"
      ]
     },
     "execution_count": 48,
     "metadata": {},
     "output_type": "execute_result"
    }
   ],
   "source": [
    "from pathlib import Path\n",
    "import numpy as np\n",
    "from utils.get_input import get_input\n",
    "\n",
    "\n",
    "inp = Path(\"./test_input\").read_text()\n",
    "inp = get_input(11)\n",
    "inp"
   ]
  },
  {
   "cell_type": "code",
   "execution_count": 59,
   "metadata": {},
   "outputs": [
    {
     "name": "stdout",
     "output_type": "stream",
     "text": [
      "575 ns ± 7.19 ns per loop (mean ± std. dev. of 7 runs, 1,000,000 loops each)\n"
     ]
    }
   ],
   "source": [
    "%%timeit\n",
    "stones = [int(x) for x in inp.split(\" \")]\n",
    "# stones"
   ]
  },
  {
   "cell_type": "code",
   "execution_count": null,
   "metadata": {},
   "outputs": [
    {
     "data": {
      "text/plain": [
       "191690"
      ]
     },
     "execution_count": 55,
     "metadata": {},
     "output_type": "execute_result"
    }
   ],
   "source": [
    "def blink_i_times(stones_c, i):\n",
    "    if i == 0:\n",
    "        return stones_c\n",
    "    new_stones = {}\n",
    "    for k, v in stones_c.items():\n",
    "        if v == 0:\n",
    "            continue\n",
    "        elif k == 0:\n",
    "            new_stones[1] = new_stones.get(1, 0) + v\n",
    "        elif len(s_str := str(k)) % 2 == 0:\n",
    "            len_half = len(s_str) // 2\n",
    "            left = int(s_str[:len_half])\n",
    "            right = int(s_str[len_half:])\n",
    "            new_stones[right] = new_stones.get(right, 0) + v\n",
    "            new_stones[left] = new_stones.get(left, 0) + v\n",
    "        else:\n",
    "            k_2024 = k * 2024\n",
    "            new_stones[k_2024] = new_stones.get(k_2024, 0) + v\n",
    "    return blink_i_times(new_stones, i - 1)\n",
    "\n",
    "def part1():\n",
    "    stones_c = {i: 1 for i in stones}\n",
    "    new_stones = blink_i_times(stones_c, 25)\n",
    "    return sum(new_stones.values())\n",
    "part1()"
   ]
  },
  {
   "cell_type": "code",
   "execution_count": 56,
   "metadata": {},
   "outputs": [
    {
     "name": "stdout",
     "output_type": "stream",
     "text": [
      "814 μs ± 24.1 μs per loop (mean ± std. dev. of 7 runs, 1,000 loops each)\n"
     ]
    }
   ],
   "source": [
    "%%timeit\n",
    "part1()"
   ]
  },
  {
   "cell_type": "code",
   "execution_count": null,
   "metadata": {},
   "outputs": [
    {
     "data": {
      "text/plain": [
       "228651922369703"
      ]
     },
     "execution_count": 57,
     "metadata": {},
     "output_type": "execute_result"
    }
   ],
   "source": [
    "# %%pyinstrument\n",
    "\n",
    "def part2():\n",
    "    stones_c = {i: 1 for i in stones}\n",
    "    new_stones = blink_i_times(stones_c, 75)\n",
    "    return sum(new_stones.values())\n",
    "part2()"
   ]
  },
  {
   "cell_type": "code",
   "execution_count": 58,
   "metadata": {},
   "outputs": [
    {
     "name": "stdout",
     "output_type": "stream",
     "text": [
      "39.8 ms ± 998 μs per loop (mean ± std. dev. of 7 runs, 10 loops each)\n"
     ]
    }
   ],
   "source": [
    "%%timeit\n",
    "part2()"
   ]
  }
 ],
 "metadata": {
  "kernelspec": {
   "display_name": ".venv",
   "language": "python",
   "name": "python3"
  },
  "language_info": {
   "codemirror_mode": {
    "name": "ipython",
    "version": 3
   },
   "file_extension": ".py",
   "mimetype": "text/x-python",
   "name": "python",
   "nbconvert_exporter": "python",
   "pygments_lexer": "ipython3",
   "version": "3.12.4"
  }
 },
 "nbformat": 4,
 "nbformat_minor": 2
}
